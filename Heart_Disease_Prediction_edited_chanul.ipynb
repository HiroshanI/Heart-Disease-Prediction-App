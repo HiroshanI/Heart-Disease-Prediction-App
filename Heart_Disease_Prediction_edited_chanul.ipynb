{
  "cells": [
    {
      "cell_type": "markdown",
      "metadata": {
        "id": "8JaOSiOr3ptt"
      },
      "source": [
        "# Data Collection"
      ]
    },
    {
      "cell_type": "markdown",
      "metadata": {
        "id": "m-XV38WYUnqi"
      },
      "source": [
        "Importing the dependencies"
      ]
    },
    {
      "cell_type": "code",
      "execution_count": 70,
      "metadata": {
        "id": "yLtlHuydghGF"
      },
      "outputs": [],
      "source": [
        "# Importing the libraries\n",
        "\n",
        "import pandas as pd\n",
        "import numpy as np\n",
        "import matplotlib.pyplot as plt\n",
        "import seaborn as sns"
      ]
    },
    {
      "cell_type": "code",
      "execution_count": 71,
      "metadata": {
        "colab": {
          "base_uri": "https://localhost:8080/",
          "height": 206
        },
        "id": "DvCzUVIdj0cQ",
        "outputId": "def2fbb7-ba32-4623-c688-94c80dc055ab"
      },
      "outputs": [
        {
          "data": {
            "text/html": [
              "\n",
              "  <div id=\"df-8fc7efb9-2c18-407e-80d0-7a53711df5d8\" class=\"colab-df-container\">\n",
              "    <div>\n",
              "<style scoped>\n",
              "    .dataframe tbody tr th:only-of-type {\n",
              "        vertical-align: middle;\n",
              "    }\n",
              "\n",
              "    .dataframe tbody tr th {\n",
              "        vertical-align: top;\n",
              "    }\n",
              "\n",
              "    .dataframe thead th {\n",
              "        text-align: right;\n",
              "    }\n",
              "</style>\n",
              "<table border=\"1\" class=\"dataframe\">\n",
              "  <thead>\n",
              "    <tr style=\"text-align: right;\">\n",
              "      <th></th>\n",
              "      <th>id</th>\n",
              "      <th>age</th>\n",
              "      <th>sex</th>\n",
              "      <th>dataset</th>\n",
              "      <th>cp</th>\n",
              "      <th>trestbps</th>\n",
              "      <th>chol</th>\n",
              "      <th>fbs</th>\n",
              "      <th>restecg</th>\n",
              "      <th>thalch</th>\n",
              "      <th>exang</th>\n",
              "      <th>oldpeak</th>\n",
              "      <th>slope</th>\n",
              "      <th>ca</th>\n",
              "      <th>thal</th>\n",
              "      <th>num</th>\n",
              "    </tr>\n",
              "  </thead>\n",
              "  <tbody>\n",
              "    <tr>\n",
              "      <th>0</th>\n",
              "      <td>1</td>\n",
              "      <td>63</td>\n",
              "      <td>Male</td>\n",
              "      <td>Cleveland</td>\n",
              "      <td>typical angina</td>\n",
              "      <td>145.0</td>\n",
              "      <td>233.0</td>\n",
              "      <td>True</td>\n",
              "      <td>lv hypertrophy</td>\n",
              "      <td>150.0</td>\n",
              "      <td>False</td>\n",
              "      <td>2.3</td>\n",
              "      <td>downsloping</td>\n",
              "      <td>0.0</td>\n",
              "      <td>fixed defect</td>\n",
              "      <td>0</td>\n",
              "    </tr>\n",
              "    <tr>\n",
              "      <th>1</th>\n",
              "      <td>2</td>\n",
              "      <td>67</td>\n",
              "      <td>Male</td>\n",
              "      <td>Cleveland</td>\n",
              "      <td>asymptomatic</td>\n",
              "      <td>160.0</td>\n",
              "      <td>286.0</td>\n",
              "      <td>False</td>\n",
              "      <td>lv hypertrophy</td>\n",
              "      <td>108.0</td>\n",
              "      <td>True</td>\n",
              "      <td>1.5</td>\n",
              "      <td>flat</td>\n",
              "      <td>3.0</td>\n",
              "      <td>normal</td>\n",
              "      <td>2</td>\n",
              "    </tr>\n",
              "    <tr>\n",
              "      <th>2</th>\n",
              "      <td>3</td>\n",
              "      <td>67</td>\n",
              "      <td>Male</td>\n",
              "      <td>Cleveland</td>\n",
              "      <td>asymptomatic</td>\n",
              "      <td>120.0</td>\n",
              "      <td>229.0</td>\n",
              "      <td>False</td>\n",
              "      <td>lv hypertrophy</td>\n",
              "      <td>129.0</td>\n",
              "      <td>True</td>\n",
              "      <td>2.6</td>\n",
              "      <td>flat</td>\n",
              "      <td>2.0</td>\n",
              "      <td>reversable defect</td>\n",
              "      <td>1</td>\n",
              "    </tr>\n",
              "    <tr>\n",
              "      <th>3</th>\n",
              "      <td>4</td>\n",
              "      <td>37</td>\n",
              "      <td>Male</td>\n",
              "      <td>Cleveland</td>\n",
              "      <td>non-anginal</td>\n",
              "      <td>130.0</td>\n",
              "      <td>250.0</td>\n",
              "      <td>False</td>\n",
              "      <td>normal</td>\n",
              "      <td>187.0</td>\n",
              "      <td>False</td>\n",
              "      <td>3.5</td>\n",
              "      <td>downsloping</td>\n",
              "      <td>0.0</td>\n",
              "      <td>normal</td>\n",
              "      <td>0</td>\n",
              "    </tr>\n",
              "    <tr>\n",
              "      <th>4</th>\n",
              "      <td>5</td>\n",
              "      <td>41</td>\n",
              "      <td>Female</td>\n",
              "      <td>Cleveland</td>\n",
              "      <td>atypical angina</td>\n",
              "      <td>130.0</td>\n",
              "      <td>204.0</td>\n",
              "      <td>False</td>\n",
              "      <td>lv hypertrophy</td>\n",
              "      <td>172.0</td>\n",
              "      <td>False</td>\n",
              "      <td>1.4</td>\n",
              "      <td>upsloping</td>\n",
              "      <td>0.0</td>\n",
              "      <td>normal</td>\n",
              "      <td>0</td>\n",
              "    </tr>\n",
              "  </tbody>\n",
              "</table>\n",
              "</div>\n",
              "    <div class=\"colab-df-buttons\">\n",
              "\n",
              "  <div class=\"colab-df-container\">\n",
              "    <button class=\"colab-df-convert\" onclick=\"convertToInteractive('df-8fc7efb9-2c18-407e-80d0-7a53711df5d8')\"\n",
              "            title=\"Convert this dataframe to an interactive table.\"\n",
              "            style=\"display:none;\">\n",
              "\n",
              "  <svg xmlns=\"http://www.w3.org/2000/svg\" height=\"24px\" viewBox=\"0 -960 960 960\">\n",
              "    <path d=\"M120-120v-720h720v720H120Zm60-500h600v-160H180v160Zm220 220h160v-160H400v160Zm0 220h160v-160H400v160ZM180-400h160v-160H180v160Zm440 0h160v-160H620v160ZM180-180h160v-160H180v160Zm440 0h160v-160H620v160Z\"/>\n",
              "  </svg>\n",
              "    </button>\n",
              "\n",
              "  <style>\n",
              "    .colab-df-container {\n",
              "      display:flex;\n",
              "      gap: 12px;\n",
              "    }\n",
              "\n",
              "    .colab-df-convert {\n",
              "      background-color: #E8F0FE;\n",
              "      border: none;\n",
              "      border-radius: 50%;\n",
              "      cursor: pointer;\n",
              "      display: none;\n",
              "      fill: #1967D2;\n",
              "      height: 32px;\n",
              "      padding: 0 0 0 0;\n",
              "      width: 32px;\n",
              "    }\n",
              "\n",
              "    .colab-df-convert:hover {\n",
              "      background-color: #E2EBFA;\n",
              "      box-shadow: 0px 1px 2px rgba(60, 64, 67, 0.3), 0px 1px 3px 1px rgba(60, 64, 67, 0.15);\n",
              "      fill: #174EA6;\n",
              "    }\n",
              "\n",
              "    .colab-df-buttons div {\n",
              "      margin-bottom: 4px;\n",
              "    }\n",
              "\n",
              "    [theme=dark] .colab-df-convert {\n",
              "      background-color: #3B4455;\n",
              "      fill: #D2E3FC;\n",
              "    }\n",
              "\n",
              "    [theme=dark] .colab-df-convert:hover {\n",
              "      background-color: #434B5C;\n",
              "      box-shadow: 0px 1px 3px 1px rgba(0, 0, 0, 0.15);\n",
              "      filter: drop-shadow(0px 1px 2px rgba(0, 0, 0, 0.3));\n",
              "      fill: #FFFFFF;\n",
              "    }\n",
              "  </style>\n",
              "\n",
              "    <script>\n",
              "      const buttonEl =\n",
              "        document.querySelector('#df-8fc7efb9-2c18-407e-80d0-7a53711df5d8 button.colab-df-convert');\n",
              "      buttonEl.style.display =\n",
              "        google.colab.kernel.accessAllowed ? 'block' : 'none';\n",
              "\n",
              "      async function convertToInteractive(key) {\n",
              "        const element = document.querySelector('#df-8fc7efb9-2c18-407e-80d0-7a53711df5d8');\n",
              "        const dataTable =\n",
              "          await google.colab.kernel.invokeFunction('convertToInteractive',\n",
              "                                                    [key], {});\n",
              "        if (!dataTable) return;\n",
              "\n",
              "        const docLinkHtml = 'Like what you see? Visit the ' +\n",
              "          '<a target=\"_blank\" href=https://colab.research.google.com/notebooks/data_table.ipynb>data table notebook</a>'\n",
              "          + ' to learn more about interactive tables.';\n",
              "        element.innerHTML = '';\n",
              "        dataTable['output_type'] = 'display_data';\n",
              "        await google.colab.output.renderOutput(dataTable, element);\n",
              "        const docLink = document.createElement('div');\n",
              "        docLink.innerHTML = docLinkHtml;\n",
              "        element.appendChild(docLink);\n",
              "      }\n",
              "    </script>\n",
              "  </div>\n",
              "\n",
              "\n",
              "<div id=\"df-aafffcac-83d5-4f1a-940a-13695f5882a8\">\n",
              "  <button class=\"colab-df-quickchart\" onclick=\"quickchart('df-aafffcac-83d5-4f1a-940a-13695f5882a8')\"\n",
              "            title=\"Suggest charts.\"\n",
              "            style=\"display:none;\">\n",
              "\n",
              "<svg xmlns=\"http://www.w3.org/2000/svg\" height=\"24px\"viewBox=\"0 0 24 24\"\n",
              "     width=\"24px\">\n",
              "    <g>\n",
              "        <path d=\"M19 3H5c-1.1 0-2 .9-2 2v14c0 1.1.9 2 2 2h14c1.1 0 2-.9 2-2V5c0-1.1-.9-2-2-2zM9 17H7v-7h2v7zm4 0h-2V7h2v10zm4 0h-2v-4h2v4z\"/>\n",
              "    </g>\n",
              "</svg>\n",
              "  </button>\n",
              "\n",
              "<style>\n",
              "  .colab-df-quickchart {\n",
              "      --bg-color: #E8F0FE;\n",
              "      --fill-color: #1967D2;\n",
              "      --hover-bg-color: #E2EBFA;\n",
              "      --hover-fill-color: #174EA6;\n",
              "      --disabled-fill-color: #AAA;\n",
              "      --disabled-bg-color: #DDD;\n",
              "  }\n",
              "\n",
              "  [theme=dark] .colab-df-quickchart {\n",
              "      --bg-color: #3B4455;\n",
              "      --fill-color: #D2E3FC;\n",
              "      --hover-bg-color: #434B5C;\n",
              "      --hover-fill-color: #FFFFFF;\n",
              "      --disabled-bg-color: #3B4455;\n",
              "      --disabled-fill-color: #666;\n",
              "  }\n",
              "\n",
              "  .colab-df-quickchart {\n",
              "    background-color: var(--bg-color);\n",
              "    border: none;\n",
              "    border-radius: 50%;\n",
              "    cursor: pointer;\n",
              "    display: none;\n",
              "    fill: var(--fill-color);\n",
              "    height: 32px;\n",
              "    padding: 0;\n",
              "    width: 32px;\n",
              "  }\n",
              "\n",
              "  .colab-df-quickchart:hover {\n",
              "    background-color: var(--hover-bg-color);\n",
              "    box-shadow: 0 1px 2px rgba(60, 64, 67, 0.3), 0 1px 3px 1px rgba(60, 64, 67, 0.15);\n",
              "    fill: var(--button-hover-fill-color);\n",
              "  }\n",
              "\n",
              "  .colab-df-quickchart-complete:disabled,\n",
              "  .colab-df-quickchart-complete:disabled:hover {\n",
              "    background-color: var(--disabled-bg-color);\n",
              "    fill: var(--disabled-fill-color);\n",
              "    box-shadow: none;\n",
              "  }\n",
              "\n",
              "  .colab-df-spinner {\n",
              "    border: 2px solid var(--fill-color);\n",
              "    border-color: transparent;\n",
              "    border-bottom-color: var(--fill-color);\n",
              "    animation:\n",
              "      spin 1s steps(1) infinite;\n",
              "  }\n",
              "\n",
              "  @keyframes spin {\n",
              "    0% {\n",
              "      border-color: transparent;\n",
              "      border-bottom-color: var(--fill-color);\n",
              "      border-left-color: var(--fill-color);\n",
              "    }\n",
              "    20% {\n",
              "      border-color: transparent;\n",
              "      border-left-color: var(--fill-color);\n",
              "      border-top-color: var(--fill-color);\n",
              "    }\n",
              "    30% {\n",
              "      border-color: transparent;\n",
              "      border-left-color: var(--fill-color);\n",
              "      border-top-color: var(--fill-color);\n",
              "      border-right-color: var(--fill-color);\n",
              "    }\n",
              "    40% {\n",
              "      border-color: transparent;\n",
              "      border-right-color: var(--fill-color);\n",
              "      border-top-color: var(--fill-color);\n",
              "    }\n",
              "    60% {\n",
              "      border-color: transparent;\n",
              "      border-right-color: var(--fill-color);\n",
              "    }\n",
              "    80% {\n",
              "      border-color: transparent;\n",
              "      border-right-color: var(--fill-color);\n",
              "      border-bottom-color: var(--fill-color);\n",
              "    }\n",
              "    90% {\n",
              "      border-color: transparent;\n",
              "      border-bottom-color: var(--fill-color);\n",
              "    }\n",
              "  }\n",
              "</style>\n",
              "\n",
              "  <script>\n",
              "    async function quickchart(key) {\n",
              "      const quickchartButtonEl =\n",
              "        document.querySelector('#' + key + ' button');\n",
              "      quickchartButtonEl.disabled = true;  // To prevent multiple clicks.\n",
              "      quickchartButtonEl.classList.add('colab-df-spinner');\n",
              "      try {\n",
              "        const charts = await google.colab.kernel.invokeFunction(\n",
              "            'suggestCharts', [key], {});\n",
              "      } catch (error) {\n",
              "        console.error('Error during call to suggestCharts:', error);\n",
              "      }\n",
              "      quickchartButtonEl.classList.remove('colab-df-spinner');\n",
              "      quickchartButtonEl.classList.add('colab-df-quickchart-complete');\n",
              "    }\n",
              "    (() => {\n",
              "      let quickchartButtonEl =\n",
              "        document.querySelector('#df-aafffcac-83d5-4f1a-940a-13695f5882a8 button');\n",
              "      quickchartButtonEl.style.display =\n",
              "        google.colab.kernel.accessAllowed ? 'block' : 'none';\n",
              "    })();\n",
              "  </script>\n",
              "</div>\n",
              "    </div>\n",
              "  </div>\n"
            ],
            "text/plain": [
              "   id  age     sex    dataset               cp  trestbps   chol    fbs  \\\n",
              "0   1   63    Male  Cleveland   typical angina     145.0  233.0   True   \n",
              "1   2   67    Male  Cleveland     asymptomatic     160.0  286.0  False   \n",
              "2   3   67    Male  Cleveland     asymptomatic     120.0  229.0  False   \n",
              "3   4   37    Male  Cleveland      non-anginal     130.0  250.0  False   \n",
              "4   5   41  Female  Cleveland  atypical angina     130.0  204.0  False   \n",
              "\n",
              "          restecg  thalch  exang  oldpeak        slope   ca  \\\n",
              "0  lv hypertrophy   150.0  False      2.3  downsloping  0.0   \n",
              "1  lv hypertrophy   108.0   True      1.5         flat  3.0   \n",
              "2  lv hypertrophy   129.0   True      2.6         flat  2.0   \n",
              "3          normal   187.0  False      3.5  downsloping  0.0   \n",
              "4  lv hypertrophy   172.0  False      1.4    upsloping  0.0   \n",
              "\n",
              "                thal  num  \n",
              "0       fixed defect    0  \n",
              "1             normal    2  \n",
              "2  reversable defect    1  \n",
              "3             normal    0  \n",
              "4             normal    0  "
            ]
          },
          "execution_count": 71,
          "metadata": {},
          "output_type": "execute_result"
        }
      ],
      "source": [
        "# Importing the dataset\n",
        "\n",
        "url=\"https://raw.githubusercontent.com/Thrinith/Heart_Disease_Prediction/main/heart_disease_uci.csv\"\n",
        "df=pd.read_csv(url)\n",
        "df.head()"
      ]
    },
    {
      "cell_type": "markdown",
      "metadata": {
        "id": "4Ea8P33Z3vt6"
      },
      "source": [
        "# Data Preprocessing"
      ]
    },
    {
      "cell_type": "markdown",
      "metadata": {
        "id": "n4X3av2134WF"
      },
      "source": [
        "Data Cleaning"
      ]
    },
    {
      "cell_type": "code",
      "execution_count": 72,
      "metadata": {
        "colab": {
          "base_uri": "https://localhost:8080/"
        },
        "id": "qBY9MC3mnu8c",
        "outputId": "c1dbf0b7-c38c-4fe3-da70-1c650d68edb4"
      },
      "outputs": [
        {
          "data": {
            "text/plain": [
              "id            0\n",
              "age           0\n",
              "sex           0\n",
              "dataset       0\n",
              "cp            0\n",
              "trestbps     59\n",
              "chol         30\n",
              "fbs          90\n",
              "restecg       2\n",
              "thalch       55\n",
              "exang        55\n",
              "oldpeak      62\n",
              "slope       309\n",
              "ca          611\n",
              "thal        486\n",
              "num           0\n",
              "dtype: int64"
            ]
          },
          "execution_count": 72,
          "metadata": {},
          "output_type": "execute_result"
        }
      ],
      "source": [
        "# Checking for null values\n",
        "\n",
        "df.isnull().sum()"
      ]
    },
    {
      "cell_type": "code",
      "execution_count": 73,
      "metadata": {
        "colab": {
          "base_uri": "https://localhost:8080/"
        },
        "id": "Fnmx2bNSpVbC",
        "outputId": "88c46ec0-7699-498f-d0a8-7e6aaf163e17"
      },
      "outputs": [
        {
          "name": "stdout",
          "output_type": "stream",
          "text": [
            "<class 'pandas.core.frame.DataFrame'>\n",
            "Int64Index: 299 entries, 0 to 748\n",
            "Data columns (total 16 columns):\n",
            " #   Column    Non-Null Count  Dtype  \n",
            "---  ------    --------------  -----  \n",
            " 0   id        299 non-null    int64  \n",
            " 1   age       299 non-null    int64  \n",
            " 2   sex       299 non-null    object \n",
            " 3   dataset   299 non-null    object \n",
            " 4   cp        299 non-null    object \n",
            " 5   trestbps  299 non-null    float64\n",
            " 6   chol      299 non-null    float64\n",
            " 7   fbs       299 non-null    object \n",
            " 8   restecg   299 non-null    object \n",
            " 9   thalch    299 non-null    float64\n",
            " 10  exang     299 non-null    object \n",
            " 11  oldpeak   299 non-null    float64\n",
            " 12  slope     299 non-null    object \n",
            " 13  ca        299 non-null    float64\n",
            " 14  thal      299 non-null    object \n",
            " 15  num       299 non-null    int64  \n",
            "dtypes: float64(5), int64(3), object(8)\n",
            "memory usage: 39.7+ KB\n"
          ]
        }
      ],
      "source": [
        "#Handling null values\n",
        "\n",
        "df.dropna(inplace = True)\n",
        "from sklearn.utils import shuffle\n",
        "data = shuffle(df)\n",
        "df.info()"
      ]
    },
    {
      "cell_type": "markdown",
      "metadata": {
        "id": "SqfiaCBDUHCT"
      },
      "source": [
        "Feature Engineering"
      ]
    },
    {
      "cell_type": "code",
      "execution_count": 74,
      "metadata": {
        "id": "JU3sXSBstP0g"
      },
      "outputs": [],
      "source": [
        "# There are some features with catgorical values.\n",
        "# So we have to do label encoding for them.\n",
        "# Also the original dataset contains the target as 0, 1, 2, 3, 4.\n",
        "# But for identifying simply the presence of disease, we will take binary classification.\n",
        "# With that view in mind, we will covert all the target features in the num column into 1/0."
      ]
    },
    {
      "cell_type": "code",
      "execution_count": 75,
      "metadata": {
        "colab": {
          "base_uri": "https://localhost:8080/",
          "height": 539
        },
        "id": "__Ckrx5vtwcA",
        "outputId": "677e713e-01dc-432d-ae4f-f07f4ff9ea1a"
      },
      "outputs": [
        {
          "data": {
            "text/html": [
              "\n",
              "  <div id=\"df-90caf685-498c-4e2d-9655-35fc060a333a\" class=\"colab-df-container\">\n",
              "    <div>\n",
              "<style scoped>\n",
              "    .dataframe tbody tr th:only-of-type {\n",
              "        vertical-align: middle;\n",
              "    }\n",
              "\n",
              "    .dataframe tbody tr th {\n",
              "        vertical-align: top;\n",
              "    }\n",
              "\n",
              "    .dataframe thead th {\n",
              "        text-align: right;\n",
              "    }\n",
              "</style>\n",
              "<table border=\"1\" class=\"dataframe\">\n",
              "  <thead>\n",
              "    <tr style=\"text-align: right;\">\n",
              "      <th></th>\n",
              "      <th>age</th>\n",
              "      <th>sex</th>\n",
              "      <th>chest_pain_type</th>\n",
              "      <th>resting_blood_pressure</th>\n",
              "      <th>cholesterol</th>\n",
              "      <th>fasting_blood_sugar</th>\n",
              "      <th>resting_electrocardiographic_results</th>\n",
              "      <th>max_heart_rate_achieved</th>\n",
              "      <th>exercise_induced_angina</th>\n",
              "      <th>st_depression</th>\n",
              "      <th>st_slope_type</th>\n",
              "      <th>num_major_vessels</th>\n",
              "      <th>thalassemia_type</th>\n",
              "      <th>target</th>\n",
              "    </tr>\n",
              "  </thead>\n",
              "  <tbody>\n",
              "    <tr>\n",
              "      <th>142</th>\n",
              "      <td>52</td>\n",
              "      <td>1</td>\n",
              "      <td>atypical_angina</td>\n",
              "      <td>128.0</td>\n",
              "      <td>205.0</td>\n",
              "      <td>1</td>\n",
              "      <td>normal</td>\n",
              "      <td>184.0</td>\n",
              "      <td>0</td>\n",
              "      <td>0.0</td>\n",
              "      <td>upsloping</td>\n",
              "      <td>0.0</td>\n",
              "      <td>normal</td>\n",
              "      <td>0</td>\n",
              "    </tr>\n",
              "    <tr>\n",
              "      <th>48</th>\n",
              "      <td>65</td>\n",
              "      <td>0</td>\n",
              "      <td>non-anginal</td>\n",
              "      <td>140.0</td>\n",
              "      <td>417.0</td>\n",
              "      <td>1</td>\n",
              "      <td>lv_hypertrophy</td>\n",
              "      <td>157.0</td>\n",
              "      <td>0</td>\n",
              "      <td>0.8</td>\n",
              "      <td>upsloping</td>\n",
              "      <td>1.0</td>\n",
              "      <td>normal</td>\n",
              "      <td>0</td>\n",
              "    </tr>\n",
              "    <tr>\n",
              "      <th>86</th>\n",
              "      <td>47</td>\n",
              "      <td>1</td>\n",
              "      <td>non-anginal</td>\n",
              "      <td>138.0</td>\n",
              "      <td>257.0</td>\n",
              "      <td>0</td>\n",
              "      <td>lv_hypertrophy</td>\n",
              "      <td>156.0</td>\n",
              "      <td>0</td>\n",
              "      <td>0.0</td>\n",
              "      <td>upsloping</td>\n",
              "      <td>0.0</td>\n",
              "      <td>normal</td>\n",
              "      <td>0</td>\n",
              "    </tr>\n",
              "    <tr>\n",
              "      <th>204</th>\n",
              "      <td>43</td>\n",
              "      <td>1</td>\n",
              "      <td>asymptomatic</td>\n",
              "      <td>110.0</td>\n",
              "      <td>211.0</td>\n",
              "      <td>0</td>\n",
              "      <td>normal</td>\n",
              "      <td>161.0</td>\n",
              "      <td>0</td>\n",
              "      <td>0.0</td>\n",
              "      <td>upsloping</td>\n",
              "      <td>0.0</td>\n",
              "      <td>reversable_defect</td>\n",
              "      <td>0</td>\n",
              "    </tr>\n",
              "    <tr>\n",
              "      <th>227</th>\n",
              "      <td>67</td>\n",
              "      <td>0</td>\n",
              "      <td>non-anginal</td>\n",
              "      <td>152.0</td>\n",
              "      <td>277.0</td>\n",
              "      <td>0</td>\n",
              "      <td>normal</td>\n",
              "      <td>172.0</td>\n",
              "      <td>0</td>\n",
              "      <td>0.0</td>\n",
              "      <td>upsloping</td>\n",
              "      <td>1.0</td>\n",
              "      <td>normal</td>\n",
              "      <td>0</td>\n",
              "    </tr>\n",
              "    <tr>\n",
              "      <th>248</th>\n",
              "      <td>52</td>\n",
              "      <td>1</td>\n",
              "      <td>asymptomatic</td>\n",
              "      <td>125.0</td>\n",
              "      <td>212.0</td>\n",
              "      <td>0</td>\n",
              "      <td>normal</td>\n",
              "      <td>168.0</td>\n",
              "      <td>0</td>\n",
              "      <td>1.0</td>\n",
              "      <td>upsloping</td>\n",
              "      <td>2.0</td>\n",
              "      <td>reversable_defect</td>\n",
              "      <td>1</td>\n",
              "    </tr>\n",
              "    <tr>\n",
              "      <th>294</th>\n",
              "      <td>63</td>\n",
              "      <td>0</td>\n",
              "      <td>asymptomatic</td>\n",
              "      <td>124.0</td>\n",
              "      <td>197.0</td>\n",
              "      <td>0</td>\n",
              "      <td>normal</td>\n",
              "      <td>136.0</td>\n",
              "      <td>1</td>\n",
              "      <td>0.0</td>\n",
              "      <td>flat</td>\n",
              "      <td>0.0</td>\n",
              "      <td>normal</td>\n",
              "      <td>1</td>\n",
              "    </tr>\n",
              "    <tr>\n",
              "      <th>174</th>\n",
              "      <td>64</td>\n",
              "      <td>1</td>\n",
              "      <td>asymptomatic</td>\n",
              "      <td>145.0</td>\n",
              "      <td>212.0</td>\n",
              "      <td>0</td>\n",
              "      <td>lv_hypertrophy</td>\n",
              "      <td>132.0</td>\n",
              "      <td>0</td>\n",
              "      <td>2.0</td>\n",
              "      <td>flat</td>\n",
              "      <td>2.0</td>\n",
              "      <td>fixed_defect</td>\n",
              "      <td>1</td>\n",
              "    </tr>\n",
              "    <tr>\n",
              "      <th>115</th>\n",
              "      <td>41</td>\n",
              "      <td>1</td>\n",
              "      <td>atypical_angina</td>\n",
              "      <td>135.0</td>\n",
              "      <td>203.0</td>\n",
              "      <td>0</td>\n",
              "      <td>normal</td>\n",
              "      <td>132.0</td>\n",
              "      <td>0</td>\n",
              "      <td>0.0</td>\n",
              "      <td>flat</td>\n",
              "      <td>0.0</td>\n",
              "      <td>fixed_defect</td>\n",
              "      <td>0</td>\n",
              "    </tr>\n",
              "    <tr>\n",
              "      <th>282</th>\n",
              "      <td>55</td>\n",
              "      <td>0</td>\n",
              "      <td>asymptomatic</td>\n",
              "      <td>128.0</td>\n",
              "      <td>205.0</td>\n",
              "      <td>0</td>\n",
              "      <td>stt_abnormality</td>\n",
              "      <td>130.0</td>\n",
              "      <td>1</td>\n",
              "      <td>2.0</td>\n",
              "      <td>flat</td>\n",
              "      <td>1.0</td>\n",
              "      <td>reversable_defect</td>\n",
              "      <td>1</td>\n",
              "    </tr>\n",
              "    <tr>\n",
              "      <th>71</th>\n",
              "      <td>67</td>\n",
              "      <td>1</td>\n",
              "      <td>asymptomatic</td>\n",
              "      <td>125.0</td>\n",
              "      <td>254.0</td>\n",
              "      <td>1</td>\n",
              "      <td>normal</td>\n",
              "      <td>163.0</td>\n",
              "      <td>0</td>\n",
              "      <td>0.2</td>\n",
              "      <td>flat</td>\n",
              "      <td>2.0</td>\n",
              "      <td>reversable_defect</td>\n",
              "      <td>1</td>\n",
              "    </tr>\n",
              "    <tr>\n",
              "      <th>252</th>\n",
              "      <td>64</td>\n",
              "      <td>1</td>\n",
              "      <td>asymptomatic</td>\n",
              "      <td>128.0</td>\n",
              "      <td>263.0</td>\n",
              "      <td>0</td>\n",
              "      <td>normal</td>\n",
              "      <td>105.0</td>\n",
              "      <td>1</td>\n",
              "      <td>0.2</td>\n",
              "      <td>flat</td>\n",
              "      <td>1.0</td>\n",
              "      <td>reversable_defect</td>\n",
              "      <td>0</td>\n",
              "    </tr>\n",
              "    <tr>\n",
              "      <th>229</th>\n",
              "      <td>66</td>\n",
              "      <td>1</td>\n",
              "      <td>asymptomatic</td>\n",
              "      <td>112.0</td>\n",
              "      <td>212.0</td>\n",
              "      <td>0</td>\n",
              "      <td>lv_hypertrophy</td>\n",
              "      <td>132.0</td>\n",
              "      <td>1</td>\n",
              "      <td>0.1</td>\n",
              "      <td>upsloping</td>\n",
              "      <td>1.0</td>\n",
              "      <td>normal</td>\n",
              "      <td>1</td>\n",
              "    </tr>\n",
              "    <tr>\n",
              "      <th>263</th>\n",
              "      <td>44</td>\n",
              "      <td>1</td>\n",
              "      <td>non-anginal</td>\n",
              "      <td>120.0</td>\n",
              "      <td>226.0</td>\n",
              "      <td>0</td>\n",
              "      <td>normal</td>\n",
              "      <td>169.0</td>\n",
              "      <td>0</td>\n",
              "      <td>0.0</td>\n",
              "      <td>upsloping</td>\n",
              "      <td>0.0</td>\n",
              "      <td>normal</td>\n",
              "      <td>0</td>\n",
              "    </tr>\n",
              "    <tr>\n",
              "      <th>148</th>\n",
              "      <td>45</td>\n",
              "      <td>1</td>\n",
              "      <td>atypical_angina</td>\n",
              "      <td>128.0</td>\n",
              "      <td>308.0</td>\n",
              "      <td>0</td>\n",
              "      <td>lv_hypertrophy</td>\n",
              "      <td>170.0</td>\n",
              "      <td>0</td>\n",
              "      <td>0.0</td>\n",
              "      <td>upsloping</td>\n",
              "      <td>0.0</td>\n",
              "      <td>normal</td>\n",
              "      <td>0</td>\n",
              "    </tr>\n",
              "  </tbody>\n",
              "</table>\n",
              "</div>\n",
              "    <div class=\"colab-df-buttons\">\n",
              "\n",
              "  <div class=\"colab-df-container\">\n",
              "    <button class=\"colab-df-convert\" onclick=\"convertToInteractive('df-90caf685-498c-4e2d-9655-35fc060a333a')\"\n",
              "            title=\"Convert this dataframe to an interactive table.\"\n",
              "            style=\"display:none;\">\n",
              "\n",
              "  <svg xmlns=\"http://www.w3.org/2000/svg\" height=\"24px\" viewBox=\"0 -960 960 960\">\n",
              "    <path d=\"M120-120v-720h720v720H120Zm60-500h600v-160H180v160Zm220 220h160v-160H400v160Zm0 220h160v-160H400v160ZM180-400h160v-160H180v160Zm440 0h160v-160H620v160ZM180-180h160v-160H180v160Zm440 0h160v-160H620v160Z\"/>\n",
              "  </svg>\n",
              "    </button>\n",
              "\n",
              "  <style>\n",
              "    .colab-df-container {\n",
              "      display:flex;\n",
              "      gap: 12px;\n",
              "    }\n",
              "\n",
              "    .colab-df-convert {\n",
              "      background-color: #E8F0FE;\n",
              "      border: none;\n",
              "      border-radius: 50%;\n",
              "      cursor: pointer;\n",
              "      display: none;\n",
              "      fill: #1967D2;\n",
              "      height: 32px;\n",
              "      padding: 0 0 0 0;\n",
              "      width: 32px;\n",
              "    }\n",
              "\n",
              "    .colab-df-convert:hover {\n",
              "      background-color: #E2EBFA;\n",
              "      box-shadow: 0px 1px 2px rgba(60, 64, 67, 0.3), 0px 1px 3px 1px rgba(60, 64, 67, 0.15);\n",
              "      fill: #174EA6;\n",
              "    }\n",
              "\n",
              "    .colab-df-buttons div {\n",
              "      margin-bottom: 4px;\n",
              "    }\n",
              "\n",
              "    [theme=dark] .colab-df-convert {\n",
              "      background-color: #3B4455;\n",
              "      fill: #D2E3FC;\n",
              "    }\n",
              "\n",
              "    [theme=dark] .colab-df-convert:hover {\n",
              "      background-color: #434B5C;\n",
              "      box-shadow: 0px 1px 3px 1px rgba(0, 0, 0, 0.15);\n",
              "      filter: drop-shadow(0px 1px 2px rgba(0, 0, 0, 0.3));\n",
              "      fill: #FFFFFF;\n",
              "    }\n",
              "  </style>\n",
              "\n",
              "    <script>\n",
              "      const buttonEl =\n",
              "        document.querySelector('#df-90caf685-498c-4e2d-9655-35fc060a333a button.colab-df-convert');\n",
              "      buttonEl.style.display =\n",
              "        google.colab.kernel.accessAllowed ? 'block' : 'none';\n",
              "\n",
              "      async function convertToInteractive(key) {\n",
              "        const element = document.querySelector('#df-90caf685-498c-4e2d-9655-35fc060a333a');\n",
              "        const dataTable =\n",
              "          await google.colab.kernel.invokeFunction('convertToInteractive',\n",
              "                                                    [key], {});\n",
              "        if (!dataTable) return;\n",
              "\n",
              "        const docLinkHtml = 'Like what you see? Visit the ' +\n",
              "          '<a target=\"_blank\" href=https://colab.research.google.com/notebooks/data_table.ipynb>data table notebook</a>'\n",
              "          + ' to learn more about interactive tables.';\n",
              "        element.innerHTML = '';\n",
              "        dataTable['output_type'] = 'display_data';\n",
              "        await google.colab.output.renderOutput(dataTable, element);\n",
              "        const docLink = document.createElement('div');\n",
              "        docLink.innerHTML = docLinkHtml;\n",
              "        element.appendChild(docLink);\n",
              "      }\n",
              "    </script>\n",
              "  </div>\n",
              "\n",
              "\n",
              "<div id=\"df-2df54eb6-2ce4-4690-aef4-79480e415c1d\">\n",
              "  <button class=\"colab-df-quickchart\" onclick=\"quickchart('df-2df54eb6-2ce4-4690-aef4-79480e415c1d')\"\n",
              "            title=\"Suggest charts.\"\n",
              "            style=\"display:none;\">\n",
              "\n",
              "<svg xmlns=\"http://www.w3.org/2000/svg\" height=\"24px\"viewBox=\"0 0 24 24\"\n",
              "     width=\"24px\">\n",
              "    <g>\n",
              "        <path d=\"M19 3H5c-1.1 0-2 .9-2 2v14c0 1.1.9 2 2 2h14c1.1 0 2-.9 2-2V5c0-1.1-.9-2-2-2zM9 17H7v-7h2v7zm4 0h-2V7h2v10zm4 0h-2v-4h2v4z\"/>\n",
              "    </g>\n",
              "</svg>\n",
              "  </button>\n",
              "\n",
              "<style>\n",
              "  .colab-df-quickchart {\n",
              "      --bg-color: #E8F0FE;\n",
              "      --fill-color: #1967D2;\n",
              "      --hover-bg-color: #E2EBFA;\n",
              "      --hover-fill-color: #174EA6;\n",
              "      --disabled-fill-color: #AAA;\n",
              "      --disabled-bg-color: #DDD;\n",
              "  }\n",
              "\n",
              "  [theme=dark] .colab-df-quickchart {\n",
              "      --bg-color: #3B4455;\n",
              "      --fill-color: #D2E3FC;\n",
              "      --hover-bg-color: #434B5C;\n",
              "      --hover-fill-color: #FFFFFF;\n",
              "      --disabled-bg-color: #3B4455;\n",
              "      --disabled-fill-color: #666;\n",
              "  }\n",
              "\n",
              "  .colab-df-quickchart {\n",
              "    background-color: var(--bg-color);\n",
              "    border: none;\n",
              "    border-radius: 50%;\n",
              "    cursor: pointer;\n",
              "    display: none;\n",
              "    fill: var(--fill-color);\n",
              "    height: 32px;\n",
              "    padding: 0;\n",
              "    width: 32px;\n",
              "  }\n",
              "\n",
              "  .colab-df-quickchart:hover {\n",
              "    background-color: var(--hover-bg-color);\n",
              "    box-shadow: 0 1px 2px rgba(60, 64, 67, 0.3), 0 1px 3px 1px rgba(60, 64, 67, 0.15);\n",
              "    fill: var(--button-hover-fill-color);\n",
              "  }\n",
              "\n",
              "  .colab-df-quickchart-complete:disabled,\n",
              "  .colab-df-quickchart-complete:disabled:hover {\n",
              "    background-color: var(--disabled-bg-color);\n",
              "    fill: var(--disabled-fill-color);\n",
              "    box-shadow: none;\n",
              "  }\n",
              "\n",
              "  .colab-df-spinner {\n",
              "    border: 2px solid var(--fill-color);\n",
              "    border-color: transparent;\n",
              "    border-bottom-color: var(--fill-color);\n",
              "    animation:\n",
              "      spin 1s steps(1) infinite;\n",
              "  }\n",
              "\n",
              "  @keyframes spin {\n",
              "    0% {\n",
              "      border-color: transparent;\n",
              "      border-bottom-color: var(--fill-color);\n",
              "      border-left-color: var(--fill-color);\n",
              "    }\n",
              "    20% {\n",
              "      border-color: transparent;\n",
              "      border-left-color: var(--fill-color);\n",
              "      border-top-color: var(--fill-color);\n",
              "    }\n",
              "    30% {\n",
              "      border-color: transparent;\n",
              "      border-left-color: var(--fill-color);\n",
              "      border-top-color: var(--fill-color);\n",
              "      border-right-color: var(--fill-color);\n",
              "    }\n",
              "    40% {\n",
              "      border-color: transparent;\n",
              "      border-right-color: var(--fill-color);\n",
              "      border-top-color: var(--fill-color);\n",
              "    }\n",
              "    60% {\n",
              "      border-color: transparent;\n",
              "      border-right-color: var(--fill-color);\n",
              "    }\n",
              "    80% {\n",
              "      border-color: transparent;\n",
              "      border-right-color: var(--fill-color);\n",
              "      border-bottom-color: var(--fill-color);\n",
              "    }\n",
              "    90% {\n",
              "      border-color: transparent;\n",
              "      border-bottom-color: var(--fill-color);\n",
              "    }\n",
              "  }\n",
              "</style>\n",
              "\n",
              "  <script>\n",
              "    async function quickchart(key) {\n",
              "      const quickchartButtonEl =\n",
              "        document.querySelector('#' + key + ' button');\n",
              "      quickchartButtonEl.disabled = true;  // To prevent multiple clicks.\n",
              "      quickchartButtonEl.classList.add('colab-df-spinner');\n",
              "      try {\n",
              "        const charts = await google.colab.kernel.invokeFunction(\n",
              "            'suggestCharts', [key], {});\n",
              "      } catch (error) {\n",
              "        console.error('Error during call to suggestCharts:', error);\n",
              "      }\n",
              "      quickchartButtonEl.classList.remove('colab-df-spinner');\n",
              "      quickchartButtonEl.classList.add('colab-df-quickchart-complete');\n",
              "    }\n",
              "    (() => {\n",
              "      let quickchartButtonEl =\n",
              "        document.querySelector('#df-2df54eb6-2ce4-4690-aef4-79480e415c1d button');\n",
              "      quickchartButtonEl.style.display =\n",
              "        google.colab.kernel.accessAllowed ? 'block' : 'none';\n",
              "    })();\n",
              "  </script>\n",
              "</div>\n",
              "    </div>\n",
              "  </div>\n"
            ],
            "text/plain": [
              "     age  sex  chest_pain_type  resting_blood_pressure  cholesterol  \\\n",
              "142   52    1  atypical_angina                   128.0        205.0   \n",
              "48    65    0      non-anginal                   140.0        417.0   \n",
              "86    47    1      non-anginal                   138.0        257.0   \n",
              "204   43    1     asymptomatic                   110.0        211.0   \n",
              "227   67    0      non-anginal                   152.0        277.0   \n",
              "248   52    1     asymptomatic                   125.0        212.0   \n",
              "294   63    0     asymptomatic                   124.0        197.0   \n",
              "174   64    1     asymptomatic                   145.0        212.0   \n",
              "115   41    1  atypical_angina                   135.0        203.0   \n",
              "282   55    0     asymptomatic                   128.0        205.0   \n",
              "71    67    1     asymptomatic                   125.0        254.0   \n",
              "252   64    1     asymptomatic                   128.0        263.0   \n",
              "229   66    1     asymptomatic                   112.0        212.0   \n",
              "263   44    1      non-anginal                   120.0        226.0   \n",
              "148   45    1  atypical_angina                   128.0        308.0   \n",
              "\n",
              "    fasting_blood_sugar resting_electrocardiographic_results  \\\n",
              "142                   1                               normal   \n",
              "48                    1                       lv_hypertrophy   \n",
              "86                    0                       lv_hypertrophy   \n",
              "204                   0                               normal   \n",
              "227                   0                               normal   \n",
              "248                   0                               normal   \n",
              "294                   0                               normal   \n",
              "174                   0                       lv_hypertrophy   \n",
              "115                   0                               normal   \n",
              "282                   0                      stt_abnormality   \n",
              "71                    1                               normal   \n",
              "252                   0                               normal   \n",
              "229                   0                       lv_hypertrophy   \n",
              "263                   0                               normal   \n",
              "148                   0                       lv_hypertrophy   \n",
              "\n",
              "     max_heart_rate_achieved exercise_induced_angina  st_depression  \\\n",
              "142                    184.0                       0            0.0   \n",
              "48                     157.0                       0            0.8   \n",
              "86                     156.0                       0            0.0   \n",
              "204                    161.0                       0            0.0   \n",
              "227                    172.0                       0            0.0   \n",
              "248                    168.0                       0            1.0   \n",
              "294                    136.0                       1            0.0   \n",
              "174                    132.0                       0            2.0   \n",
              "115                    132.0                       0            0.0   \n",
              "282                    130.0                       1            2.0   \n",
              "71                     163.0                       0            0.2   \n",
              "252                    105.0                       1            0.2   \n",
              "229                    132.0                       1            0.1   \n",
              "263                    169.0                       0            0.0   \n",
              "148                    170.0                       0            0.0   \n",
              "\n",
              "    st_slope_type  num_major_vessels   thalassemia_type  target  \n",
              "142     upsloping                0.0             normal       0  \n",
              "48      upsloping                1.0             normal       0  \n",
              "86      upsloping                0.0             normal       0  \n",
              "204     upsloping                0.0  reversable_defect       0  \n",
              "227     upsloping                1.0             normal       0  \n",
              "248     upsloping                2.0  reversable_defect       1  \n",
              "294          flat                0.0             normal       1  \n",
              "174          flat                2.0       fixed_defect       1  \n",
              "115          flat                0.0       fixed_defect       0  \n",
              "282          flat                1.0  reversable_defect       1  \n",
              "71           flat                2.0  reversable_defect       1  \n",
              "252          flat                1.0  reversable_defect       0  \n",
              "229     upsloping                1.0             normal       1  \n",
              "263     upsloping                0.0             normal       0  \n",
              "148     upsloping                0.0             normal       0  "
            ]
          },
          "execution_count": 75,
          "metadata": {},
          "output_type": "execute_result"
        }
      ],
      "source": [
        "# In some of the features, there is space which will create problem later on.\n",
        "# So first we rename those attributes to handle problems in the future.\n",
        "\n",
        "data[\"restecg\"].replace({\"lv hypertrophy\": \"lv_hypertrophy\",\"st-t abnormality\": \"stt_abnormality\" }, inplace=True)\n",
        "data['thal'].replace({'fixed defect':'fixed_defect' , 'reversable defect': 'reversable_defect' }, inplace =True)\n",
        "data['cp'].replace({'typical angina':'typical_angina', 'atypical angina': 'atypical_angina' }, inplace =True)\n",
        "\n",
        "df = data[['age','sex','cp', 'trestbps', 'chol', 'fbs', 'restecg', 'thalch', 'exang', 'oldpeak', 'slope', 'ca', 'thal']].copy()\n",
        "df['target'] = ((data['num'] > 0)*1).copy()\n",
        "df['sex'] = (data['sex'] == 'Male')*1\n",
        "df['fbs'] = (data['fbs'])*1\n",
        "df['exang'] = (data['exang'])*1\n",
        "\n",
        "df.columns = ['age', 'sex', 'chest_pain_type', 'resting_blood_pressure',\n",
        "              'cholesterol', 'fasting_blood_sugar', 'resting_electrocardiographic_results',\n",
        "              'max_heart_rate_achieved', 'exercise_induced_angina',\n",
        "              'st_depression', 'st_slope_type', 'num_major_vessels',\n",
        "              'thalassemia_type', 'target']\n",
        "df.head(15)"
      ]
    },
    {
      "cell_type": "markdown",
      "metadata": {
        "id": "b1vxQJjcsQGU"
      },
      "source": [
        "Label encoding for categorical variables"
      ]
    },
    {
      "cell_type": "code",
      "execution_count": 76,
      "metadata": {
        "colab": {
          "base_uri": "https://localhost:8080/"
        },
        "id": "6U_IG4zyFjnC",
        "outputId": "f31419ec-cb08-4131-8e65-34cd7f614c19"
      },
      "outputs": [
        {
          "data": {
            "text/plain": [
              "asymptomatic       144\n",
              "non-anginal         83\n",
              "atypical_angina     49\n",
              "typical_angina      23\n",
              "Name: chest_pain_type, dtype: int64"
            ]
          },
          "execution_count": 76,
          "metadata": {},
          "output_type": "execute_result"
        }
      ],
      "source": [
        "df['chest_pain_type'].value_counts()"
      ]
    },
    {
      "cell_type": "code",
      "execution_count": 77,
      "metadata": {
        "colab": {
          "base_uri": "https://localhost:8080/"
        },
        "id": "i0fHl3VuFyXz",
        "outputId": "487c1b35-3aa5-4fa1-b983-029b786ff66b"
      },
      "outputs": [
        {
          "data": {
            "text/plain": [
              "1    144\n",
              "2     83\n",
              "3     49\n",
              "0     23\n",
              "Name: chest_pain_type, dtype: int64"
            ]
          },
          "execution_count": 77,
          "metadata": {},
          "output_type": "execute_result"
        }
      ],
      "source": [
        "df['chest_pain_type']=df['chest_pain_type'].apply(lambda x:0 if x== 'typical_angina' else 1 if x=='asymptomatic'else 2 if x=='non-anginal'else 3)\n",
        "df['chest_pain_type'].value_counts()"
      ]
    },
    {
      "cell_type": "code",
      "execution_count": 78,
      "metadata": {
        "colab": {
          "base_uri": "https://localhost:8080/"
        },
        "id": "43TJ0eO6KNfV",
        "outputId": "5b453319-dadf-404a-fec1-87e84c38b1cb"
      },
      "outputs": [
        {
          "data": {
            "text/plain": [
              "normal             149\n",
              "lv_hypertrophy     146\n",
              "stt_abnormality      4\n",
              "Name: resting_electrocardiographic_results, dtype: int64"
            ]
          },
          "execution_count": 78,
          "metadata": {},
          "output_type": "execute_result"
        }
      ],
      "source": [
        "df['resting_electrocardiographic_results'].value_counts()"
      ]
    },
    {
      "cell_type": "code",
      "execution_count": 79,
      "metadata": {
        "colab": {
          "base_uri": "https://localhost:8080/"
        },
        "id": "4X9nO0f9KVn3",
        "outputId": "93da8bf0-d15b-4e61-89ca-af8f8eba0133"
      },
      "outputs": [
        {
          "data": {
            "text/plain": [
              "1    149\n",
              "0    146\n",
              "2      4\n",
              "Name: resting_electrocardiographic_results, dtype: int64"
            ]
          },
          "execution_count": 79,
          "metadata": {},
          "output_type": "execute_result"
        }
      ],
      "source": [
        "df['resting_electrocardiographic_results']=df['resting_electrocardiographic_results'].apply(lambda x:0 if x== 'lv_hypertrophy' else 1 if x=='normal'else 2)\n",
        "df['resting_electrocardiographic_results'].value_counts()"
      ]
    },
    {
      "cell_type": "code",
      "execution_count": 80,
      "metadata": {
        "colab": {
          "base_uri": "https://localhost:8080/"
        },
        "id": "wzvd03nuKa9C",
        "outputId": "df349e49-14cc-4e2f-82fe-32c857f135c5"
      },
      "outputs": [
        {
          "data": {
            "text/plain": [
              "upsloping      139\n",
              "flat           139\n",
              "downsloping     21\n",
              "Name: st_slope_type, dtype: int64"
            ]
          },
          "execution_count": 80,
          "metadata": {},
          "output_type": "execute_result"
        }
      ],
      "source": [
        "df['st_slope_type'].value_counts()"
      ]
    },
    {
      "cell_type": "code",
      "execution_count": 81,
      "metadata": {
        "colab": {
          "base_uri": "https://localhost:8080/"
        },
        "id": "oDVB9gfRKeLy",
        "outputId": "0ec4c990-f340-49d9-ce2b-f0c150dc9d80"
      },
      "outputs": [
        {
          "data": {
            "text/plain": [
              "2    139\n",
              "1    139\n",
              "0     21\n",
              "Name: st_slope_type, dtype: int64"
            ]
          },
          "execution_count": 81,
          "metadata": {},
          "output_type": "execute_result"
        }
      ],
      "source": [
        "df['st_slope_type']=df['st_slope_type'].apply(lambda x:0 if x== 'downsloping' else 1 if x=='flat'else 2)\n",
        "df['st_slope_type'].value_counts()"
      ]
    },
    {
      "cell_type": "code",
      "execution_count": 82,
      "metadata": {
        "colab": {
          "base_uri": "https://localhost:8080/"
        },
        "id": "UT_5e6fVKhxR",
        "outputId": "e3b5712f-1737-4058-c632-ff971fc04876"
      },
      "outputs": [
        {
          "data": {
            "text/plain": [
              "normal               164\n",
              "reversable_defect    117\n",
              "fixed_defect          18\n",
              "Name: thalassemia_type, dtype: int64"
            ]
          },
          "execution_count": 82,
          "metadata": {},
          "output_type": "execute_result"
        }
      ],
      "source": [
        "df['thalassemia_type'].value_counts()"
      ]
    },
    {
      "cell_type": "code",
      "execution_count": 83,
      "metadata": {
        "colab": {
          "base_uri": "https://localhost:8080/"
        },
        "id": "8QLGU5GnKkVB",
        "outputId": "bc65ea75-3f80-4d98-c242-100b14ab43ce"
      },
      "outputs": [
        {
          "data": {
            "text/plain": [
              "1    164\n",
              "2    117\n",
              "0     18\n",
              "Name: thalassemia_type, dtype: int64"
            ]
          },
          "execution_count": 83,
          "metadata": {},
          "output_type": "execute_result"
        }
      ],
      "source": [
        "df['thalassemia_type']=df['thalassemia_type'].apply(lambda x:0 if x== 'fixed_defect' else 1 if x=='normal'else 2)\n",
        "df['thalassemia_type'].value_counts()"
      ]
    },
    {
      "cell_type": "code",
      "execution_count": 84,
      "metadata": {
        "colab": {
          "base_uri": "https://localhost:8080/",
          "height": 226
        },
        "id": "3tAspwfIzcIz",
        "outputId": "1c8e5826-1f4a-4317-9f06-9809f58787ce"
      },
      "outputs": [
        {
          "data": {
            "text/html": [
              "\n",
              "  <div id=\"df-efb373e5-ec74-428d-beb6-f337365c5981\" class=\"colab-df-container\">\n",
              "    <div>\n",
              "<style scoped>\n",
              "    .dataframe tbody tr th:only-of-type {\n",
              "        vertical-align: middle;\n",
              "    }\n",
              "\n",
              "    .dataframe tbody tr th {\n",
              "        vertical-align: top;\n",
              "    }\n",
              "\n",
              "    .dataframe thead th {\n",
              "        text-align: right;\n",
              "    }\n",
              "</style>\n",
              "<table border=\"1\" class=\"dataframe\">\n",
              "  <thead>\n",
              "    <tr style=\"text-align: right;\">\n",
              "      <th></th>\n",
              "      <th>age</th>\n",
              "      <th>sex</th>\n",
              "      <th>chest_pain_type</th>\n",
              "      <th>resting_blood_pressure</th>\n",
              "      <th>cholesterol</th>\n",
              "      <th>fasting_blood_sugar</th>\n",
              "      <th>resting_electrocardiographic_results</th>\n",
              "      <th>max_heart_rate_achieved</th>\n",
              "      <th>exercise_induced_angina</th>\n",
              "      <th>st_depression</th>\n",
              "      <th>st_slope_type</th>\n",
              "      <th>num_major_vessels</th>\n",
              "      <th>thalassemia_type</th>\n",
              "      <th>target</th>\n",
              "    </tr>\n",
              "  </thead>\n",
              "  <tbody>\n",
              "    <tr>\n",
              "      <th>142</th>\n",
              "      <td>52</td>\n",
              "      <td>1</td>\n",
              "      <td>3</td>\n",
              "      <td>128.0</td>\n",
              "      <td>205.0</td>\n",
              "      <td>1</td>\n",
              "      <td>1</td>\n",
              "      <td>184.0</td>\n",
              "      <td>0</td>\n",
              "      <td>0.0</td>\n",
              "      <td>2</td>\n",
              "      <td>0.0</td>\n",
              "      <td>1</td>\n",
              "      <td>0</td>\n",
              "    </tr>\n",
              "    <tr>\n",
              "      <th>48</th>\n",
              "      <td>65</td>\n",
              "      <td>0</td>\n",
              "      <td>2</td>\n",
              "      <td>140.0</td>\n",
              "      <td>417.0</td>\n",
              "      <td>1</td>\n",
              "      <td>0</td>\n",
              "      <td>157.0</td>\n",
              "      <td>0</td>\n",
              "      <td>0.8</td>\n",
              "      <td>2</td>\n",
              "      <td>1.0</td>\n",
              "      <td>1</td>\n",
              "      <td>0</td>\n",
              "    </tr>\n",
              "    <tr>\n",
              "      <th>86</th>\n",
              "      <td>47</td>\n",
              "      <td>1</td>\n",
              "      <td>2</td>\n",
              "      <td>138.0</td>\n",
              "      <td>257.0</td>\n",
              "      <td>0</td>\n",
              "      <td>0</td>\n",
              "      <td>156.0</td>\n",
              "      <td>0</td>\n",
              "      <td>0.0</td>\n",
              "      <td>2</td>\n",
              "      <td>0.0</td>\n",
              "      <td>1</td>\n",
              "      <td>0</td>\n",
              "    </tr>\n",
              "    <tr>\n",
              "      <th>204</th>\n",
              "      <td>43</td>\n",
              "      <td>1</td>\n",
              "      <td>1</td>\n",
              "      <td>110.0</td>\n",
              "      <td>211.0</td>\n",
              "      <td>0</td>\n",
              "      <td>1</td>\n",
              "      <td>161.0</td>\n",
              "      <td>0</td>\n",
              "      <td>0.0</td>\n",
              "      <td>2</td>\n",
              "      <td>0.0</td>\n",
              "      <td>2</td>\n",
              "      <td>0</td>\n",
              "    </tr>\n",
              "    <tr>\n",
              "      <th>227</th>\n",
              "      <td>67</td>\n",
              "      <td>0</td>\n",
              "      <td>2</td>\n",
              "      <td>152.0</td>\n",
              "      <td>277.0</td>\n",
              "      <td>0</td>\n",
              "      <td>1</td>\n",
              "      <td>172.0</td>\n",
              "      <td>0</td>\n",
              "      <td>0.0</td>\n",
              "      <td>2</td>\n",
              "      <td>1.0</td>\n",
              "      <td>1</td>\n",
              "      <td>0</td>\n",
              "    </tr>\n",
              "  </tbody>\n",
              "</table>\n",
              "</div>\n",
              "    <div class=\"colab-df-buttons\">\n",
              "\n",
              "  <div class=\"colab-df-container\">\n",
              "    <button class=\"colab-df-convert\" onclick=\"convertToInteractive('df-efb373e5-ec74-428d-beb6-f337365c5981')\"\n",
              "            title=\"Convert this dataframe to an interactive table.\"\n",
              "            style=\"display:none;\">\n",
              "\n",
              "  <svg xmlns=\"http://www.w3.org/2000/svg\" height=\"24px\" viewBox=\"0 -960 960 960\">\n",
              "    <path d=\"M120-120v-720h720v720H120Zm60-500h600v-160H180v160Zm220 220h160v-160H400v160Zm0 220h160v-160H400v160ZM180-400h160v-160H180v160Zm440 0h160v-160H620v160ZM180-180h160v-160H180v160Zm440 0h160v-160H620v160Z\"/>\n",
              "  </svg>\n",
              "    </button>\n",
              "\n",
              "  <style>\n",
              "    .colab-df-container {\n",
              "      display:flex;\n",
              "      gap: 12px;\n",
              "    }\n",
              "\n",
              "    .colab-df-convert {\n",
              "      background-color: #E8F0FE;\n",
              "      border: none;\n",
              "      border-radius: 50%;\n",
              "      cursor: pointer;\n",
              "      display: none;\n",
              "      fill: #1967D2;\n",
              "      height: 32px;\n",
              "      padding: 0 0 0 0;\n",
              "      width: 32px;\n",
              "    }\n",
              "\n",
              "    .colab-df-convert:hover {\n",
              "      background-color: #E2EBFA;\n",
              "      box-shadow: 0px 1px 2px rgba(60, 64, 67, 0.3), 0px 1px 3px 1px rgba(60, 64, 67, 0.15);\n",
              "      fill: #174EA6;\n",
              "    }\n",
              "\n",
              "    .colab-df-buttons div {\n",
              "      margin-bottom: 4px;\n",
              "    }\n",
              "\n",
              "    [theme=dark] .colab-df-convert {\n",
              "      background-color: #3B4455;\n",
              "      fill: #D2E3FC;\n",
              "    }\n",
              "\n",
              "    [theme=dark] .colab-df-convert:hover {\n",
              "      background-color: #434B5C;\n",
              "      box-shadow: 0px 1px 3px 1px rgba(0, 0, 0, 0.15);\n",
              "      filter: drop-shadow(0px 1px 2px rgba(0, 0, 0, 0.3));\n",
              "      fill: #FFFFFF;\n",
              "    }\n",
              "  </style>\n",
              "\n",
              "    <script>\n",
              "      const buttonEl =\n",
              "        document.querySelector('#df-efb373e5-ec74-428d-beb6-f337365c5981 button.colab-df-convert');\n",
              "      buttonEl.style.display =\n",
              "        google.colab.kernel.accessAllowed ? 'block' : 'none';\n",
              "\n",
              "      async function convertToInteractive(key) {\n",
              "        const element = document.querySelector('#df-efb373e5-ec74-428d-beb6-f337365c5981');\n",
              "        const dataTable =\n",
              "          await google.colab.kernel.invokeFunction('convertToInteractive',\n",
              "                                                    [key], {});\n",
              "        if (!dataTable) return;\n",
              "\n",
              "        const docLinkHtml = 'Like what you see? Visit the ' +\n",
              "          '<a target=\"_blank\" href=https://colab.research.google.com/notebooks/data_table.ipynb>data table notebook</a>'\n",
              "          + ' to learn more about interactive tables.';\n",
              "        element.innerHTML = '';\n",
              "        dataTable['output_type'] = 'display_data';\n",
              "        await google.colab.output.renderOutput(dataTable, element);\n",
              "        const docLink = document.createElement('div');\n",
              "        docLink.innerHTML = docLinkHtml;\n",
              "        element.appendChild(docLink);\n",
              "      }\n",
              "    </script>\n",
              "  </div>\n",
              "\n",
              "\n",
              "<div id=\"df-5baecb42-3efb-43c7-b121-0eea9820f74c\">\n",
              "  <button class=\"colab-df-quickchart\" onclick=\"quickchart('df-5baecb42-3efb-43c7-b121-0eea9820f74c')\"\n",
              "            title=\"Suggest charts.\"\n",
              "            style=\"display:none;\">\n",
              "\n",
              "<svg xmlns=\"http://www.w3.org/2000/svg\" height=\"24px\"viewBox=\"0 0 24 24\"\n",
              "     width=\"24px\">\n",
              "    <g>\n",
              "        <path d=\"M19 3H5c-1.1 0-2 .9-2 2v14c0 1.1.9 2 2 2h14c1.1 0 2-.9 2-2V5c0-1.1-.9-2-2-2zM9 17H7v-7h2v7zm4 0h-2V7h2v10zm4 0h-2v-4h2v4z\"/>\n",
              "    </g>\n",
              "</svg>\n",
              "  </button>\n",
              "\n",
              "<style>\n",
              "  .colab-df-quickchart {\n",
              "      --bg-color: #E8F0FE;\n",
              "      --fill-color: #1967D2;\n",
              "      --hover-bg-color: #E2EBFA;\n",
              "      --hover-fill-color: #174EA6;\n",
              "      --disabled-fill-color: #AAA;\n",
              "      --disabled-bg-color: #DDD;\n",
              "  }\n",
              "\n",
              "  [theme=dark] .colab-df-quickchart {\n",
              "      --bg-color: #3B4455;\n",
              "      --fill-color: #D2E3FC;\n",
              "      --hover-bg-color: #434B5C;\n",
              "      --hover-fill-color: #FFFFFF;\n",
              "      --disabled-bg-color: #3B4455;\n",
              "      --disabled-fill-color: #666;\n",
              "  }\n",
              "\n",
              "  .colab-df-quickchart {\n",
              "    background-color: var(--bg-color);\n",
              "    border: none;\n",
              "    border-radius: 50%;\n",
              "    cursor: pointer;\n",
              "    display: none;\n",
              "    fill: var(--fill-color);\n",
              "    height: 32px;\n",
              "    padding: 0;\n",
              "    width: 32px;\n",
              "  }\n",
              "\n",
              "  .colab-df-quickchart:hover {\n",
              "    background-color: var(--hover-bg-color);\n",
              "    box-shadow: 0 1px 2px rgba(60, 64, 67, 0.3), 0 1px 3px 1px rgba(60, 64, 67, 0.15);\n",
              "    fill: var(--button-hover-fill-color);\n",
              "  }\n",
              "\n",
              "  .colab-df-quickchart-complete:disabled,\n",
              "  .colab-df-quickchart-complete:disabled:hover {\n",
              "    background-color: var(--disabled-bg-color);\n",
              "    fill: var(--disabled-fill-color);\n",
              "    box-shadow: none;\n",
              "  }\n",
              "\n",
              "  .colab-df-spinner {\n",
              "    border: 2px solid var(--fill-color);\n",
              "    border-color: transparent;\n",
              "    border-bottom-color: var(--fill-color);\n",
              "    animation:\n",
              "      spin 1s steps(1) infinite;\n",
              "  }\n",
              "\n",
              "  @keyframes spin {\n",
              "    0% {\n",
              "      border-color: transparent;\n",
              "      border-bottom-color: var(--fill-color);\n",
              "      border-left-color: var(--fill-color);\n",
              "    }\n",
              "    20% {\n",
              "      border-color: transparent;\n",
              "      border-left-color: var(--fill-color);\n",
              "      border-top-color: var(--fill-color);\n",
              "    }\n",
              "    30% {\n",
              "      border-color: transparent;\n",
              "      border-left-color: var(--fill-color);\n",
              "      border-top-color: var(--fill-color);\n",
              "      border-right-color: var(--fill-color);\n",
              "    }\n",
              "    40% {\n",
              "      border-color: transparent;\n",
              "      border-right-color: var(--fill-color);\n",
              "      border-top-color: var(--fill-color);\n",
              "    }\n",
              "    60% {\n",
              "      border-color: transparent;\n",
              "      border-right-color: var(--fill-color);\n",
              "    }\n",
              "    80% {\n",
              "      border-color: transparent;\n",
              "      border-right-color: var(--fill-color);\n",
              "      border-bottom-color: var(--fill-color);\n",
              "    }\n",
              "    90% {\n",
              "      border-color: transparent;\n",
              "      border-bottom-color: var(--fill-color);\n",
              "    }\n",
              "  }\n",
              "</style>\n",
              "\n",
              "  <script>\n",
              "    async function quickchart(key) {\n",
              "      const quickchartButtonEl =\n",
              "        document.querySelector('#' + key + ' button');\n",
              "      quickchartButtonEl.disabled = true;  // To prevent multiple clicks.\n",
              "      quickchartButtonEl.classList.add('colab-df-spinner');\n",
              "      try {\n",
              "        const charts = await google.colab.kernel.invokeFunction(\n",
              "            'suggestCharts', [key], {});\n",
              "      } catch (error) {\n",
              "        console.error('Error during call to suggestCharts:', error);\n",
              "      }\n",
              "      quickchartButtonEl.classList.remove('colab-df-spinner');\n",
              "      quickchartButtonEl.classList.add('colab-df-quickchart-complete');\n",
              "    }\n",
              "    (() => {\n",
              "      let quickchartButtonEl =\n",
              "        document.querySelector('#df-5baecb42-3efb-43c7-b121-0eea9820f74c button');\n",
              "      quickchartButtonEl.style.display =\n",
              "        google.colab.kernel.accessAllowed ? 'block' : 'none';\n",
              "    })();\n",
              "  </script>\n",
              "</div>\n",
              "    </div>\n",
              "  </div>\n"
            ],
            "text/plain": [
              "     age  sex  chest_pain_type  resting_blood_pressure  cholesterol  \\\n",
              "142   52    1                3                   128.0        205.0   \n",
              "48    65    0                2                   140.0        417.0   \n",
              "86    47    1                2                   138.0        257.0   \n",
              "204   43    1                1                   110.0        211.0   \n",
              "227   67    0                2                   152.0        277.0   \n",
              "\n",
              "    fasting_blood_sugar  resting_electrocardiographic_results  \\\n",
              "142                   1                                     1   \n",
              "48                    1                                     0   \n",
              "86                    0                                     0   \n",
              "204                   0                                     1   \n",
              "227                   0                                     1   \n",
              "\n",
              "     max_heart_rate_achieved exercise_induced_angina  st_depression  \\\n",
              "142                    184.0                       0            0.0   \n",
              "48                     157.0                       0            0.8   \n",
              "86                     156.0                       0            0.0   \n",
              "204                    161.0                       0            0.0   \n",
              "227                    172.0                       0            0.0   \n",
              "\n",
              "     st_slope_type  num_major_vessels  thalassemia_type  target  \n",
              "142              2                0.0                 1       0  \n",
              "48               2                1.0                 1       0  \n",
              "86               2                0.0                 1       0  \n",
              "204              2                0.0                 2       0  \n",
              "227              2                1.0                 1       0  "
            ]
          },
          "execution_count": 84,
          "metadata": {},
          "output_type": "execute_result"
        }
      ],
      "source": [
        "df.head()"
      ]
    },
    {
      "cell_type": "code",
      "execution_count": 85,
      "metadata": {
        "id": "zoxL--GvRzaM"
      },
      "outputs": [],
      "source": [
        "# For doing outlier treatment to the clinical features, a domain knowledge is required.\n",
        "# Removing outliers in these type of features without knowing the impact will affect the accuracy of the model.\n",
        "# First we will figure out the features which contain outliers."
      ]
    },
    {
      "cell_type": "code",
      "execution_count": 86,
      "metadata": {
        "colab": {
          "base_uri": "https://localhost:8080/",
          "height": 1000
        },
        "id": "3QHyYJYsbfRD",
        "outputId": "abe63648-a7f5-48c6-950b-158ce0b7f639"
      },
      "outputs": [
        {
          "name": "stdout",
          "output_type": "stream",
          "text": [
            "chest_pain_type\n"
          ]
        },
        {
          "data": {
            "image/png": "[encoded data removed]",
            "text/plain": [
              "<Figure size 640x480 with 1 Axes>"
            ]
          },
          "metadata": {},
          "output_type": "display_data"
        },
        {
          "name": "stdout",
          "output_type": "stream",
          "text": [
            "resting_blood_pressure\n"
          ]
        },
        {
          "data": {
            "image/png": "[encoded data removed]",
            "text/plain": [
              "<Figure size 640x480 with 1 Axes>"
            ]
          },
          "metadata": {},
          "output_type": "display_data"
        },
        {
          "name": "stdout",
          "output_type": "stream",
          "text": [
            "cholesterol\n"
          ]
        },
        {
          "data": {
            "image/png": "[encoded data removed]",
            "text/plain": [
              "<Figure size 640x480 with 1 Axes>"
            ]
          },
          "metadata": {},
          "output_type": "display_data"
        },
        {
          "name": "stdout",
          "output_type": "stream",
          "text": [
            "fasting_blood_sugar\n"
          ]
        },
        {
          "data": {
            "image/png": "[encoded data removed]",
            "text/plain": [
              "<Figure size 640x480 with 1 Axes>"
            ]
          },
          "metadata": {},
          "output_type": "display_data"
        },
        {
          "name": "stdout",
          "output_type": "stream",
          "text": [
            "resting_electrocardiographic_results\n"
          ]
        },
        {
          "data": {
            "image/png": "[encoded data removed]",
            "text/plain": [
              "<Figure size 640x480 with 1 Axes>"
            ]
          },
          "metadata": {},
          "output_type": "display_data"
        },
        {
          "name": "stdout",
          "output_type": "stream",
          "text": [
            "max_heart_rate_achieved\n"
          ]
        },
        {
          "data": {
            "image/png": "[encoded data removed]",
            "text/plain": [
              "<Figure size 640x480 with 1 Axes>"
            ]
          },
          "metadata": {},
          "output_type": "display_data"
        },
        {
          "name": "stdout",
          "output_type": "stream",
          "text": [
            "exercise_induced_angina\n"
          ]
        },
        {
          "data": {
            "image/png": "[encoded data removed]",
            "text/plain": [
              "<Figure size 640x480 with 1 Axes>"
            ]
          },
          "metadata": {},
          "output_type": "display_data"
        },
        {
          "name": "stdout",
          "output_type": "stream",
          "text": [
            "st_depression\n"
          ]
        },
        {
          "data": {
            "image/png": "[encoded data removed]",
            "text/plain": [
              "<Figure size 640x480 with 1 Axes>"
            ]
          },
          "metadata": {},
          "output_type": "display_data"
        },
        {
          "name": "stdout",
          "output_type": "stream",
          "text": [
            "st_slope_type\n"
          ]
        },
        {
          "data": {
            "image/png": "[encoded data removed]",
            "text/plain": [
              "<Figure size 640x480 with 1 Axes>"
            ]
          },
          "metadata": {},
          "output_type": "display_data"
        },
        {
          "name": "stdout",
          "output_type": "stream",
          "text": [
            "num_major_vessels\n"
          ]
        },
        {
          "data": {
            "image/png": "[encoded data removed]",
            "text/plain": [
              "<Figure size 640x480 with 1 Axes>"
            ]
          },
          "metadata": {},
          "output_type": "display_data"
        },
        {
          "name": "stdout",
          "output_type": "stream",
          "text": [
            "thalassemia_type\n"
          ]
        },
        {
          "data": {
            "image/png": "[encoded data removed]",
            "text/plain": [
              "<Figure size 640x480 with 1 Axes>"
            ]
          },
          "metadata": {},
          "output_type": "display_data"
        }
      ],
      "source": [
        "for i in df.iloc[0:,2:13].columns:\n",
        "    sns.boxplot(x=df[i])\n",
        "    print(i)\n",
        "    plt.show()"
      ]
    },
    {
      "cell_type": "markdown",
      "metadata": {
        "id": "HH2MGk5F4P7p"
      },
      "source": [
        "# Data Splitting"
      ]
    },
    {
      "cell_type": "markdown",
      "metadata": {
        "id": "Ck-5qkFI4Y9z"
      },
      "source": [
        "Splitting the Features and Target"
      ]
    },
    {
      "cell_type": "code",
      "execution_count": 87,
      "metadata": {
        "id": "WLH-dOlN4NW9"
      },
      "outputs": [],
      "source": [
        "X = df.drop(columns='target', axis=1)\n",
        "Y = df['target']"
      ]
    },
    {
      "cell_type": "code",
      "execution_count": 88,
      "metadata": {
        "colab": {
          "base_uri": "https://localhost:8080/"
        },
        "id": "vim4M_Ra4sQ_",
        "outputId": "0f803997-5d29-4d31-ebf1-5db574fdba5b"
      },
      "outputs": [
        {
          "name": "stdout",
          "output_type": "stream",
          "text": [
            "     age  sex  chest_pain_type  resting_blood_pressure  cholesterol  \\\n",
            "142   52    1                3                   128.0        205.0   \n",
            "48    65    0                2                   140.0        417.0   \n",
            "86    47    1                2                   138.0        257.0   \n",
            "204   43    1                1                   110.0        211.0   \n",
            "227   67    0                2                   152.0        277.0   \n",
            "..   ...  ...              ...                     ...          ...   \n",
            "181   56    0                1                   134.0        409.0   \n",
            "191   51    1                1                   140.0        298.0   \n",
            "172   59    0                1                   174.0        249.0   \n",
            "114   62    0                2                   130.0        263.0   \n",
            "127   54    1                1                   110.0        239.0   \n",
            "\n",
            "    fasting_blood_sugar  resting_electrocardiographic_results  \\\n",
            "142                   1                                     1   \n",
            "48                    1                                     0   \n",
            "86                    0                                     0   \n",
            "204                   0                                     1   \n",
            "227                   0                                     1   \n",
            "..                  ...                                   ...   \n",
            "181                   0                                     0   \n",
            "191                   0                                     1   \n",
            "172                   0                                     1   \n",
            "114                   0                                     1   \n",
            "127                   0                                     1   \n",
            "\n",
            "     max_heart_rate_achieved exercise_induced_angina  st_depression  \\\n",
            "142                    184.0                       0            0.0   \n",
            "48                     157.0                       0            0.8   \n",
            "86                     156.0                       0            0.0   \n",
            "204                    161.0                       0            0.0   \n",
            "227                    172.0                       0            0.0   \n",
            "..                       ...                     ...            ...   \n",
            "181                    150.0                       1            1.9   \n",
            "191                    122.0                       1            4.2   \n",
            "172                    143.0                       1            0.0   \n",
            "114                     97.0                       0            1.2   \n",
            "127                    126.0                       1            2.8   \n",
            "\n",
            "     st_slope_type  num_major_vessels  thalassemia_type  \n",
            "142              2                0.0                 1  \n",
            "48               2                1.0                 1  \n",
            "86               2                0.0                 1  \n",
            "204              2                0.0                 2  \n",
            "227              2                1.0                 1  \n",
            "..             ...                ...               ...  \n",
            "181              1                2.0                 2  \n",
            "191              1                3.0                 2  \n",
            "172              1                0.0                 1  \n",
            "114              1                1.0                 2  \n",
            "127              1                1.0                 2  \n",
            "\n",
            "[299 rows x 13 columns]\n"
          ]
        }
      ],
      "source": [
        "print(X)"
      ]
    },
    {
      "cell_type": "code",
      "execution_count": 89,
      "metadata": {
        "colab": {
          "base_uri": "https://localhost:8080/"
        },
        "id": "VC-kfN7S42BV",
        "outputId": "bd8627e7-04d0-4f0e-aba4-70fda093ed24"
      },
      "outputs": [
        {
          "name": "stdout",
          "output_type": "stream",
          "text": [
            "142    0\n",
            "48     0\n",
            "86     0\n",
            "204    0\n",
            "227    0\n",
            "      ..\n",
            "181    1\n",
            "191    1\n",
            "172    1\n",
            "114    1\n",
            "127    1\n",
            "Name: target, Length: 299, dtype: int64\n"
          ]
        }
      ],
      "source": [
        "print(Y)"
      ]
    },
    {
      "cell_type": "markdown",
      "metadata": {
        "id": "c6aLmR0N49XC"
      },
      "source": [
        "Splitting the Data into Training data & Test Data"
      ]
    },
    {
      "cell_type": "code",
      "execution_count": 90,
      "metadata": {
        "id": "Z0_0_9oz5ARO"
      },
      "outputs": [],
      "source": [
        "from sklearn.model_selection import train_test_split\n",
        "\n",
        "X_train, X_test, Y_train, Y_test = train_test_split(X, Y, test_size=0.2, stratify=Y, random_state=2)"
      ]
    },
    {
      "cell_type": "code",
      "execution_count": 91,
      "metadata": {
        "colab": {
          "base_uri": "https://localhost:8080/"
        },
        "id": "4s-c1BE-5qWC",
        "outputId": "fc05b125-8da2-41bf-805c-68f17a026175"
      },
      "outputs": [
        {
          "name": "stdout",
          "output_type": "stream",
          "text": [
            "(299, 13) (239, 13) (60, 13)\n"
          ]
        }
      ],
      "source": [
        "print(X.shape, X_train.shape, X_test.shape)"
      ]
    },
    {
      "cell_type": "markdown",
      "metadata": {
        "id": "8W2CKxf957Tr"
      },
      "source": [
        "# Model training and model evaluation"
      ]
    },
    {
      "cell_type": "markdown",
      "metadata": {
        "id": "aHp3h3Cu6Cde"
      },
      "source": [
        "Logistic Regression"
      ]
    },
    {
      "cell_type": "code",
      "execution_count": 92,
      "metadata": {
        "id": "9ajv9G8q54O5"
      },
      "outputs": [],
      "source": [
        "from sklearn.linear_model import LogisticRegression\n",
        "\n",
        "model = LogisticRegression()"
      ]
    },
    {
      "cell_type": "code",
      "execution_count": 93,
      "metadata": {
        "colab": {
          "base_uri": "https://localhost:8080/",
          "height": 213
        },
        "id": "-kpWRCaS6psQ",
        "outputId": "bc3e2b2d-625d-4c2c-ac11-56788b35b661"
      },
      "outputs": [
        {
          "name": "stderr",
          "output_type": "stream",
          "text": [
            "/usr/local/lib/python3.10/dist-packages/sklearn/linear_model/_logistic.py:458: ConvergenceWarning: lbfgs failed to converge (status=1):\n",
            "STOP: TOTAL NO. of ITERATIONS REACHED LIMIT.\n",
            "\n",
            "Increase the number of iterations (max_iter) or scale the data as shown in:\n",
            "    https://scikit-learn.org/stable/modules/preprocessing.html\n",
            "Please also refer to the documentation for alternative solver options:\n",
            "    https://scikit-learn.org/stable/modules/linear_model.html#logistic-regression\n",
            "  n_iter_i = _check_optimize_result(\n"
          ]
        },
        {
          "data": {
            "text/html": [
              "<style>#sk-container-id-4 {color: black;background-color: white;}#sk-container-id-4 pre{padding: 0;}#sk-container-id-4 div.sk-toggleable {background-color: white;}#sk-container-id-4 label.sk-toggleable__label {cursor: pointer;display: block;width: 100%;margin-bottom: 0;padding: 0.3em;box-sizing: border-box;text-align: center;}#sk-container-id-4 label.sk-toggleable__label-arrow:before {content: \"▸\";float: left;margin-right: 0.25em;color: #696969;}#sk-container-id-4 label.sk-toggleable__label-arrow:hover:before {color: black;}#sk-container-id-4 div.sk-estimator:hover label.sk-toggleable__label-arrow:before {color: black;}#sk-container-id-4 div.sk-toggleable__content {max-height: 0;max-width: 0;overflow: hidden;text-align: left;background-color: #f0f8ff;}#sk-container-id-4 div.sk-toggleable__content pre {margin: 0.2em;color: black;border-radius: 0.25em;background-color: #f0f8ff;}#sk-container-id-4 input.sk-toggleable__control:checked~div.sk-toggleable__content {max-height: 200px;max-width: 100%;overflow: auto;}#sk-container-id-4 input.sk-toggleable__control:checked~label.sk-toggleable__label-arrow:before {content: \"▾\";}#sk-container-id-4 div.sk-estimator input.sk-toggleable__control:checked~label.sk-toggleable__label {background-color: #d4ebff;}#sk-container-id-4 div.sk-label input.sk-toggleable__control:checked~label.sk-toggleable__label {background-color: #d4ebff;}#sk-container-id-4 input.sk-hidden--visually {border: 0;clip: rect(1px 1px 1px 1px);clip: rect(1px, 1px, 1px, 1px);height: 1px;margin: -1px;overflow: hidden;padding: 0;position: absolute;width: 1px;}#sk-container-id-4 div.sk-estimator {font-family: monospace;background-color: #f0f8ff;border: 1px dotted black;border-radius: 0.25em;box-sizing: border-box;margin-bottom: 0.5em;}#sk-container-id-4 div.sk-estimator:hover {background-color: #d4ebff;}#sk-container-id-4 div.sk-parallel-item::after {content: \"\";width: 100%;border-bottom: 1px solid gray;flex-grow: 1;}#sk-container-id-4 div.sk-label:hover label.sk-toggleable__label {background-color: #d4ebff;}#sk-container-id-4 div.sk-serial::before {content: \"\";position: absolute;border-left: 1px solid gray;box-sizing: border-box;top: 0;bottom: 0;left: 50%;z-index: 0;}#sk-container-id-4 div.sk-serial {display: flex;flex-direction: column;align-items: center;background-color: white;padding-right: 0.2em;padding-left: 0.2em;position: relative;}#sk-container-id-4 div.sk-item {position: relative;z-index: 1;}#sk-container-id-4 div.sk-parallel {display: flex;align-items: stretch;justify-content: center;background-color: white;position: relative;}#sk-container-id-4 div.sk-item::before, #sk-container-id-4 div.sk-parallel-item::before {content: \"\";position: absolute;border-left: 1px solid gray;box-sizing: border-box;top: 0;bottom: 0;left: 50%;z-index: -1;}#sk-container-id-4 div.sk-parallel-item {display: flex;flex-direction: column;z-index: 1;position: relative;background-color: white;}#sk-container-id-4 div.sk-parallel-item:first-child::after {align-self: flex-end;width: 50%;}#sk-container-id-4 div.sk-parallel-item:last-child::after {align-self: flex-start;width: 50%;}#sk-container-id-4 div.sk-parallel-item:only-child::after {width: 0;}#sk-container-id-4 div.sk-dashed-wrapped {border: 1px dashed gray;margin: 0 0.4em 0.5em 0.4em;box-sizing: border-box;padding-bottom: 0.4em;background-color: white;}#sk-container-id-4 div.sk-label label {font-family: monospace;font-weight: bold;display: inline-block;line-height: 1.2em;}#sk-container-id-4 div.sk-label-container {text-align: center;}#sk-container-id-4 div.sk-container {/* jupyter's `normalize.less` sets `[hidden] { display: none; }` but bootstrap.min.css set `[hidden] { display: none !important; }` so we also need the `!important` here to be able to override the default hidden behavior on the sphinx rendered scikit-learn.org. See: https://github.com/scikit-learn/scikit-learn/issues/21755 */display: inline-block !important;position: relative;}#sk-container-id-4 div.sk-text-repr-fallback {display: none;}</style><div id=\"sk-container-id-4\" class=\"sk-top-container\"><div class=\"sk-text-repr-fallback\"><pre>LogisticRegression()</pre><b>In a Jupyter environment, please rerun this cell to show the HTML representation or trust the notebook. <br />On GitHub, the HTML representation is unable to render, please try loading this page with nbviewer.org.</b></div><div class=\"sk-container\" hidden><div class=\"sk-item\"><div class=\"sk-estimator sk-toggleable\"><input class=\"sk-toggleable__control sk-hidden--visually\" id=\"sk-estimator-id-4\" type=\"checkbox\" checked><label for=\"sk-estimator-id-4\" class=\"sk-toggleable__label sk-toggleable__label-arrow\">LogisticRegression</label><div class=\"sk-toggleable__content\"><pre>LogisticRegression()</pre></div></div></div></div></div>"
            ],
            "text/plain": [
              "LogisticRegression()"
            ]
          },
          "execution_count": 93,
          "metadata": {},
          "output_type": "execute_result"
        }
      ],
      "source": [
        "# training the LogisticRegression model with Training data\n",
        "model.fit(X_train, Y_train)"
      ]
    },
    {
      "cell_type": "code",
      "execution_count": 94,
      "metadata": {
        "id": "9A9hn1CG6r9K"
      },
      "outputs": [],
      "source": [
        "# accuracy on training data\n",
        "from sklearn.metrics import accuracy_score\n",
        "\n",
        "X_train_prediction = model.predict(X_train)\n",
        "training_data_accuracy = accuracy_score(X_train_prediction, Y_train)"
      ]
    },
    {
      "cell_type": "code",
      "execution_count": 95,
      "metadata": {
        "colab": {
          "base_uri": "https://localhost:8080/"
        },
        "id": "erVEohRm8DSy",
        "outputId": "0973ba7e-faf3-4dcb-8875-2807e433f58d"
      },
      "outputs": [
        {
          "name": "stdout",
          "output_type": "stream",
          "text": [
            "Accuracy on Training data :  0.8410041841004184\n"
          ]
        }
      ],
      "source": [
        "print('Accuracy on Training data : ', training_data_accuracy)"
      ]
    },
    {
      "cell_type": "code",
      "execution_count": 96,
      "metadata": {
        "id": "lQk31C6j8HDP"
      },
      "outputs": [],
      "source": [
        "# accuracy on test data\n",
        "X_test_prediction = model.predict(X_test)\n",
        "test_data_accuracy = accuracy_score(X_test_prediction, Y_test)"
      ]
    },
    {
      "cell_type": "code",
      "execution_count": 97,
      "metadata": {
        "colab": {
          "base_uri": "https://localhost:8080/"
        },
        "id": "6JL-RFds8I0H",
        "outputId": "1126904c-8fa5-4d65-c04f-425615d77248"
      },
      "outputs": [
        {
          "name": "stdout",
          "output_type": "stream",
          "text": [
            "Accuracy on Test data :  0.8166666666666667\n"
          ]
        }
      ],
      "source": [
        "print('Accuracy on Test data : ', test_data_accuracy)"
      ]
    },
    {
      "cell_type": "markdown",
      "metadata": {
        "id": "gLm2CgIHwEVc"
      },
      "source": [
        "ANN Model"
      ]
    },
    {
      "cell_type": "code",
      "execution_count": 98,
      "metadata": {
        "id": "n4-UQGT2In-b"
      },
      "outputs": [],
      "source": [
        "df2=df"
      ]
    },
    {
      "cell_type": "code",
      "execution_count": 99,
      "metadata": {
        "id": "PeuGWezvI0qz"
      },
      "outputs": [],
      "source": [
        "df2['exercise_induced_angina'] = df2['exercise_induced_angina'].map({1:1, 0:0})\n",
        "df2['fasting_blood_sugar'] = df2['fasting_blood_sugar'].map({1: 1, 0: 0})\n"
      ]
    },
    {
      "cell_type": "code",
      "execution_count": 100,
      "metadata": {
        "id": "y_9E0O1Q472N"
      },
      "outputs": [],
      "source": [
        "X = df2.drop(columns='target', axis=1)\n",
        "Y = df2['target']"
      ]
    },
    {
      "cell_type": "code",
      "execution_count": 101,
      "metadata": {
        "colab": {
          "base_uri": "https://localhost:8080/"
        },
        "id": "cX1R4ZMB5Tif",
        "outputId": "caba06d3-d036-408c-8591-a5f83fdb3d75"
      },
      "outputs": [
        {
          "data": {
            "text/plain": [
              "age                                       int64\n",
              "sex                                       int64\n",
              "chest_pain_type                           int64\n",
              "resting_blood_pressure                  float64\n",
              "cholesterol                             float64\n",
              "fasting_blood_sugar                       int64\n",
              "resting_electrocardiographic_results      int64\n",
              "max_heart_rate_achieved                 float64\n",
              "exercise_induced_angina                   int64\n",
              "st_depression                           float64\n",
              "st_slope_type                             int64\n",
              "num_major_vessels                       float64\n",
              "thalassemia_type                          int64\n",
              "target                                    int64\n",
              "dtype: object"
            ]
          },
          "execution_count": 101,
          "metadata": {},
          "output_type": "execute_result"
        }
      ],
      "source": [
        "df2.dtypes"
      ]
    },
    {
      "cell_type": "code",
      "execution_count": 102,
      "metadata": {
        "colab": {
          "base_uri": "https://localhost:8080/",
          "height": 443
        },
        "id": "GPLrMpia51hC",
        "outputId": "2cda4028-52dd-49f9-b022-6f25d3d967bd"
      },
      "outputs": [
        {
          "data": {
            "text/html": [
              "\n",
              "  <div id=\"df-d5319488-1a11-4ae1-9639-8fb6514a25ce\" class=\"colab-df-container\">\n",
              "    <div>\n",
              "<style scoped>\n",
              "    .dataframe tbody tr th:only-of-type {\n",
              "        vertical-align: middle;\n",
              "    }\n",
              "\n",
              "    .dataframe tbody tr th {\n",
              "        vertical-align: top;\n",
              "    }\n",
              "\n",
              "    .dataframe thead th {\n",
              "        text-align: right;\n",
              "    }\n",
              "</style>\n",
              "<table border=\"1\" class=\"dataframe\">\n",
              "  <thead>\n",
              "    <tr style=\"text-align: right;\">\n",
              "      <th></th>\n",
              "      <th>age</th>\n",
              "      <th>sex</th>\n",
              "      <th>chest_pain_type</th>\n",
              "      <th>resting_blood_pressure</th>\n",
              "      <th>cholesterol</th>\n",
              "      <th>fasting_blood_sugar</th>\n",
              "      <th>resting_electrocardiographic_results</th>\n",
              "      <th>max_heart_rate_achieved</th>\n",
              "      <th>exercise_induced_angina</th>\n",
              "      <th>st_depression</th>\n",
              "      <th>st_slope_type</th>\n",
              "      <th>num_major_vessels</th>\n",
              "      <th>thalassemia_type</th>\n",
              "      <th>target</th>\n",
              "    </tr>\n",
              "  </thead>\n",
              "  <tbody>\n",
              "    <tr>\n",
              "      <th>142</th>\n",
              "      <td>52</td>\n",
              "      <td>1</td>\n",
              "      <td>3</td>\n",
              "      <td>128.0</td>\n",
              "      <td>205.0</td>\n",
              "      <td>1</td>\n",
              "      <td>1</td>\n",
              "      <td>184.0</td>\n",
              "      <td>0</td>\n",
              "      <td>0.0</td>\n",
              "      <td>2</td>\n",
              "      <td>0.0</td>\n",
              "      <td>1</td>\n",
              "      <td>0</td>\n",
              "    </tr>\n",
              "    <tr>\n",
              "      <th>48</th>\n",
              "      <td>65</td>\n",
              "      <td>0</td>\n",
              "      <td>2</td>\n",
              "      <td>140.0</td>\n",
              "      <td>417.0</td>\n",
              "      <td>1</td>\n",
              "      <td>0</td>\n",
              "      <td>157.0</td>\n",
              "      <td>0</td>\n",
              "      <td>0.8</td>\n",
              "      <td>2</td>\n",
              "      <td>1.0</td>\n",
              "      <td>1</td>\n",
              "      <td>0</td>\n",
              "    </tr>\n",
              "    <tr>\n",
              "      <th>86</th>\n",
              "      <td>47</td>\n",
              "      <td>1</td>\n",
              "      <td>2</td>\n",
              "      <td>138.0</td>\n",
              "      <td>257.0</td>\n",
              "      <td>0</td>\n",
              "      <td>0</td>\n",
              "      <td>156.0</td>\n",
              "      <td>0</td>\n",
              "      <td>0.0</td>\n",
              "      <td>2</td>\n",
              "      <td>0.0</td>\n",
              "      <td>1</td>\n",
              "      <td>0</td>\n",
              "    </tr>\n",
              "    <tr>\n",
              "      <th>204</th>\n",
              "      <td>43</td>\n",
              "      <td>1</td>\n",
              "      <td>1</td>\n",
              "      <td>110.0</td>\n",
              "      <td>211.0</td>\n",
              "      <td>0</td>\n",
              "      <td>1</td>\n",
              "      <td>161.0</td>\n",
              "      <td>0</td>\n",
              "      <td>0.0</td>\n",
              "      <td>2</td>\n",
              "      <td>0.0</td>\n",
              "      <td>2</td>\n",
              "      <td>0</td>\n",
              "    </tr>\n",
              "    <tr>\n",
              "      <th>227</th>\n",
              "      <td>67</td>\n",
              "      <td>0</td>\n",
              "      <td>2</td>\n",
              "      <td>152.0</td>\n",
              "      <td>277.0</td>\n",
              "      <td>0</td>\n",
              "      <td>1</td>\n",
              "      <td>172.0</td>\n",
              "      <td>0</td>\n",
              "      <td>0.0</td>\n",
              "      <td>2</td>\n",
              "      <td>1.0</td>\n",
              "      <td>1</td>\n",
              "      <td>0</td>\n",
              "    </tr>\n",
              "    <tr>\n",
              "      <th>...</th>\n",
              "      <td>...</td>\n",
              "      <td>...</td>\n",
              "      <td>...</td>\n",
              "      <td>...</td>\n",
              "      <td>...</td>\n",
              "      <td>...</td>\n",
              "      <td>...</td>\n",
              "      <td>...</td>\n",
              "      <td>...</td>\n",
              "      <td>...</td>\n",
              "      <td>...</td>\n",
              "      <td>...</td>\n",
              "      <td>...</td>\n",
              "      <td>...</td>\n",
              "    </tr>\n",
              "    <tr>\n",
              "      <th>181</th>\n",
              "      <td>56</td>\n",
              "      <td>0</td>\n",
              "      <td>1</td>\n",
              "      <td>134.0</td>\n",
              "      <td>409.0</td>\n",
              "      <td>0</td>\n",
              "      <td>0</td>\n",
              "      <td>150.0</td>\n",
              "      <td>1</td>\n",
              "      <td>1.9</td>\n",
              "      <td>1</td>\n",
              "      <td>2.0</td>\n",
              "      <td>2</td>\n",
              "      <td>1</td>\n",
              "    </tr>\n",
              "    <tr>\n",
              "      <th>191</th>\n",
              "      <td>51</td>\n",
              "      <td>1</td>\n",
              "      <td>1</td>\n",
              "      <td>140.0</td>\n",
              "      <td>298.0</td>\n",
              "      <td>0</td>\n",
              "      <td>1</td>\n",
              "      <td>122.0</td>\n",
              "      <td>1</td>\n",
              "      <td>4.2</td>\n",
              "      <td>1</td>\n",
              "      <td>3.0</td>\n",
              "      <td>2</td>\n",
              "      <td>1</td>\n",
              "    </tr>\n",
              "    <tr>\n",
              "      <th>172</th>\n",
              "      <td>59</td>\n",
              "      <td>0</td>\n",
              "      <td>1</td>\n",
              "      <td>174.0</td>\n",
              "      <td>249.0</td>\n",
              "      <td>0</td>\n",
              "      <td>1</td>\n",
              "      <td>143.0</td>\n",
              "      <td>1</td>\n",
              "      <td>0.0</td>\n",
              "      <td>1</td>\n",
              "      <td>0.0</td>\n",
              "      <td>1</td>\n",
              "      <td>1</td>\n",
              "    </tr>\n",
              "    <tr>\n",
              "      <th>114</th>\n",
              "      <td>62</td>\n",
              "      <td>0</td>\n",
              "      <td>2</td>\n",
              "      <td>130.0</td>\n",
              "      <td>263.0</td>\n",
              "      <td>0</td>\n",
              "      <td>1</td>\n",
              "      <td>97.0</td>\n",
              "      <td>0</td>\n",
              "      <td>1.2</td>\n",
              "      <td>1</td>\n",
              "      <td>1.0</td>\n",
              "      <td>2</td>\n",
              "      <td>1</td>\n",
              "    </tr>\n",
              "    <tr>\n",
              "      <th>127</th>\n",
              "      <td>54</td>\n",
              "      <td>1</td>\n",
              "      <td>1</td>\n",
              "      <td>110.0</td>\n",
              "      <td>239.0</td>\n",
              "      <td>0</td>\n",
              "      <td>1</td>\n",
              "      <td>126.0</td>\n",
              "      <td>1</td>\n",
              "      <td>2.8</td>\n",
              "      <td>1</td>\n",
              "      <td>1.0</td>\n",
              "      <td>2</td>\n",
              "      <td>1</td>\n",
              "    </tr>\n",
              "  </tbody>\n",
              "</table>\n",
              "<p>299 rows × 14 columns</p>\n",
              "</div>\n",
              "    <div class=\"colab-df-buttons\">\n",
              "\n",
              "  <div class=\"colab-df-container\">\n",
              "    <button class=\"colab-df-convert\" onclick=\"convertToInteractive('df-d5319488-1a11-4ae1-9639-8fb6514a25ce')\"\n",
              "            title=\"Convert this dataframe to an interactive table.\"\n",
              "            style=\"display:none;\">\n",
              "\n",
              "  <svg xmlns=\"http://www.w3.org/2000/svg\" height=\"24px\" viewBox=\"0 -960 960 960\">\n",
              "    <path d=\"M120-120v-720h720v720H120Zm60-500h600v-160H180v160Zm220 220h160v-160H400v160Zm0 220h160v-160H400v160ZM180-400h160v-160H180v160Zm440 0h160v-160H620v160ZM180-180h160v-160H180v160Zm440 0h160v-160H620v160Z\"/>\n",
              "  </svg>\n",
              "    </button>\n",
              "\n",
              "  <style>\n",
              "    .colab-df-container {\n",
              "      display:flex;\n",
              "      gap: 12px;\n",
              "    }\n",
              "\n",
              "    .colab-df-convert {\n",
              "      background-color: #E8F0FE;\n",
              "      border: none;\n",
              "      border-radius: 50%;\n",
              "      cursor: pointer;\n",
              "      display: none;\n",
              "      fill: #1967D2;\n",
              "      height: 32px;\n",
              "      padding: 0 0 0 0;\n",
              "      width: 32px;\n",
              "    }\n",
              "\n",
              "    .colab-df-convert:hover {\n",
              "      background-color: #E2EBFA;\n",
              "      box-shadow: 0px 1px 2px rgba(60, 64, 67, 0.3), 0px 1px 3px 1px rgba(60, 64, 67, 0.15);\n",
              "      fill: #174EA6;\n",
              "    }\n",
              "\n",
              "    .colab-df-buttons div {\n",
              "      margin-bottom: 4px;\n",
              "    }\n",
              "\n",
              "    [theme=dark] .colab-df-convert {\n",
              "      background-color: #3B4455;\n",
              "      fill: #D2E3FC;\n",
              "    }\n",
              "\n",
              "    [theme=dark] .colab-df-convert:hover {\n",
              "      background-color: #434B5C;\n",
              "      box-shadow: 0px 1px 3px 1px rgba(0, 0, 0, 0.15);\n",
              "      filter: drop-shadow(0px 1px 2px rgba(0, 0, 0, 0.3));\n",
              "      fill: #FFFFFF;\n",
              "    }\n",
              "  </style>\n",
              "\n",
              "    <script>\n",
              "      const buttonEl =\n",
              "        document.querySelector('#df-d5319488-1a11-4ae1-9639-8fb6514a25ce button.colab-df-convert');\n",
              "      buttonEl.style.display =\n",
              "        google.colab.kernel.accessAllowed ? 'block' : 'none';\n",
              "\n",
              "      async function convertToInteractive(key) {\n",
              "        const element = document.querySelector('#df-d5319488-1a11-4ae1-9639-8fb6514a25ce');\n",
              "        const dataTable =\n",
              "          await google.colab.kernel.invokeFunction('convertToInteractive',\n",
              "                                                    [key], {});\n",
              "        if (!dataTable) return;\n",
              "\n",
              "        const docLinkHtml = 'Like what you see? Visit the ' +\n",
              "          '<a target=\"_blank\" href=https://colab.research.google.com/notebooks/data_table.ipynb>data table notebook</a>'\n",
              "          + ' to learn more about interactive tables.';\n",
              "        element.innerHTML = '';\n",
              "        dataTable['output_type'] = 'display_data';\n",
              "        await google.colab.output.renderOutput(dataTable, element);\n",
              "        const docLink = document.createElement('div');\n",
              "        docLink.innerHTML = docLinkHtml;\n",
              "        element.appendChild(docLink);\n",
              "      }\n",
              "    </script>\n",
              "  </div>\n",
              "\n",
              "\n",
              "<div id=\"df-97557848-3104-473c-a39e-2d0ca71b6658\">\n",
              "  <button class=\"colab-df-quickchart\" onclick=\"quickchart('df-97557848-3104-473c-a39e-2d0ca71b6658')\"\n",
              "            title=\"Suggest charts.\"\n",
              "            style=\"display:none;\">\n",
              "\n",
              "<svg xmlns=\"http://www.w3.org/2000/svg\" height=\"24px\"viewBox=\"0 0 24 24\"\n",
              "     width=\"24px\">\n",
              "    <g>\n",
              "        <path d=\"M19 3H5c-1.1 0-2 .9-2 2v14c0 1.1.9 2 2 2h14c1.1 0 2-.9 2-2V5c0-1.1-.9-2-2-2zM9 17H7v-7h2v7zm4 0h-2V7h2v10zm4 0h-2v-4h2v4z\"/>\n",
              "    </g>\n",
              "</svg>\n",
              "  </button>\n",
              "\n",
              "<style>\n",
              "  .colab-df-quickchart {\n",
              "      --bg-color: #E8F0FE;\n",
              "      --fill-color: #1967D2;\n",
              "      --hover-bg-color: #E2EBFA;\n",
              "      --hover-fill-color: #174EA6;\n",
              "      --disabled-fill-color: #AAA;\n",
              "      --disabled-bg-color: #DDD;\n",
              "  }\n",
              "\n",
              "  [theme=dark] .colab-df-quickchart {\n",
              "      --bg-color: #3B4455;\n",
              "      --fill-color: #D2E3FC;\n",
              "      --hover-bg-color: #434B5C;\n",
              "      --hover-fill-color: #FFFFFF;\n",
              "      --disabled-bg-color: #3B4455;\n",
              "      --disabled-fill-color: #666;\n",
              "  }\n",
              "\n",
              "  .colab-df-quickchart {\n",
              "    background-color: var(--bg-color);\n",
              "    border: none;\n",
              "    border-radius: 50%;\n",
              "    cursor: pointer;\n",
              "    display: none;\n",
              "    fill: var(--fill-color);\n",
              "    height: 32px;\n",
              "    padding: 0;\n",
              "    width: 32px;\n",
              "  }\n",
              "\n",
              "  .colab-df-quickchart:hover {\n",
              "    background-color: var(--hover-bg-color);\n",
              "    box-shadow: 0 1px 2px rgba(60, 64, 67, 0.3), 0 1px 3px 1px rgba(60, 64, 67, 0.15);\n",
              "    fill: var(--button-hover-fill-color);\n",
              "  }\n",
              "\n",
              "  .colab-df-quickchart-complete:disabled,\n",
              "  .colab-df-quickchart-complete:disabled:hover {\n",
              "    background-color: var(--disabled-bg-color);\n",
              "    fill: var(--disabled-fill-color);\n",
              "    box-shadow: none;\n",
              "  }\n",
              "\n",
              "  .colab-df-spinner {\n",
              "    border: 2px solid var(--fill-color);\n",
              "    border-color: transparent;\n",
              "    border-bottom-color: var(--fill-color);\n",
              "    animation:\n",
              "      spin 1s steps(1) infinite;\n",
              "  }\n",
              "\n",
              "  @keyframes spin {\n",
              "    0% {\n",
              "      border-color: transparent;\n",
              "      border-bottom-color: var(--fill-color);\n",
              "      border-left-color: var(--fill-color);\n",
              "    }\n",
              "    20% {\n",
              "      border-color: transparent;\n",
              "      border-left-color: var(--fill-color);\n",
              "      border-top-color: var(--fill-color);\n",
              "    }\n",
              "    30% {\n",
              "      border-color: transparent;\n",
              "      border-left-color: var(--fill-color);\n",
              "      border-top-color: var(--fill-color);\n",
              "      border-right-color: var(--fill-color);\n",
              "    }\n",
              "    40% {\n",
              "      border-color: transparent;\n",
              "      border-right-color: var(--fill-color);\n",
              "      border-top-color: var(--fill-color);\n",
              "    }\n",
              "    60% {\n",
              "      border-color: transparent;\n",
              "      border-right-color: var(--fill-color);\n",
              "    }\n",
              "    80% {\n",
              "      border-color: transparent;\n",
              "      border-right-color: var(--fill-color);\n",
              "      border-bottom-color: var(--fill-color);\n",
              "    }\n",
              "    90% {\n",
              "      border-color: transparent;\n",
              "      border-bottom-color: var(--fill-color);\n",
              "    }\n",
              "  }\n",
              "</style>\n",
              "\n",
              "  <script>\n",
              "    async function quickchart(key) {\n",
              "      const quickchartButtonEl =\n",
              "        document.querySelector('#' + key + ' button');\n",
              "      quickchartButtonEl.disabled = true;  // To prevent multiple clicks.\n",
              "      quickchartButtonEl.classList.add('colab-df-spinner');\n",
              "      try {\n",
              "        const charts = await google.colab.kernel.invokeFunction(\n",
              "            'suggestCharts', [key], {});\n",
              "      } catch (error) {\n",
              "        console.error('Error during call to suggestCharts:', error);\n",
              "      }\n",
              "      quickchartButtonEl.classList.remove('colab-df-spinner');\n",
              "      quickchartButtonEl.classList.add('colab-df-quickchart-complete');\n",
              "    }\n",
              "    (() => {\n",
              "      let quickchartButtonEl =\n",
              "        document.querySelector('#df-97557848-3104-473c-a39e-2d0ca71b6658 button');\n",
              "      quickchartButtonEl.style.display =\n",
              "        google.colab.kernel.accessAllowed ? 'block' : 'none';\n",
              "    })();\n",
              "  </script>\n",
              "</div>\n",
              "    </div>\n",
              "  </div>\n"
            ],
            "text/plain": [
              "     age  sex  chest_pain_type  resting_blood_pressure  cholesterol  \\\n",
              "142   52    1                3                   128.0        205.0   \n",
              "48    65    0                2                   140.0        417.0   \n",
              "86    47    1                2                   138.0        257.0   \n",
              "204   43    1                1                   110.0        211.0   \n",
              "227   67    0                2                   152.0        277.0   \n",
              "..   ...  ...              ...                     ...          ...   \n",
              "181   56    0                1                   134.0        409.0   \n",
              "191   51    1                1                   140.0        298.0   \n",
              "172   59    0                1                   174.0        249.0   \n",
              "114   62    0                2                   130.0        263.0   \n",
              "127   54    1                1                   110.0        239.0   \n",
              "\n",
              "     fasting_blood_sugar  resting_electrocardiographic_results  \\\n",
              "142                    1                                     1   \n",
              "48                     1                                     0   \n",
              "86                     0                                     0   \n",
              "204                    0                                     1   \n",
              "227                    0                                     1   \n",
              "..                   ...                                   ...   \n",
              "181                    0                                     0   \n",
              "191                    0                                     1   \n",
              "172                    0                                     1   \n",
              "114                    0                                     1   \n",
              "127                    0                                     1   \n",
              "\n",
              "     max_heart_rate_achieved  exercise_induced_angina  st_depression  \\\n",
              "142                    184.0                        0            0.0   \n",
              "48                     157.0                        0            0.8   \n",
              "86                     156.0                        0            0.0   \n",
              "204                    161.0                        0            0.0   \n",
              "227                    172.0                        0            0.0   \n",
              "..                       ...                      ...            ...   \n",
              "181                    150.0                        1            1.9   \n",
              "191                    122.0                        1            4.2   \n",
              "172                    143.0                        1            0.0   \n",
              "114                     97.0                        0            1.2   \n",
              "127                    126.0                        1            2.8   \n",
              "\n",
              "     st_slope_type  num_major_vessels  thalassemia_type  target  \n",
              "142              2                0.0                 1       0  \n",
              "48               2                1.0                 1       0  \n",
              "86               2                0.0                 1       0  \n",
              "204              2                0.0                 2       0  \n",
              "227              2                1.0                 1       0  \n",
              "..             ...                ...               ...     ...  \n",
              "181              1                2.0                 2       1  \n",
              "191              1                3.0                 2       1  \n",
              "172              1                0.0                 1       1  \n",
              "114              1                1.0                 2       1  \n",
              "127              1                1.0                 2       1  \n",
              "\n",
              "[299 rows x 14 columns]"
            ]
          },
          "execution_count": 102,
          "metadata": {},
          "output_type": "execute_result"
        }
      ],
      "source": [
        "df2"
      ]
    },
    {
      "cell_type": "code",
      "execution_count": 103,
      "metadata": {
        "id": "2aY8Pt3C5gg9"
      },
      "outputs": [],
      "source": [
        "from sklearn.model_selection import train_test_split\n",
        "\n",
        "X_train, X_test, Y_train, Y_test = train_test_split(X, Y, test_size=0.2, stratify=Y, random_state=2)"
      ]
    },
    {
      "cell_type": "code",
      "execution_count": 104,
      "metadata": {
        "colab": {
          "base_uri": "https://localhost:8080/"
        },
        "id": "hhptt4SkygqN",
        "outputId": "9a3d0432-e1f1-4574-9689-5f1d9bcfaa98"
      },
      "outputs": [
        {
          "data": {
            "text/plain": [
              "(239, 13)"
            ]
          },
          "execution_count": 104,
          "metadata": {},
          "output_type": "execute_result"
        }
      ],
      "source": [
        "X_train.shape"
      ]
    },
    {
      "cell_type": "code",
      "execution_count": 105,
      "metadata": {
        "id": "rWzBApLdt9kR"
      },
      "outputs": [],
      "source": [
        "import tensorflow as tf\n",
        "from tensorflow import keras\n",
        "\n",
        "\n",
        "model = keras.Sequential([\n",
        "    keras.layers.Dense(13, input_shape=(13,), activation='relu'),\n",
        "    keras.layers.Dense(26, activation='relu'),\n",
        "    keras.layers.Dense(1, activation='sigmoid')\n",
        "])\n",
        "\n",
        "# opt = keras.optimizers.Adam(learning_rate=0.01)\n",
        "\n",
        "model.compile(optimizer='adam',\n",
        "              loss='binary_crossentropy',\n",
        "              metrics=['accuracy'])\n",
        "\n"
      ]
    },
    {
      "cell_type": "code",
      "execution_count": null,
      "metadata": {
        "colab": {
          "base_uri": "https://localhost:8080/"
        },
        "id": "aIarqfwdfuaZ",
        "outputId": "0a66be14-f13a-499f-8549-e414e9d30584"
      },
      "outputs": [
        {
          "name": "stdout",
          "output_type": "stream",
          "text": [
            "Epoch 1/200\n",
            "8/8 [==============================] - 1s 60ms/step - loss: 16.6221 - accuracy: 0.5356 - val_loss: 6.9595 - val_accuracy: 0.5333\n",
            "Epoch 2/200\n",
            "8/8 [==============================] - 0s 16ms/step - loss: 3.2351 - accuracy: 0.5523 - val_loss: 4.6520 - val_accuracy: 0.4667\n",
            "Epoch 3/200\n",
            "8/8 [==============================] - 0s 16ms/step - loss: 3.5722 - accuracy: 0.4812 - val_loss: 0.9041 - val_accuracy: 0.5667\n",
            "Epoch 4/200\n",
            "8/8 [==============================] - 0s 14ms/step - loss: 2.0406 - accuracy: 0.5397 - val_loss: 1.2069 - val_accuracy: 0.6000\n",
            "Epoch 5/200\n",
            "8/8 [==============================] - 0s 15ms/step - loss: 1.2304 - accuracy: 0.5565 - val_loss: 1.1351 - val_accuracy: 0.5500\n",
            "Epoch 6/200\n",
            "8/8 [==============================] - 0s 14ms/step - loss: 0.8516 - accuracy: 0.6276 - val_loss: 0.8936 - val_accuracy: 0.5833\n",
            "Epoch 7/200\n",
            "8/8 [==============================] - 0s 14ms/step - loss: 0.8665 - accuracy: 0.6318 - val_loss: 0.7050 - val_accuracy: 0.6833\n",
            "Epoch 8/200\n",
            "8/8 [==============================] - 0s 12ms/step - loss: 0.7503 - accuracy: 0.6611 - val_loss: 0.6349 - val_accuracy: 0.7167\n",
            "Epoch 9/200\n",
            "8/8 [==============================] - 0s 7ms/step - loss: 0.7534 - accuracy: 0.6904 - val_loss: 0.5915 - val_accuracy: 0.7000\n",
            "Epoch 10/200\n",
            "8/8 [==============================] - 0s 6ms/step - loss: 0.7229 - accuracy: 0.6695 - val_loss: 0.5806 - val_accuracy: 0.7167\n",
            "Epoch 11/200\n",
            "8/8 [==============================] - 0s 7ms/step - loss: 0.6860 - accuracy: 0.6820 - val_loss: 0.5741 - val_accuracy: 0.7167\n",
            "Epoch 12/200\n",
            "8/8 [==============================] - 0s 7ms/step - loss: 0.6831 - accuracy: 0.6820 - val_loss: 0.5706 - val_accuracy: 0.7000\n",
            "Epoch 13/200\n",
            "8/8 [==============================] - 0s 9ms/step - loss: 0.6690 - accuracy: 0.6778 - val_loss: 0.6005 - val_accuracy: 0.6833\n",
            "Epoch 14/200\n",
            "8/8 [==============================] - 0s 8ms/step - loss: 0.6747 - accuracy: 0.6695 - val_loss: 0.5892 - val_accuracy: 0.6833\n",
            "Epoch 15/200\n",
            "8/8 [==============================] - 0s 7ms/step - loss: 0.6599 - accuracy: 0.6862 - val_loss: 0.6277 - val_accuracy: 0.6667\n",
            "Epoch 16/200\n",
            "8/8 [==============================] - 0s 8ms/step - loss: 0.6789 - accuracy: 0.6820 - val_loss: 0.5826 - val_accuracy: 0.7000\n",
            "Epoch 17/200\n",
            "8/8 [==============================] - 0s 7ms/step - loss: 0.7131 - accuracy: 0.6444 - val_loss: 0.5863 - val_accuracy: 0.6667\n",
            "Epoch 18/200\n",
            "8/8 [==============================] - 0s 8ms/step - loss: 0.6341 - accuracy: 0.6569 - val_loss: 0.5578 - val_accuracy: 0.6833\n",
            "Epoch 19/200\n",
            "8/8 [==============================] - 0s 7ms/step - loss: 0.7038 - accuracy: 0.6360 - val_loss: 0.6561 - val_accuracy: 0.6167\n",
            "Epoch 20/200\n",
            "8/8 [==============================] - 0s 7ms/step - loss: 0.8531 - accuracy: 0.6067 - val_loss: 0.7193 - val_accuracy: 0.6167\n",
            "Epoch 21/200\n",
            "8/8 [==============================] - 0s 11ms/step - loss: 0.6639 - accuracy: 0.6987 - val_loss: 0.5283 - val_accuracy: 0.7000\n",
            "Epoch 22/200\n",
            "8/8 [==============================] - 0s 9ms/step - loss: 0.6260 - accuracy: 0.6820 - val_loss: 0.5333 - val_accuracy: 0.7167\n",
            "Epoch 23/200\n",
            "8/8 [==============================] - 0s 9ms/step - loss: 0.6259 - accuracy: 0.6736 - val_loss: 0.5229 - val_accuracy: 0.7333\n",
            "Epoch 24/200\n",
            "8/8 [==============================] - 0s 9ms/step - loss: 0.6268 - accuracy: 0.6904 - val_loss: 0.5454 - val_accuracy: 0.7667\n",
            "Epoch 25/200\n",
            "8/8 [==============================] - 0s 7ms/step - loss: 0.6103 - accuracy: 0.6946 - val_loss: 0.5163 - val_accuracy: 0.7500\n",
            "Epoch 26/200\n",
            "8/8 [==============================] - 0s 9ms/step - loss: 0.6094 - accuracy: 0.6695 - val_loss: 0.5236 - val_accuracy: 0.7500\n",
            "Epoch 27/200\n",
            "8/8 [==============================] - 0s 7ms/step - loss: 0.6122 - accuracy: 0.6862 - val_loss: 0.5274 - val_accuracy: 0.7500\n",
            "Epoch 28/200\n",
            "8/8 [==============================] - 0s 9ms/step - loss: 0.6165 - accuracy: 0.6862 - val_loss: 0.5217 - val_accuracy: 0.7667\n",
            "Epoch 29/200\n",
            "8/8 [==============================] - 0s 9ms/step - loss: 0.5915 - accuracy: 0.6736 - val_loss: 0.5131 - val_accuracy: 0.7333\n",
            "Epoch 30/200\n",
            "8/8 [==============================] - 0s 7ms/step - loss: 0.5932 - accuracy: 0.6904 - val_loss: 0.5339 - val_accuracy: 0.7833\n",
            "Epoch 31/200\n",
            "8/8 [==============================] - 0s 7ms/step - loss: 0.6098 - accuracy: 0.6485 - val_loss: 0.5245 - val_accuracy: 0.7667\n",
            "Epoch 32/200\n",
            "8/8 [==============================] - 0s 7ms/step - loss: 0.5922 - accuracy: 0.6778 - val_loss: 0.5328 - val_accuracy: 0.7667\n",
            "Epoch 33/200\n",
            "8/8 [==============================] - 0s 9ms/step - loss: 0.6073 - accuracy: 0.6611 - val_loss: 0.5527 - val_accuracy: 0.7333\n",
            "Epoch 34/200\n",
            "8/8 [==============================] - 0s 7ms/step - loss: 0.5924 - accuracy: 0.7280 - val_loss: 0.5531 - val_accuracy: 0.7000\n",
            "Epoch 35/200\n",
            "8/8 [==============================] - 0s 8ms/step - loss: 0.6125 - accuracy: 0.6778 - val_loss: 0.5120 - val_accuracy: 0.7167\n",
            "Epoch 36/200\n",
            "8/8 [==============================] - 0s 7ms/step - loss: 0.5945 - accuracy: 0.7113 - val_loss: 0.5101 - val_accuracy: 0.8000\n",
            "Epoch 37/200\n",
            "8/8 [==============================] - 0s 7ms/step - loss: 0.5766 - accuracy: 0.6904 - val_loss: 0.5182 - val_accuracy: 0.7833\n",
            "Epoch 38/200\n",
            "8/8 [==============================] - 0s 9ms/step - loss: 0.5728 - accuracy: 0.7322 - val_loss: 0.5206 - val_accuracy: 0.7167\n",
            "Epoch 39/200\n",
            "8/8 [==============================] - 0s 7ms/step - loss: 0.6096 - accuracy: 0.6862 - val_loss: 0.4966 - val_accuracy: 0.7500\n",
            "Epoch 40/200\n",
            "8/8 [==============================] - 0s 8ms/step - loss: 0.5988 - accuracy: 0.6987 - val_loss: 0.4901 - val_accuracy: 0.7333\n",
            "Epoch 41/200\n",
            "8/8 [==============================] - 0s 7ms/step - loss: 0.5633 - accuracy: 0.7113 - val_loss: 0.4864 - val_accuracy: 0.7500\n",
            "Epoch 42/200\n",
            "8/8 [==============================] - 0s 9ms/step - loss: 0.5610 - accuracy: 0.7280 - val_loss: 0.5162 - val_accuracy: 0.7833\n",
            "Epoch 43/200\n",
            "8/8 [==============================] - 0s 9ms/step - loss: 0.5751 - accuracy: 0.7155 - val_loss: 0.4938 - val_accuracy: 0.7667\n",
            "Epoch 44/200\n",
            "8/8 [==============================] - 0s 9ms/step - loss: 0.5581 - accuracy: 0.7197 - val_loss: 0.4836 - val_accuracy: 0.7500\n",
            "Epoch 45/200\n",
            "8/8 [==============================] - 0s 10ms/step - loss: 0.5884 - accuracy: 0.6946 - val_loss: 0.5366 - val_accuracy: 0.7500\n",
            "Epoch 46/200\n",
            "8/8 [==============================] - 0s 9ms/step - loss: 0.5869 - accuracy: 0.7029 - val_loss: 0.5331 - val_accuracy: 0.7667\n",
            "Epoch 47/200\n",
            "8/8 [==============================] - 0s 8ms/step - loss: 0.5662 - accuracy: 0.7071 - val_loss: 0.4843 - val_accuracy: 0.8167\n",
            "Epoch 48/200\n",
            "8/8 [==============================] - 0s 7ms/step - loss: 0.5822 - accuracy: 0.6987 - val_loss: 0.4833 - val_accuracy: 0.8167\n",
            "Epoch 49/200\n",
            "8/8 [==============================] - 0s 9ms/step - loss: 0.5751 - accuracy: 0.6862 - val_loss: 0.5027 - val_accuracy: 0.8000\n",
            "Epoch 50/200\n",
            "8/8 [==============================] - 0s 10ms/step - loss: 0.5916 - accuracy: 0.6862 - val_loss: 0.5246 - val_accuracy: 0.7667\n",
            "Epoch 51/200\n",
            "8/8 [==============================] - 0s 9ms/step - loss: 0.5764 - accuracy: 0.7113 - val_loss: 0.5037 - val_accuracy: 0.7833\n",
            "Epoch 52/200\n",
            "8/8 [==============================] - 0s 12ms/step - loss: 0.5647 - accuracy: 0.7573 - val_loss: 0.4859 - val_accuracy: 0.7667\n",
            "Epoch 53/200\n",
            "8/8 [==============================] - 0s 10ms/step - loss: 0.5498 - accuracy: 0.7615 - val_loss: 0.5058 - val_accuracy: 0.7000\n",
            "Epoch 54/200\n",
            "8/8 [==============================] - 0s 11ms/step - loss: 0.5587 - accuracy: 0.7113 - val_loss: 0.4732 - val_accuracy: 0.7500\n",
            "Epoch 55/200\n",
            "8/8 [==============================] - 0s 11ms/step - loss: 0.5521 - accuracy: 0.7490 - val_loss: 0.5197 - val_accuracy: 0.7500\n",
            "Epoch 56/200\n",
            "8/8 [==============================] - 0s 10ms/step - loss: 0.5656 - accuracy: 0.6987 - val_loss: 0.5288 - val_accuracy: 0.7333\n",
            "Epoch 57/200\n",
            "8/8 [==============================] - 0s 11ms/step - loss: 0.5674 - accuracy: 0.7280 - val_loss: 0.4725 - val_accuracy: 0.8000\n",
            "Epoch 58/200\n",
            "8/8 [==============================] - 0s 13ms/step - loss: 0.5815 - accuracy: 0.7113 - val_loss: 0.4613 - val_accuracy: 0.8000\n",
            "Epoch 59/200\n",
            "8/8 [==============================] - 0s 9ms/step - loss: 0.6885 - accuracy: 0.6402 - val_loss: 0.6156 - val_accuracy: 0.6833\n",
            "Epoch 60/200\n",
            "8/8 [==============================] - 0s 8ms/step - loss: 0.6456 - accuracy: 0.6653 - val_loss: 0.6091 - val_accuracy: 0.7000\n",
            "Epoch 61/200\n",
            "8/8 [==============================] - 0s 9ms/step - loss: 0.5648 - accuracy: 0.7573 - val_loss: 0.6376 - val_accuracy: 0.6333\n",
            "Epoch 62/200\n",
            "8/8 [==============================] - 0s 12ms/step - loss: 0.5854 - accuracy: 0.7155 - val_loss: 0.4907 - val_accuracy: 0.7833\n",
            "Epoch 63/200\n",
            "8/8 [==============================] - 0s 11ms/step - loss: 0.5512 - accuracy: 0.7238 - val_loss: 0.4634 - val_accuracy: 0.8333\n",
            "Epoch 64/200\n",
            "8/8 [==============================] - 0s 11ms/step - loss: 0.5606 - accuracy: 0.7448 - val_loss: 0.6282 - val_accuracy: 0.6833\n",
            "Epoch 65/200\n",
            "8/8 [==============================] - 0s 11ms/step - loss: 0.6463 - accuracy: 0.6736 - val_loss: 0.4583 - val_accuracy: 0.8333\n",
            "Epoch 66/200\n",
            "8/8 [==============================] - 0s 9ms/step - loss: 0.6072 - accuracy: 0.6946 - val_loss: 0.4590 - val_accuracy: 0.8000\n",
            "Epoch 67/200\n",
            "8/8 [==============================] - 0s 12ms/step - loss: 0.5416 - accuracy: 0.7406 - val_loss: 0.5384 - val_accuracy: 0.7000\n",
            "Epoch 68/200\n",
            "8/8 [==============================] - 0s 12ms/step - loss: 0.5750 - accuracy: 0.7197 - val_loss: 0.5615 - val_accuracy: 0.7000\n",
            "Epoch 69/200\n",
            "8/8 [==============================] - 0s 12ms/step - loss: 0.5636 - accuracy: 0.7113 - val_loss: 0.4623 - val_accuracy: 0.8167\n",
            "Epoch 70/200\n",
            "8/8 [==============================] - 0s 12ms/step - loss: 0.6081 - accuracy: 0.6904 - val_loss: 0.5385 - val_accuracy: 0.6833\n",
            "Epoch 71/200\n",
            "8/8 [==============================] - 0s 10ms/step - loss: 0.5460 - accuracy: 0.7657 - val_loss: 0.4496 - val_accuracy: 0.8333\n",
            "Epoch 72/200\n",
            "8/8 [==============================] - 0s 10ms/step - loss: 0.5456 - accuracy: 0.7448 - val_loss: 0.5273 - val_accuracy: 0.7333\n",
            "Epoch 73/200\n",
            "8/8 [==============================] - 0s 10ms/step - loss: 0.5452 - accuracy: 0.7322 - val_loss: 0.4911 - val_accuracy: 0.7833\n",
            "Epoch 74/200\n",
            "8/8 [==============================] - 0s 10ms/step - loss: 0.5318 - accuracy: 0.7197 - val_loss: 0.4441 - val_accuracy: 0.8167\n",
            "Epoch 75/200\n",
            "8/8 [==============================] - 0s 10ms/step - loss: 0.5013 - accuracy: 0.7406 - val_loss: 0.4889 - val_accuracy: 0.8000\n",
            "Epoch 76/200\n",
            "8/8 [==============================] - 0s 9ms/step - loss: 0.5087 - accuracy: 0.7364 - val_loss: 0.4443 - val_accuracy: 0.8167\n",
            "Epoch 77/200\n",
            "8/8 [==============================] - 0s 12ms/step - loss: 0.5117 - accuracy: 0.7573 - val_loss: 0.4413 - val_accuracy: 0.8167\n",
            "Epoch 78/200\n",
            "8/8 [==============================] - 0s 10ms/step - loss: 0.5322 - accuracy: 0.7113 - val_loss: 0.4484 - val_accuracy: 0.7833\n",
            "Epoch 79/200\n",
            "8/8 [==============================] - 0s 9ms/step - loss: 0.5058 - accuracy: 0.7448 - val_loss: 0.4986 - val_accuracy: 0.7833\n",
            "Epoch 80/200\n",
            "8/8 [==============================] - 0s 11ms/step - loss: 0.5078 - accuracy: 0.7573 - val_loss: 0.4362 - val_accuracy: 0.8167\n",
            "Epoch 81/200\n",
            "8/8 [==============================] - 0s 11ms/step - loss: 0.4871 - accuracy: 0.7699 - val_loss: 0.4324 - val_accuracy: 0.8333\n",
            "Epoch 82/200\n",
            "8/8 [==============================] - 0s 9ms/step - loss: 0.4857 - accuracy: 0.7364 - val_loss: 0.4522 - val_accuracy: 0.8000\n",
            "Epoch 83/200\n",
            "8/8 [==============================] - 0s 10ms/step - loss: 0.4927 - accuracy: 0.7364 - val_loss: 0.4371 - val_accuracy: 0.8167\n",
            "Epoch 84/200\n",
            "8/8 [==============================] - 0s 11ms/step - loss: 0.5214 - accuracy: 0.7280 - val_loss: 0.5341 - val_accuracy: 0.7167\n",
            "Epoch 85/200\n",
            "8/8 [==============================] - 0s 11ms/step - loss: 0.5424 - accuracy: 0.7197 - val_loss: 0.5613 - val_accuracy: 0.7000\n",
            "Epoch 86/200\n",
            "8/8 [==============================] - 0s 9ms/step - loss: 0.5483 - accuracy: 0.7364 - val_loss: 0.4379 - val_accuracy: 0.8000\n",
            "Epoch 87/200\n",
            "8/8 [==============================] - 0s 11ms/step - loss: 0.4801 - accuracy: 0.7490 - val_loss: 0.4608 - val_accuracy: 0.8000\n",
            "Epoch 88/200\n",
            "8/8 [==============================] - 0s 12ms/step - loss: 0.4890 - accuracy: 0.7531 - val_loss: 0.4396 - val_accuracy: 0.8000\n",
            "Epoch 89/200\n",
            "8/8 [==============================] - 0s 10ms/step - loss: 0.4998 - accuracy: 0.7573 - val_loss: 0.4843 - val_accuracy: 0.7667\n",
            "Epoch 90/200\n",
            "8/8 [==============================] - 0s 11ms/step - loss: 0.5165 - accuracy: 0.7531 - val_loss: 0.4908 - val_accuracy: 0.7500\n",
            "Epoch 91/200\n",
            "8/8 [==============================] - 0s 9ms/step - loss: 0.5101 - accuracy: 0.7699 - val_loss: 0.4601 - val_accuracy: 0.8000\n",
            "Epoch 92/200\n",
            "8/8 [==============================] - 0s 10ms/step - loss: 0.4820 - accuracy: 0.7657 - val_loss: 0.4262 - val_accuracy: 0.8500\n",
            "Epoch 93/200\n",
            "8/8 [==============================] - 0s 9ms/step - loss: 0.4826 - accuracy: 0.7741 - val_loss: 0.4254 - val_accuracy: 0.8167\n",
            "Epoch 94/200\n",
            "8/8 [==============================] - 0s 11ms/step - loss: 0.4854 - accuracy: 0.7657 - val_loss: 0.4476 - val_accuracy: 0.7833\n",
            "Epoch 95/200\n",
            "8/8 [==============================] - 0s 12ms/step - loss: 0.4857 - accuracy: 0.7699 - val_loss: 0.4417 - val_accuracy: 0.7833\n",
            "Epoch 96/200\n",
            "8/8 [==============================] - 0s 11ms/step - loss: 0.5100 - accuracy: 0.7741 - val_loss: 0.4206 - val_accuracy: 0.8667\n",
            "Epoch 97/200\n",
            "8/8 [==============================] - 0s 9ms/step - loss: 0.4914 - accuracy: 0.7615 - val_loss: 0.4487 - val_accuracy: 0.8000\n",
            "Epoch 98/200\n",
            "8/8 [==============================] - 0s 10ms/step - loss: 0.5310 - accuracy: 0.7364 - val_loss: 0.4274 - val_accuracy: 0.8667\n",
            "Epoch 99/200\n",
            "8/8 [==============================] - 0s 7ms/step - loss: 0.4728 - accuracy: 0.7657 - val_loss: 0.4497 - val_accuracy: 0.8000\n",
            "Epoch 100/200\n",
            "8/8 [==============================] - 0s 9ms/step - loss: 0.4848 - accuracy: 0.7490 - val_loss: 0.4169 - val_accuracy: 0.8667\n",
            "Epoch 101/200\n",
            "8/8 [==============================] - 0s 7ms/step - loss: 0.4744 - accuracy: 0.7615 - val_loss: 0.4175 - val_accuracy: 0.8667\n",
            "Epoch 102/200\n",
            "8/8 [==============================] - 0s 10ms/step - loss: 0.4893 - accuracy: 0.7657 - val_loss: 0.4326 - val_accuracy: 0.8167\n",
            "Epoch 103/200\n",
            "8/8 [==============================] - 0s 9ms/step - loss: 0.4938 - accuracy: 0.7657 - val_loss: 0.4645 - val_accuracy: 0.7667\n",
            "Epoch 104/200\n",
            "8/8 [==============================] - 0s 7ms/step - loss: 0.4614 - accuracy: 0.7657 - val_loss: 0.4191 - val_accuracy: 0.8667\n",
            "Epoch 105/200\n",
            "8/8 [==============================] - 0s 7ms/step - loss: 0.4723 - accuracy: 0.7490 - val_loss: 0.4339 - val_accuracy: 0.8000\n",
            "Epoch 106/200\n",
            "8/8 [==============================] - 0s 7ms/step - loss: 0.4668 - accuracy: 0.7866 - val_loss: 0.4330 - val_accuracy: 0.8167\n",
            "Epoch 107/200\n",
            "8/8 [==============================] - 0s 7ms/step - loss: 0.4709 - accuracy: 0.7824 - val_loss: 0.4100 - val_accuracy: 0.8500\n",
            "Epoch 108/200\n",
            "8/8 [==============================] - 0s 7ms/step - loss: 0.4862 - accuracy: 0.7866 - val_loss: 0.4156 - val_accuracy: 0.8167\n",
            "Epoch 109/200\n",
            "8/8 [==============================] - 0s 7ms/step - loss: 0.4646 - accuracy: 0.7699 - val_loss: 0.4510 - val_accuracy: 0.8000\n",
            "Epoch 110/200\n",
            "8/8 [==============================] - 0s 9ms/step - loss: 0.4937 - accuracy: 0.7531 - val_loss: 0.4225 - val_accuracy: 0.8167\n",
            "Epoch 111/200\n",
            "8/8 [==============================] - 0s 6ms/step - loss: 0.5337 - accuracy: 0.7364 - val_loss: 0.4077 - val_accuracy: 0.8667\n",
            "Epoch 112/200\n",
            "8/8 [==============================] - 0s 7ms/step - loss: 0.4586 - accuracy: 0.7741 - val_loss: 0.4108 - val_accuracy: 0.8500\n",
            "Epoch 113/200\n",
            "8/8 [==============================] - 0s 9ms/step - loss: 0.4563 - accuracy: 0.7657 - val_loss: 0.4187 - val_accuracy: 0.8167\n",
            "Epoch 114/200\n",
            "8/8 [==============================] - 0s 11ms/step - loss: 0.4848 - accuracy: 0.7866 - val_loss: 0.4097 - val_accuracy: 0.8667\n",
            "Epoch 115/200\n",
            "8/8 [==============================] - 0s 8ms/step - loss: 0.4984 - accuracy: 0.7531 - val_loss: 0.4272 - val_accuracy: 0.8167\n",
            "Epoch 116/200\n",
            "8/8 [==============================] - 0s 9ms/step - loss: 0.4543 - accuracy: 0.7657 - val_loss: 0.4090 - val_accuracy: 0.8667\n",
            "Epoch 117/200\n",
            "8/8 [==============================] - 0s 10ms/step - loss: 0.4467 - accuracy: 0.7824 - val_loss: 0.4320 - val_accuracy: 0.8000\n",
            "Epoch 118/200\n",
            "8/8 [==============================] - 0s 10ms/step - loss: 0.4452 - accuracy: 0.8075 - val_loss: 0.4360 - val_accuracy: 0.7833\n",
            "Epoch 119/200\n",
            "8/8 [==============================] - 0s 10ms/step - loss: 0.4583 - accuracy: 0.7992 - val_loss: 0.4086 - val_accuracy: 0.8667\n",
            "Epoch 120/200\n",
            "8/8 [==============================] - 0s 10ms/step - loss: 0.4493 - accuracy: 0.7824 - val_loss: 0.4074 - val_accuracy: 0.8667\n",
            "Epoch 121/200\n",
            "8/8 [==============================] - 0s 11ms/step - loss: 0.4785 - accuracy: 0.7741 - val_loss: 0.4116 - val_accuracy: 0.8167\n",
            "Epoch 122/200\n",
            "8/8 [==============================] - 0s 8ms/step - loss: 0.4988 - accuracy: 0.7573 - val_loss: 0.4785 - val_accuracy: 0.7500\n",
            "Epoch 123/200\n",
            "8/8 [==============================] - 0s 8ms/step - loss: 0.4464 - accuracy: 0.7741 - val_loss: 0.4131 - val_accuracy: 0.8667\n",
            "Epoch 124/200\n",
            "8/8 [==============================] - 0s 11ms/step - loss: 0.4452 - accuracy: 0.7782 - val_loss: 0.4038 - val_accuracy: 0.8667\n",
            "Epoch 125/200\n",
            "8/8 [==============================] - 0s 11ms/step - loss: 0.4583 - accuracy: 0.7531 - val_loss: 0.4666 - val_accuracy: 0.7667\n",
            "Epoch 126/200\n",
            "8/8 [==============================] - 0s 8ms/step - loss: 0.5318 - accuracy: 0.7364 - val_loss: 0.5282 - val_accuracy: 0.7500\n",
            "Epoch 127/200\n",
            "8/8 [==============================] - 0s 8ms/step - loss: 0.5477 - accuracy: 0.7490 - val_loss: 0.4053 - val_accuracy: 0.8167\n",
            "Epoch 128/200\n",
            "8/8 [==============================] - 0s 8ms/step - loss: 0.4933 - accuracy: 0.7741 - val_loss: 0.4111 - val_accuracy: 0.8500\n",
            "Epoch 129/200\n",
            "8/8 [==============================] - 0s 11ms/step - loss: 0.4593 - accuracy: 0.7531 - val_loss: 0.4262 - val_accuracy: 0.8167\n",
            "Epoch 130/200\n",
            "8/8 [==============================] - 0s 11ms/step - loss: 0.4314 - accuracy: 0.7866 - val_loss: 0.4125 - val_accuracy: 0.8500\n",
            "Epoch 131/200\n",
            "8/8 [==============================] - 0s 11ms/step - loss: 0.4993 - accuracy: 0.7490 - val_loss: 0.4268 - val_accuracy: 0.8333\n",
            "Epoch 132/200\n",
            "8/8 [==============================] - 0s 11ms/step - loss: 0.5533 - accuracy: 0.7280 - val_loss: 0.4700 - val_accuracy: 0.7667\n",
            "Epoch 133/200\n",
            "8/8 [==============================] - 0s 10ms/step - loss: 0.5591 - accuracy: 0.6946 - val_loss: 0.6180 - val_accuracy: 0.6667\n",
            "Epoch 134/200\n",
            "8/8 [==============================] - 0s 9ms/step - loss: 0.5677 - accuracy: 0.7197 - val_loss: 0.4073 - val_accuracy: 0.8167\n",
            "Epoch 135/200\n",
            "8/8 [==============================] - 0s 10ms/step - loss: 0.4409 - accuracy: 0.7782 - val_loss: 0.4451 - val_accuracy: 0.7833\n",
            "Epoch 136/200\n",
            "8/8 [==============================] - 0s 12ms/step - loss: 0.4565 - accuracy: 0.7950 - val_loss: 0.4655 - val_accuracy: 0.7833\n",
            "Epoch 137/200\n",
            "8/8 [==============================] - 0s 15ms/step - loss: 0.4422 - accuracy: 0.7866 - val_loss: 0.4211 - val_accuracy: 0.8333\n",
            "Epoch 138/200\n",
            "8/8 [==============================] - 0s 11ms/step - loss: 0.4309 - accuracy: 0.8075 - val_loss: 0.4557 - val_accuracy: 0.7833\n",
            "Epoch 139/200\n",
            "8/8 [==============================] - 0s 12ms/step - loss: 0.4547 - accuracy: 0.7908 - val_loss: 0.4130 - val_accuracy: 0.8333\n",
            "Epoch 140/200\n",
            "8/8 [==============================] - 0s 12ms/step - loss: 0.5035 - accuracy: 0.7657 - val_loss: 0.3965 - val_accuracy: 0.8333\n",
            "Epoch 141/200\n",
            "8/8 [==============================] - 0s 13ms/step - loss: 0.5259 - accuracy: 0.7531 - val_loss: 0.3985 - val_accuracy: 0.8167\n",
            "Epoch 142/200\n",
            "8/8 [==============================] - 0s 13ms/step - loss: 0.4540 - accuracy: 0.7866 - val_loss: 0.3936 - val_accuracy: 0.8833\n",
            "Epoch 143/200\n",
            "8/8 [==============================] - 0s 9ms/step - loss: 0.4277 - accuracy: 0.7908 - val_loss: 0.3917 - val_accuracy: 0.8500\n",
            "Epoch 144/200\n",
            "8/8 [==============================] - 0s 10ms/step - loss: 0.4209 - accuracy: 0.8075 - val_loss: 0.4115 - val_accuracy: 0.8333\n",
            "Epoch 145/200\n",
            "8/8 [==============================] - 0s 11ms/step - loss: 0.4176 - accuracy: 0.7950 - val_loss: 0.4035 - val_accuracy: 0.8167\n",
            "Epoch 146/200\n",
            "8/8 [==============================] - 0s 9ms/step - loss: 0.4369 - accuracy: 0.8033 - val_loss: 0.3926 - val_accuracy: 0.8833\n",
            "Epoch 147/200\n",
            "8/8 [==============================] - 0s 10ms/step - loss: 0.4246 - accuracy: 0.8117 - val_loss: 0.4723 - val_accuracy: 0.7500\n",
            "Epoch 148/200\n",
            "8/8 [==============================] - 0s 13ms/step - loss: 0.4448 - accuracy: 0.8075 - val_loss: 0.3894 - val_accuracy: 0.8500\n",
            "Epoch 149/200\n",
            "8/8 [==============================] - 0s 15ms/step - loss: 0.4285 - accuracy: 0.7992 - val_loss: 0.4001 - val_accuracy: 0.8500\n",
            "Epoch 150/200\n",
            "8/8 [==============================] - 0s 17ms/step - loss: 0.4273 - accuracy: 0.8075 - val_loss: 0.4013 - val_accuracy: 0.8500\n",
            "Epoch 151/200\n",
            "8/8 [==============================] - 0s 15ms/step - loss: 0.4147 - accuracy: 0.8285 - val_loss: 0.4044 - val_accuracy: 0.8167\n",
            "Epoch 152/200\n",
            "8/8 [==============================] - 0s 16ms/step - loss: 0.4598 - accuracy: 0.7866 - val_loss: 0.3891 - val_accuracy: 0.8667\n",
            "Epoch 153/200\n",
            "8/8 [==============================] - 0s 14ms/step - loss: 0.4300 - accuracy: 0.7741 - val_loss: 0.4134 - val_accuracy: 0.8333\n",
            "Epoch 154/200\n",
            "8/8 [==============================] - 0s 14ms/step - loss: 0.4607 - accuracy: 0.7866 - val_loss: 0.5274 - val_accuracy: 0.6833\n",
            "Epoch 155/200\n",
            "8/8 [==============================] - 0s 14ms/step - loss: 0.4989 - accuracy: 0.7490 - val_loss: 0.5346 - val_accuracy: 0.6833\n",
            "Epoch 156/200\n",
            "8/8 [==============================] - 0s 11ms/step - loss: 0.4649 - accuracy: 0.7866 - val_loss: 0.4741 - val_accuracy: 0.7500\n",
            "Epoch 157/200\n",
            "8/8 [==============================] - 0s 10ms/step - loss: 0.4679 - accuracy: 0.7657 - val_loss: 0.4127 - val_accuracy: 0.8000\n",
            "Epoch 158/200\n",
            "8/8 [==============================] - 0s 11ms/step - loss: 0.4320 - accuracy: 0.7824 - val_loss: 0.3880 - val_accuracy: 0.8667\n",
            "Epoch 159/200\n",
            "8/8 [==============================] - 0s 9ms/step - loss: 0.4150 - accuracy: 0.8117 - val_loss: 0.3950 - val_accuracy: 0.8667\n",
            "Epoch 160/200\n",
            "8/8 [==============================] - 0s 9ms/step - loss: 0.4366 - accuracy: 0.8159 - val_loss: 0.5013 - val_accuracy: 0.7333\n",
            "Epoch 161/200\n",
            "8/8 [==============================] - 0s 10ms/step - loss: 0.4414 - accuracy: 0.8117 - val_loss: 0.5240 - val_accuracy: 0.7000\n",
            "Epoch 162/200\n",
            "8/8 [==============================] - 0s 8ms/step - loss: 0.5290 - accuracy: 0.7448 - val_loss: 0.4506 - val_accuracy: 0.7833\n",
            "Epoch 163/200\n",
            "8/8 [==============================] - 0s 10ms/step - loss: 0.4420 - accuracy: 0.7950 - val_loss: 0.3953 - val_accuracy: 0.8167\n",
            "Epoch 164/200\n",
            "8/8 [==============================] - 0s 7ms/step - loss: 0.4304 - accuracy: 0.7782 - val_loss: 0.3898 - val_accuracy: 0.8333\n",
            "Epoch 165/200\n",
            "8/8 [==============================] - 0s 7ms/step - loss: 0.4187 - accuracy: 0.8159 - val_loss: 0.4007 - val_accuracy: 0.8500\n",
            "Epoch 166/200\n",
            "8/8 [==============================] - 0s 7ms/step - loss: 0.4123 - accuracy: 0.7992 - val_loss: 0.5329 - val_accuracy: 0.6833\n",
            "Epoch 167/200\n",
            "8/8 [==============================] - 0s 9ms/step - loss: 0.4645 - accuracy: 0.7741 - val_loss: 0.4289 - val_accuracy: 0.8167\n",
            "Epoch 168/200\n",
            "8/8 [==============================] - 0s 7ms/step - loss: 0.4461 - accuracy: 0.7699 - val_loss: 0.5476 - val_accuracy: 0.7333\n",
            "Epoch 169/200\n",
            "8/8 [==============================] - 0s 10ms/step - loss: 0.5353 - accuracy: 0.7741 - val_loss: 0.3901 - val_accuracy: 0.8167\n",
            "Epoch 170/200\n",
            "8/8 [==============================] - 0s 7ms/step - loss: 0.4858 - accuracy: 0.7908 - val_loss: 0.5010 - val_accuracy: 0.7500\n",
            "Epoch 171/200\n",
            "8/8 [==============================] - 0s 10ms/step - loss: 0.4127 - accuracy: 0.8201 - val_loss: 0.3965 - val_accuracy: 0.8667\n",
            "Epoch 172/200\n",
            "8/8 [==============================] - 0s 11ms/step - loss: 0.4059 - accuracy: 0.8201 - val_loss: 0.4160 - val_accuracy: 0.8167\n",
            "Epoch 173/200\n",
            "8/8 [==============================] - 0s 9ms/step - loss: 0.4144 - accuracy: 0.8326 - val_loss: 0.4454 - val_accuracy: 0.8167\n",
            "Epoch 174/200\n",
            "8/8 [==============================] - 0s 10ms/step - loss: 0.4340 - accuracy: 0.7908 - val_loss: 0.3843 - val_accuracy: 0.8667\n",
            "Epoch 175/200\n",
            "8/8 [==============================] - 0s 7ms/step - loss: 0.4101 - accuracy: 0.8201 - val_loss: 0.3847 - val_accuracy: 0.8333\n",
            "Epoch 176/200\n",
            "8/8 [==============================] - 0s 9ms/step - loss: 0.4268 - accuracy: 0.7866 - val_loss: 0.3981 - val_accuracy: 0.8500\n",
            "Epoch 177/200\n",
            "8/8 [==============================] - 0s 7ms/step - loss: 0.4028 - accuracy: 0.8075 - val_loss: 0.3897 - val_accuracy: 0.8167\n",
            "Epoch 178/200\n",
            "8/8 [==============================] - 0s 7ms/step - loss: 0.4620 - accuracy: 0.7866 - val_loss: 0.4599 - val_accuracy: 0.7833\n",
            "Epoch 179/200\n",
            "8/8 [==============================] - 0s 9ms/step - loss: 0.4938 - accuracy: 0.7824 - val_loss: 0.3880 - val_accuracy: 0.8500\n",
            "Epoch 180/200\n",
            "8/8 [==============================] - 0s 7ms/step - loss: 0.4705 - accuracy: 0.7866 - val_loss: 0.3952 - val_accuracy: 0.8667\n",
            "Epoch 181/200\n",
            "8/8 [==============================] - 0s 9ms/step - loss: 0.4783 - accuracy: 0.7615 - val_loss: 0.5238 - val_accuracy: 0.7000\n",
            "Epoch 182/200\n",
            "8/8 [==============================] - 0s 9ms/step - loss: 0.4592 - accuracy: 0.7992 - val_loss: 0.4737 - val_accuracy: 0.7833\n",
            "Epoch 183/200\n",
            "8/8 [==============================] - 0s 7ms/step - loss: 0.4230 - accuracy: 0.7950 - val_loss: 0.4159 - val_accuracy: 0.8167\n",
            "Epoch 184/200\n",
            "8/8 [==============================] - 0s 9ms/step - loss: 0.4295 - accuracy: 0.7908 - val_loss: 0.3846 - val_accuracy: 0.8500\n",
            "Epoch 185/200\n",
            "8/8 [==============================] - 0s 8ms/step - loss: 0.4692 - accuracy: 0.7782 - val_loss: 0.4838 - val_accuracy: 0.7833\n",
            "Epoch 186/200\n",
            "8/8 [==============================] - 0s 9ms/step - loss: 0.4934 - accuracy: 0.7699 - val_loss: 0.4096 - val_accuracy: 0.8167\n",
            "Epoch 187/200\n",
            "8/8 [==============================] - 0s 9ms/step - loss: 0.4769 - accuracy: 0.8243 - val_loss: 0.3874 - val_accuracy: 0.8500\n",
            "Epoch 188/200\n",
            "8/8 [==============================] - 0s 9ms/step - loss: 0.4668 - accuracy: 0.7782 - val_loss: 0.5549 - val_accuracy: 0.6833\n",
            "Epoch 189/200\n",
            "8/8 [==============================] - 0s 9ms/step - loss: 0.5050 - accuracy: 0.7699 - val_loss: 0.6364 - val_accuracy: 0.7167\n",
            "Epoch 190/200\n",
            "8/8 [==============================] - 0s 7ms/step - loss: 0.5514 - accuracy: 0.7406 - val_loss: 0.5175 - val_accuracy: 0.7000\n",
            "Epoch 191/200\n",
            "8/8 [==============================] - 0s 7ms/step - loss: 0.5023 - accuracy: 0.7741 - val_loss: 0.3882 - val_accuracy: 0.8500\n",
            "Epoch 192/200\n",
            "8/8 [==============================] - 0s 9ms/step - loss: 0.4681 - accuracy: 0.7992 - val_loss: 0.3942 - val_accuracy: 0.8167\n",
            "Epoch 193/200\n",
            "8/8 [==============================] - 0s 7ms/step - loss: 0.4173 - accuracy: 0.8117 - val_loss: 0.3893 - val_accuracy: 0.8500\n",
            "Epoch 194/200\n",
            "8/8 [==============================] - 0s 6ms/step - loss: 0.4029 - accuracy: 0.8368 - val_loss: 0.5435 - val_accuracy: 0.7000\n",
            "Epoch 195/200\n",
            "8/8 [==============================] - 0s 6ms/step - loss: 0.4269 - accuracy: 0.8117 - val_loss: 0.4466 - val_accuracy: 0.8167\n",
            "Epoch 196/200\n",
            "8/8 [==============================] - 0s 9ms/step - loss: 0.4483 - accuracy: 0.7782 - val_loss: 0.3856 - val_accuracy: 0.8667\n",
            "Epoch 197/200\n",
            "8/8 [==============================] - 0s 7ms/step - loss: 0.4506 - accuracy: 0.7741 - val_loss: 0.4011 - val_accuracy: 0.8167\n",
            "Epoch 198/200\n",
            "8/8 [==============================] - 0s 6ms/step - loss: 0.4301 - accuracy: 0.7866 - val_loss: 0.3841 - val_accuracy: 0.8667\n",
            "Epoch 199/200\n",
            "8/8 [==============================] - 0s 7ms/step - loss: 0.3996 - accuracy: 0.8368 - val_loss: 0.4689 - val_accuracy: 0.8000\n",
            "Epoch 200/200\n",
            "8/8 [==============================] - 0s 7ms/step - loss: 0.4264 - accuracy: 0.7908 - val_loss: 0.4696 - val_accuracy: 0.8000\n"
          ]
        }
      ],
      "source": [
        "history = model.fit(X_train, Y_train, validation_data=(X_test, Y_test), epochs=200)\n"
      ]
    },
    {
      "cell_type": "code",
      "execution_count": null,
      "metadata": {
        "colab": {
          "base_uri": "https://localhost:8080/"
        },
        "id": "qAzMz4QplBk6",
        "outputId": "2fd19c86-bf59-435c-9680-b09023bb5e41"
      },
      "outputs": [
        {
          "name": "stdout",
          "output_type": "stream",
          "text": [
            "2/2 [==============================] - 0s 9ms/step - loss: 0.4696 - accuracy: 0.8000\n"
          ]
        },
        {
          "data": {
            "text/plain": [
              "[0.469621479511261, 0.800000011920929]"
            ]
          },
          "execution_count": 74,
          "metadata": {},
          "output_type": "execute_result"
        }
      ],
      "source": [
        "model.evaluate(X_test, Y_test)"
      ]
    },
    {
      "cell_type": "code",
      "execution_count": null,
      "metadata": {
        "colab": {
          "base_uri": "https://localhost:8080/"
        },
        "id": "CNBSMQHizbfP",
        "outputId": "33db7d7d-9700-4a52-ddc8-4312e8d84a65"
      },
      "outputs": [
        {
          "name": "stdout",
          "output_type": "stream",
          "text": [
            "2/2 [==============================] - 0s 5ms/step\n"
          ]
        },
        {
          "data": {
            "text/plain": [
              "array([[0.63672394],\n",
              "       [0.989073  ],\n",
              "       [0.13723528],\n",
              "       [0.27198574],\n",
              "       [0.9932551 ],\n",
              "       [0.42716396],\n",
              "       [0.23317537],\n",
              "       [0.7837549 ],\n",
              "       [0.9335709 ],\n",
              "       [0.12569438]], dtype=float32)"
            ]
          },
          "execution_count": 75,
          "metadata": {},
          "output_type": "execute_result"
        }
      ],
      "source": [
        "Yp = model.predict(X_test)\n",
        "Yp[:10]\n"
      ]
    },
    {
      "cell_type": "code",
      "execution_count": null,
      "metadata": {
        "id": "f6F7-gomK4so"
      },
      "outputs": [],
      "source": [
        "Y_pred = []\n",
        "for element in yp:\n",
        "    if element > 0.5:\n",
        "        Y_pred.append(1)\n",
        "    else:\n",
        "        Y_pred.append(0)"
      ]
    },
    {
      "cell_type": "code",
      "execution_count": null,
      "metadata": {
        "colab": {
          "base_uri": "https://localhost:8080/"
        },
        "id": "KNKf8OmWLJzK",
        "outputId": "76eeecb7-72e4-447e-9a7a-9531e33a3f63"
      },
      "outputs": [
        {
          "data": {
            "text/plain": [
              "[0, 1, 0, 0, 1, 0, 0, 1, 1, 0]"
            ]
          },
          "execution_count": 77,
          "metadata": {},
          "output_type": "execute_result"
        }
      ],
      "source": [
        "Y_pred[:10]"
      ]
    },
    {
      "cell_type": "code",
      "execution_count": null,
      "metadata": {
        "colab": {
          "base_uri": "https://localhost:8080/"
        },
        "id": "9zH_ZEZzLq-m",
        "outputId": "22b5d045-3977-4edd-fc83-c3c64525ce75"
      },
      "outputs": [
        {
          "data": {
            "text/plain": [
              "42     0\n",
              "68     1\n",
              "50     0\n",
              "226    0\n",
              "235    1\n",
              "17     0\n",
              "148    0\n",
              "297    1\n",
              "247    1\n",
              "198    0\n",
              "Name: target, dtype: int64"
            ]
          },
          "execution_count": 78,
          "metadata": {},
          "output_type": "execute_result"
        }
      ],
      "source": [
        "Y_test[:10]"
      ]
    },
    {
      "cell_type": "code",
      "execution_count": null,
      "metadata": {
        "colab": {
          "base_uri": "https://localhost:8080/"
        },
        "id": "pgykZ1rEL5Kn",
        "outputId": "1052ae69-4217-4ce3-eca6-3b4527c317e6"
      },
      "outputs": [
        {
          "name": "stdout",
          "output_type": "stream",
          "text": [
            "              precision    recall  f1-score   support\n",
            "\n",
            "           0       0.82      0.84      0.83        32\n",
            "           1       0.81      0.79      0.80        28\n",
            "\n",
            "    accuracy                           0.82        60\n",
            "   macro avg       0.82      0.81      0.82        60\n",
            "weighted avg       0.82      0.82      0.82        60\n",
            "\n"
          ]
        }
      ],
      "source": [
        "from sklearn.metrics import confusion_matrix , classification_report\n",
        "\n",
        "print(classification_report(Y_test,Y_pred))"
      ]
    },
    {
      "cell_type": "code",
      "execution_count": null,
      "metadata": {
        "colab": {
          "base_uri": "https://localhost:8080/",
          "height": 447
        },
        "id": "3zxDH7ZHNYr6",
        "outputId": "06a5e2d9-605d-4498-f09a-ccc4d0db2e3a"
      },
      "outputs": [
        {
          "data": {
            "image/png": "[encoded data removed]",
            "text/plain": [
              "<Figure size 640x480 with 1 Axes>"
            ]
          },
          "metadata": {},
          "output_type": "display_data"
        },
        {
          "data": {
            "text/plain": [
              "<Figure size 640x480 with 0 Axes>"
            ]
          },
          "metadata": {},
          "output_type": "display_data"
        }
      ],
      "source": [
        "import matplotlib.pyplot as plt\n",
        "#plot the loss\n",
        "\n",
        "plt.plot(history.history['loss'], label='train loss')\n",
        "plt.plot(history.history['val_loss'], label='val loss')\n",
        "plt.legend()\n",
        "plt.show()\n",
        "plt.savefig('Accval_acc')"
      ]
    },
    {
      "cell_type": "code",
      "execution_count": null,
      "metadata": {
        "colab": {
          "base_uri": "https://localhost:8080/",
          "height": 449
        },
        "id": "gDnXsefFSNnc",
        "outputId": "bec93b30-964b-41ad-8b08-7465bcafa4ad"
      },
      "outputs": [
        {
          "data": {
            "image/png": "[encoded data removed]",
            "text/plain": [
              "<Figure size 640x480 with 1 Axes>"
            ]
          },
          "metadata": {},
          "output_type": "display_data"
        },
        {
          "data": {
            "text/plain": [
              "<Figure size 640x480 with 0 Axes>"
            ]
          },
          "metadata": {},
          "output_type": "display_data"
        }
      ],
      "source": [
        "#plot the accuracy\n",
        "plt.plot(history.history['accuracy'], label='train acc')\n",
        "plt.plot(history.history['val_accuracy'], label='val acc')\n",
        "plt.legend()\n",
        "plt.show()\n",
        "plt.savefig('Accval_acc')"
      ]
    },
    {
      "cell_type": "markdown",
      "metadata": {
        "id": "nO8hcF8Y2T4s"
      },
      "source": [
        "# Support Vector Machine model"
      ]
    },
    {
      "cell_type": "code",
      "execution_count": 106,
      "metadata": {
        "id": "TyuLcx-N2PcL"
      },
      "outputs": [],
      "source": [
        "df3=df"
      ]
    },
    {
      "cell_type": "code",
      "execution_count": 107,
      "metadata": {
        "id": "95_5r1i02btx"
      },
      "outputs": [],
      "source": [
        "#Splitting the dataset\n",
        "X = df3.drop(columns='target', axis=1)\n",
        "Y = df3['target']"
      ]
    },
    {
      "cell_type": "code",
      "execution_count": 108,
      "metadata": {
        "colab": {
          "base_uri": "https://localhost:8080/"
        },
        "id": "LQyjwC0_3Jhz",
        "outputId": "c6c3dd55-3a92-405c-f2e9-2ae24e469a22"
      },
      "outputs": [
        {
          "data": {
            "text/plain": [
              "(299, 14)"
            ]
          },
          "execution_count": 108,
          "metadata": {},
          "output_type": "execute_result"
        }
      ],
      "source": [
        "df3.shape"
      ]
    },
    {
      "cell_type": "code",
      "execution_count": 109,
      "metadata": {
        "colab": {
          "base_uri": "https://localhost:8080/",
          "height": 320
        },
        "id": "mVlvYeXs3jF7",
        "outputId": "af451041-8334-4a81-ae05-9222a5a46778"
      },
      "outputs": [
        {
          "data": {
            "text/html": [
              "\n",
              "  <div id=\"df-53ed3741-768f-4893-a274-fb98ad62f7d1\" class=\"colab-df-container\">\n",
              "    <div>\n",
              "<style scoped>\n",
              "    .dataframe tbody tr th:only-of-type {\n",
              "        vertical-align: middle;\n",
              "    }\n",
              "\n",
              "    .dataframe tbody tr th {\n",
              "        vertical-align: top;\n",
              "    }\n",
              "\n",
              "    .dataframe thead th {\n",
              "        text-align: right;\n",
              "    }\n",
              "</style>\n",
              "<table border=\"1\" class=\"dataframe\">\n",
              "  <thead>\n",
              "    <tr style=\"text-align: right;\">\n",
              "      <th></th>\n",
              "      <th>age</th>\n",
              "      <th>sex</th>\n",
              "      <th>chest_pain_type</th>\n",
              "      <th>resting_blood_pressure</th>\n",
              "      <th>cholesterol</th>\n",
              "      <th>fasting_blood_sugar</th>\n",
              "      <th>resting_electrocardiographic_results</th>\n",
              "      <th>max_heart_rate_achieved</th>\n",
              "      <th>exercise_induced_angina</th>\n",
              "      <th>st_depression</th>\n",
              "      <th>st_slope_type</th>\n",
              "      <th>num_major_vessels</th>\n",
              "      <th>thalassemia_type</th>\n",
              "      <th>target</th>\n",
              "    </tr>\n",
              "  </thead>\n",
              "  <tbody>\n",
              "    <tr>\n",
              "      <th>count</th>\n",
              "      <td>299.000000</td>\n",
              "      <td>299.00000</td>\n",
              "      <td>299.000000</td>\n",
              "      <td>299.000000</td>\n",
              "      <td>299.000000</td>\n",
              "      <td>299.000000</td>\n",
              "      <td>299.000000</td>\n",
              "      <td>299.000000</td>\n",
              "      <td>299.000000</td>\n",
              "      <td>299.000000</td>\n",
              "      <td>299.000000</td>\n",
              "      <td>299.000000</td>\n",
              "      <td>299.000000</td>\n",
              "      <td>299.000000</td>\n",
              "    </tr>\n",
              "    <tr>\n",
              "      <th>mean</th>\n",
              "      <td>54.521739</td>\n",
              "      <td>0.67893</td>\n",
              "      <td>1.528428</td>\n",
              "      <td>131.715719</td>\n",
              "      <td>246.785953</td>\n",
              "      <td>0.143813</td>\n",
              "      <td>0.525084</td>\n",
              "      <td>149.327759</td>\n",
              "      <td>0.331104</td>\n",
              "      <td>1.058528</td>\n",
              "      <td>1.394649</td>\n",
              "      <td>0.672241</td>\n",
              "      <td>1.331104</td>\n",
              "      <td>0.464883</td>\n",
              "    </tr>\n",
              "    <tr>\n",
              "      <th>std</th>\n",
              "      <td>9.030264</td>\n",
              "      <td>0.46767</td>\n",
              "      <td>0.856300</td>\n",
              "      <td>17.747751</td>\n",
              "      <td>52.532582</td>\n",
              "      <td>0.351488</td>\n",
              "      <td>0.526358</td>\n",
              "      <td>23.121062</td>\n",
              "      <td>0.471399</td>\n",
              "      <td>1.162769</td>\n",
              "      <td>0.616962</td>\n",
              "      <td>0.937438</td>\n",
              "      <td>0.585681</td>\n",
              "      <td>0.499601</td>\n",
              "    </tr>\n",
              "    <tr>\n",
              "      <th>min</th>\n",
              "      <td>29.000000</td>\n",
              "      <td>0.00000</td>\n",
              "      <td>0.000000</td>\n",
              "      <td>94.000000</td>\n",
              "      <td>100.000000</td>\n",
              "      <td>0.000000</td>\n",
              "      <td>0.000000</td>\n",
              "      <td>71.000000</td>\n",
              "      <td>0.000000</td>\n",
              "      <td>0.000000</td>\n",
              "      <td>0.000000</td>\n",
              "      <td>0.000000</td>\n",
              "      <td>0.000000</td>\n",
              "      <td>0.000000</td>\n",
              "    </tr>\n",
              "    <tr>\n",
              "      <th>25%</th>\n",
              "      <td>48.000000</td>\n",
              "      <td>0.00000</td>\n",
              "      <td>1.000000</td>\n",
              "      <td>120.000000</td>\n",
              "      <td>211.000000</td>\n",
              "      <td>0.000000</td>\n",
              "      <td>0.000000</td>\n",
              "      <td>132.500000</td>\n",
              "      <td>0.000000</td>\n",
              "      <td>0.000000</td>\n",
              "      <td>1.000000</td>\n",
              "      <td>0.000000</td>\n",
              "      <td>1.000000</td>\n",
              "      <td>0.000000</td>\n",
              "    </tr>\n",
              "    <tr>\n",
              "      <th>50%</th>\n",
              "      <td>56.000000</td>\n",
              "      <td>1.00000</td>\n",
              "      <td>1.000000</td>\n",
              "      <td>130.000000</td>\n",
              "      <td>242.000000</td>\n",
              "      <td>0.000000</td>\n",
              "      <td>1.000000</td>\n",
              "      <td>152.000000</td>\n",
              "      <td>0.000000</td>\n",
              "      <td>0.800000</td>\n",
              "      <td>1.000000</td>\n",
              "      <td>0.000000</td>\n",
              "      <td>1.000000</td>\n",
              "      <td>0.000000</td>\n",
              "    </tr>\n",
              "    <tr>\n",
              "      <th>75%</th>\n",
              "      <td>61.000000</td>\n",
              "      <td>1.00000</td>\n",
              "      <td>2.000000</td>\n",
              "      <td>140.000000</td>\n",
              "      <td>275.500000</td>\n",
              "      <td>0.000000</td>\n",
              "      <td>1.000000</td>\n",
              "      <td>165.500000</td>\n",
              "      <td>1.000000</td>\n",
              "      <td>1.600000</td>\n",
              "      <td>2.000000</td>\n",
              "      <td>1.000000</td>\n",
              "      <td>2.000000</td>\n",
              "      <td>1.000000</td>\n",
              "    </tr>\n",
              "    <tr>\n",
              "      <th>max</th>\n",
              "      <td>77.000000</td>\n",
              "      <td>1.00000</td>\n",
              "      <td>3.000000</td>\n",
              "      <td>200.000000</td>\n",
              "      <td>564.000000</td>\n",
              "      <td>1.000000</td>\n",
              "      <td>2.000000</td>\n",
              "      <td>202.000000</td>\n",
              "      <td>1.000000</td>\n",
              "      <td>6.200000</td>\n",
              "      <td>2.000000</td>\n",
              "      <td>3.000000</td>\n",
              "      <td>2.000000</td>\n",
              "      <td>1.000000</td>\n",
              "    </tr>\n",
              "  </tbody>\n",
              "</table>\n",
              "</div>\n",
              "    <div class=\"colab-df-buttons\">\n",
              "\n",
              "  <div class=\"colab-df-container\">\n",
              "    <button class=\"colab-df-convert\" onclick=\"convertToInteractive('df-53ed3741-768f-4893-a274-fb98ad62f7d1')\"\n",
              "            title=\"Convert this dataframe to an interactive table.\"\n",
              "            style=\"display:none;\">\n",
              "\n",
              "  <svg xmlns=\"http://www.w3.org/2000/svg\" height=\"24px\" viewBox=\"0 -960 960 960\">\n",
              "    <path d=\"M120-120v-720h720v720H120Zm60-500h600v-160H180v160Zm220 220h160v-160H400v160Zm0 220h160v-160H400v160ZM180-400h160v-160H180v160Zm440 0h160v-160H620v160ZM180-180h160v-160H180v160Zm440 0h160v-160H620v160Z\"/>\n",
              "  </svg>\n",
              "    </button>\n",
              "\n",
              "  <style>\n",
              "    .colab-df-container {\n",
              "      display:flex;\n",
              "      gap: 12px;\n",
              "    }\n",
              "\n",
              "    .colab-df-convert {\n",
              "      background-color: #E8F0FE;\n",
              "      border: none;\n",
              "      border-radius: 50%;\n",
              "      cursor: pointer;\n",
              "      display: none;\n",
              "      fill: #1967D2;\n",
              "      height: 32px;\n",
              "      padding: 0 0 0 0;\n",
              "      width: 32px;\n",
              "    }\n",
              "\n",
              "    .colab-df-convert:hover {\n",
              "      background-color: #E2EBFA;\n",
              "      box-shadow: 0px 1px 2px rgba(60, 64, 67, 0.3), 0px 1px 3px 1px rgba(60, 64, 67, 0.15);\n",
              "      fill: #174EA6;\n",
              "    }\n",
              "\n",
              "    .colab-df-buttons div {\n",
              "      margin-bottom: 4px;\n",
              "    }\n",
              "\n",
              "    [theme=dark] .colab-df-convert {\n",
              "      background-color: #3B4455;\n",
              "      fill: #D2E3FC;\n",
              "    }\n",
              "\n",
              "    [theme=dark] .colab-df-convert:hover {\n",
              "      background-color: #434B5C;\n",
              "      box-shadow: 0px 1px 3px 1px rgba(0, 0, 0, 0.15);\n",
              "      filter: drop-shadow(0px 1px 2px rgba(0, 0, 0, 0.3));\n",
              "      fill: #FFFFFF;\n",
              "    }\n",
              "  </style>\n",
              "\n",
              "    <script>\n",
              "      const buttonEl =\n",
              "        document.querySelector('#df-53ed3741-768f-4893-a274-fb98ad62f7d1 button.colab-df-convert');\n",
              "      buttonEl.style.display =\n",
              "        google.colab.kernel.accessAllowed ? 'block' : 'none';\n",
              "\n",
              "      async function convertToInteractive(key) {\n",
              "        const element = document.querySelector('#df-53ed3741-768f-4893-a274-fb98ad62f7d1');\n",
              "        const dataTable =\n",
              "          await google.colab.kernel.invokeFunction('convertToInteractive',\n",
              "                                                    [key], {});\n",
              "        if (!dataTable) return;\n",
              "\n",
              "        const docLinkHtml = 'Like what you see? Visit the ' +\n",
              "          '<a target=\"_blank\" href=https://colab.research.google.com/notebooks/data_table.ipynb>data table notebook</a>'\n",
              "          + ' to learn more about interactive tables.';\n",
              "        element.innerHTML = '';\n",
              "        dataTable['output_type'] = 'display_data';\n",
              "        await google.colab.output.renderOutput(dataTable, element);\n",
              "        const docLink = document.createElement('div');\n",
              "        docLink.innerHTML = docLinkHtml;\n",
              "        element.appendChild(docLink);\n",
              "      }\n",
              "    </script>\n",
              "  </div>\n",
              "\n",
              "\n",
              "<div id=\"df-96d5c612-5636-480a-afd4-c06a94f17802\">\n",
              "  <button class=\"colab-df-quickchart\" onclick=\"quickchart('df-96d5c612-5636-480a-afd4-c06a94f17802')\"\n",
              "            title=\"Suggest charts.\"\n",
              "            style=\"display:none;\">\n",
              "\n",
              "<svg xmlns=\"http://www.w3.org/2000/svg\" height=\"24px\"viewBox=\"0 0 24 24\"\n",
              "     width=\"24px\">\n",
              "    <g>\n",
              "        <path d=\"M19 3H5c-1.1 0-2 .9-2 2v14c0 1.1.9 2 2 2h14c1.1 0 2-.9 2-2V5c0-1.1-.9-2-2-2zM9 17H7v-7h2v7zm4 0h-2V7h2v10zm4 0h-2v-4h2v4z\"/>\n",
              "    </g>\n",
              "</svg>\n",
              "  </button>\n",
              "\n",
              "<style>\n",
              "  .colab-df-quickchart {\n",
              "      --bg-color: #E8F0FE;\n",
              "      --fill-color: #1967D2;\n",
              "      --hover-bg-color: #E2EBFA;\n",
              "      --hover-fill-color: #174EA6;\n",
              "      --disabled-fill-color: #AAA;\n",
              "      --disabled-bg-color: #DDD;\n",
              "  }\n",
              "\n",
              "  [theme=dark] .colab-df-quickchart {\n",
              "      --bg-color: #3B4455;\n",
              "      --fill-color: #D2E3FC;\n",
              "      --hover-bg-color: #434B5C;\n",
              "      --hover-fill-color: #FFFFFF;\n",
              "      --disabled-bg-color: #3B4455;\n",
              "      --disabled-fill-color: #666;\n",
              "  }\n",
              "\n",
              "  .colab-df-quickchart {\n",
              "    background-color: var(--bg-color);\n",
              "    border: none;\n",
              "    border-radius: 50%;\n",
              "    cursor: pointer;\n",
              "    display: none;\n",
              "    fill: var(--fill-color);\n",
              "    height: 32px;\n",
              "    padding: 0;\n",
              "    width: 32px;\n",
              "  }\n",
              "\n",
              "  .colab-df-quickchart:hover {\n",
              "    background-color: var(--hover-bg-color);\n",
              "    box-shadow: 0 1px 2px rgba(60, 64, 67, 0.3), 0 1px 3px 1px rgba(60, 64, 67, 0.15);\n",
              "    fill: var(--button-hover-fill-color);\n",
              "  }\n",
              "\n",
              "  .colab-df-quickchart-complete:disabled,\n",
              "  .colab-df-quickchart-complete:disabled:hover {\n",
              "    background-color: var(--disabled-bg-color);\n",
              "    fill: var(--disabled-fill-color);\n",
              "    box-shadow: none;\n",
              "  }\n",
              "\n",
              "  .colab-df-spinner {\n",
              "    border: 2px solid var(--fill-color);\n",
              "    border-color: transparent;\n",
              "    border-bottom-color: var(--fill-color);\n",
              "    animation:\n",
              "      spin 1s steps(1) infinite;\n",
              "  }\n",
              "\n",
              "  @keyframes spin {\n",
              "    0% {\n",
              "      border-color: transparent;\n",
              "      border-bottom-color: var(--fill-color);\n",
              "      border-left-color: var(--fill-color);\n",
              "    }\n",
              "    20% {\n",
              "      border-color: transparent;\n",
              "      border-left-color: var(--fill-color);\n",
              "      border-top-color: var(--fill-color);\n",
              "    }\n",
              "    30% {\n",
              "      border-color: transparent;\n",
              "      border-left-color: var(--fill-color);\n",
              "      border-top-color: var(--fill-color);\n",
              "      border-right-color: var(--fill-color);\n",
              "    }\n",
              "    40% {\n",
              "      border-color: transparent;\n",
              "      border-right-color: var(--fill-color);\n",
              "      border-top-color: var(--fill-color);\n",
              "    }\n",
              "    60% {\n",
              "      border-color: transparent;\n",
              "      border-right-color: var(--fill-color);\n",
              "    }\n",
              "    80% {\n",
              "      border-color: transparent;\n",
              "      border-right-color: var(--fill-color);\n",
              "      border-bottom-color: var(--fill-color);\n",
              "    }\n",
              "    90% {\n",
              "      border-color: transparent;\n",
              "      border-bottom-color: var(--fill-color);\n",
              "    }\n",
              "  }\n",
              "</style>\n",
              "\n",
              "  <script>\n",
              "    async function quickchart(key) {\n",
              "      const quickchartButtonEl =\n",
              "        document.querySelector('#' + key + ' button');\n",
              "      quickchartButtonEl.disabled = true;  // To prevent multiple clicks.\n",
              "      quickchartButtonEl.classList.add('colab-df-spinner');\n",
              "      try {\n",
              "        const charts = await google.colab.kernel.invokeFunction(\n",
              "            'suggestCharts', [key], {});\n",
              "      } catch (error) {\n",
              "        console.error('Error during call to suggestCharts:', error);\n",
              "      }\n",
              "      quickchartButtonEl.classList.remove('colab-df-spinner');\n",
              "      quickchartButtonEl.classList.add('colab-df-quickchart-complete');\n",
              "    }\n",
              "    (() => {\n",
              "      let quickchartButtonEl =\n",
              "        document.querySelector('#df-96d5c612-5636-480a-afd4-c06a94f17802 button');\n",
              "      quickchartButtonEl.style.display =\n",
              "        google.colab.kernel.accessAllowed ? 'block' : 'none';\n",
              "    })();\n",
              "  </script>\n",
              "</div>\n",
              "    </div>\n",
              "  </div>\n"
            ],
            "text/plain": [
              "              age        sex  chest_pain_type  resting_blood_pressure  \\\n",
              "count  299.000000  299.00000       299.000000              299.000000   \n",
              "mean    54.521739    0.67893         1.528428              131.715719   \n",
              "std      9.030264    0.46767         0.856300               17.747751   \n",
              "min     29.000000    0.00000         0.000000               94.000000   \n",
              "25%     48.000000    0.00000         1.000000              120.000000   \n",
              "50%     56.000000    1.00000         1.000000              130.000000   \n",
              "75%     61.000000    1.00000         2.000000              140.000000   \n",
              "max     77.000000    1.00000         3.000000              200.000000   \n",
              "\n",
              "       cholesterol  fasting_blood_sugar  resting_electrocardiographic_results  \\\n",
              "count   299.000000           299.000000                            299.000000   \n",
              "mean    246.785953             0.143813                              0.525084   \n",
              "std      52.532582             0.351488                              0.526358   \n",
              "min     100.000000             0.000000                              0.000000   \n",
              "25%     211.000000             0.000000                              0.000000   \n",
              "50%     242.000000             0.000000                              1.000000   \n",
              "75%     275.500000             0.000000                              1.000000   \n",
              "max     564.000000             1.000000                              2.000000   \n",
              "\n",
              "       max_heart_rate_achieved  exercise_induced_angina  st_depression  \\\n",
              "count               299.000000               299.000000     299.000000   \n",
              "mean                149.327759                 0.331104       1.058528   \n",
              "std                  23.121062                 0.471399       1.162769   \n",
              "min                  71.000000                 0.000000       0.000000   \n",
              "25%                 132.500000                 0.000000       0.000000   \n",
              "50%                 152.000000                 0.000000       0.800000   \n",
              "75%                 165.500000                 1.000000       1.600000   \n",
              "max                 202.000000                 1.000000       6.200000   \n",
              "\n",
              "       st_slope_type  num_major_vessels  thalassemia_type      target  \n",
              "count     299.000000         299.000000        299.000000  299.000000  \n",
              "mean        1.394649           0.672241          1.331104    0.464883  \n",
              "std         0.616962           0.937438          0.585681    0.499601  \n",
              "min         0.000000           0.000000          0.000000    0.000000  \n",
              "25%         1.000000           0.000000          1.000000    0.000000  \n",
              "50%         1.000000           0.000000          1.000000    0.000000  \n",
              "75%         2.000000           1.000000          2.000000    1.000000  \n",
              "max         2.000000           3.000000          2.000000    1.000000  "
            ]
          },
          "execution_count": 109,
          "metadata": {},
          "output_type": "execute_result"
        }
      ],
      "source": [
        "df3.describe()"
      ]
    },
    {
      "cell_type": "code",
      "execution_count": 111,
      "metadata": {
        "colab": {
          "base_uri": "https://localhost:8080/",
          "height": 226
        },
        "id": "Kk1Vxt2E6wSI",
        "outputId": "c3f0d4ca-68aa-437d-9351-f77f1dc0cc44"
      },
      "outputs": [
        {
          "data": {
            "text/html": [
              "\n",
              "  <div id=\"df-d89a61fa-56d9-4cdb-9a34-ae07e13773fb\" class=\"colab-df-container\">\n",
              "    <div>\n",
              "<style scoped>\n",
              "    .dataframe tbody tr th:only-of-type {\n",
              "        vertical-align: middle;\n",
              "    }\n",
              "\n",
              "    .dataframe tbody tr th {\n",
              "        vertical-align: top;\n",
              "    }\n",
              "\n",
              "    .dataframe thead th {\n",
              "        text-align: right;\n",
              "    }\n",
              "</style>\n",
              "<table border=\"1\" class=\"dataframe\">\n",
              "  <thead>\n",
              "    <tr style=\"text-align: right;\">\n",
              "      <th></th>\n",
              "      <th>age</th>\n",
              "      <th>sex</th>\n",
              "      <th>chest_pain_type</th>\n",
              "      <th>resting_blood_pressure</th>\n",
              "      <th>cholesterol</th>\n",
              "      <th>fasting_blood_sugar</th>\n",
              "      <th>resting_electrocardiographic_results</th>\n",
              "      <th>max_heart_rate_achieved</th>\n",
              "      <th>exercise_induced_angina</th>\n",
              "      <th>st_depression</th>\n",
              "      <th>st_slope_type</th>\n",
              "      <th>num_major_vessels</th>\n",
              "      <th>thalassemia_type</th>\n",
              "      <th>target</th>\n",
              "    </tr>\n",
              "  </thead>\n",
              "  <tbody>\n",
              "    <tr>\n",
              "      <th>142</th>\n",
              "      <td>52</td>\n",
              "      <td>1</td>\n",
              "      <td>3</td>\n",
              "      <td>128.0</td>\n",
              "      <td>205.0</td>\n",
              "      <td>1</td>\n",
              "      <td>1</td>\n",
              "      <td>184.0</td>\n",
              "      <td>0</td>\n",
              "      <td>0.0</td>\n",
              "      <td>2</td>\n",
              "      <td>0.0</td>\n",
              "      <td>1</td>\n",
              "      <td>0</td>\n",
              "    </tr>\n",
              "    <tr>\n",
              "      <th>48</th>\n",
              "      <td>65</td>\n",
              "      <td>0</td>\n",
              "      <td>2</td>\n",
              "      <td>140.0</td>\n",
              "      <td>417.0</td>\n",
              "      <td>1</td>\n",
              "      <td>0</td>\n",
              "      <td>157.0</td>\n",
              "      <td>0</td>\n",
              "      <td>0.8</td>\n",
              "      <td>2</td>\n",
              "      <td>1.0</td>\n",
              "      <td>1</td>\n",
              "      <td>0</td>\n",
              "    </tr>\n",
              "    <tr>\n",
              "      <th>86</th>\n",
              "      <td>47</td>\n",
              "      <td>1</td>\n",
              "      <td>2</td>\n",
              "      <td>138.0</td>\n",
              "      <td>257.0</td>\n",
              "      <td>0</td>\n",
              "      <td>0</td>\n",
              "      <td>156.0</td>\n",
              "      <td>0</td>\n",
              "      <td>0.0</td>\n",
              "      <td>2</td>\n",
              "      <td>0.0</td>\n",
              "      <td>1</td>\n",
              "      <td>0</td>\n",
              "    </tr>\n",
              "    <tr>\n",
              "      <th>204</th>\n",
              "      <td>43</td>\n",
              "      <td>1</td>\n",
              "      <td>1</td>\n",
              "      <td>110.0</td>\n",
              "      <td>211.0</td>\n",
              "      <td>0</td>\n",
              "      <td>1</td>\n",
              "      <td>161.0</td>\n",
              "      <td>0</td>\n",
              "      <td>0.0</td>\n",
              "      <td>2</td>\n",
              "      <td>0.0</td>\n",
              "      <td>2</td>\n",
              "      <td>0</td>\n",
              "    </tr>\n",
              "    <tr>\n",
              "      <th>227</th>\n",
              "      <td>67</td>\n",
              "      <td>0</td>\n",
              "      <td>2</td>\n",
              "      <td>152.0</td>\n",
              "      <td>277.0</td>\n",
              "      <td>0</td>\n",
              "      <td>1</td>\n",
              "      <td>172.0</td>\n",
              "      <td>0</td>\n",
              "      <td>0.0</td>\n",
              "      <td>2</td>\n",
              "      <td>1.0</td>\n",
              "      <td>1</td>\n",
              "      <td>0</td>\n",
              "    </tr>\n",
              "  </tbody>\n",
              "</table>\n",
              "</div>\n",
              "    <div class=\"colab-df-buttons\">\n",
              "\n",
              "  <div class=\"colab-df-container\">\n",
              "    <button class=\"colab-df-convert\" onclick=\"convertToInteractive('df-d89a61fa-56d9-4cdb-9a34-ae07e13773fb')\"\n",
              "            title=\"Convert this dataframe to an interactive table.\"\n",
              "            style=\"display:none;\">\n",
              "\n",
              "  <svg xmlns=\"http://www.w3.org/2000/svg\" height=\"24px\" viewBox=\"0 -960 960 960\">\n",
              "    <path d=\"M120-120v-720h720v720H120Zm60-500h600v-160H180v160Zm220 220h160v-160H400v160Zm0 220h160v-160H400v160ZM180-400h160v-160H180v160Zm440 0h160v-160H620v160ZM180-180h160v-160H180v160Zm440 0h160v-160H620v160Z\"/>\n",
              "  </svg>\n",
              "    </button>\n",
              "\n",
              "  <style>\n",
              "    .colab-df-container {\n",
              "      display:flex;\n",
              "      gap: 12px;\n",
              "    }\n",
              "\n",
              "    .colab-df-convert {\n",
              "      background-color: #E8F0FE;\n",
              "      border: none;\n",
              "      border-radius: 50%;\n",
              "      cursor: pointer;\n",
              "      display: none;\n",
              "      fill: #1967D2;\n",
              "      height: 32px;\n",
              "      padding: 0 0 0 0;\n",
              "      width: 32px;\n",
              "    }\n",
              "\n",
              "    .colab-df-convert:hover {\n",
              "      background-color: #E2EBFA;\n",
              "      box-shadow: 0px 1px 2px rgba(60, 64, 67, 0.3), 0px 1px 3px 1px rgba(60, 64, 67, 0.15);\n",
              "      fill: #174EA6;\n",
              "    }\n",
              "\n",
              "    .colab-df-buttons div {\n",
              "      margin-bottom: 4px;\n",
              "    }\n",
              "\n",
              "    [theme=dark] .colab-df-convert {\n",
              "      background-color: #3B4455;\n",
              "      fill: #D2E3FC;\n",
              "    }\n",
              "\n",
              "    [theme=dark] .colab-df-convert:hover {\n",
              "      background-color: #434B5C;\n",
              "      box-shadow: 0px 1px 3px 1px rgba(0, 0, 0, 0.15);\n",
              "      filter: drop-shadow(0px 1px 2px rgba(0, 0, 0, 0.3));\n",
              "      fill: #FFFFFF;\n",
              "    }\n",
              "  </style>\n",
              "\n",
              "    <script>\n",
              "      const buttonEl =\n",
              "        document.querySelector('#df-d89a61fa-56d9-4cdb-9a34-ae07e13773fb button.colab-df-convert');\n",
              "      buttonEl.style.display =\n",
              "        google.colab.kernel.accessAllowed ? 'block' : 'none';\n",
              "\n",
              "      async function convertToInteractive(key) {\n",
              "        const element = document.querySelector('#df-d89a61fa-56d9-4cdb-9a34-ae07e13773fb');\n",
              "        const dataTable =\n",
              "          await google.colab.kernel.invokeFunction('convertToInteractive',\n",
              "                                                    [key], {});\n",
              "        if (!dataTable) return;\n",
              "\n",
              "        const docLinkHtml = 'Like what you see? Visit the ' +\n",
              "          '<a target=\"_blank\" href=https://colab.research.google.com/notebooks/data_table.ipynb>data table notebook</a>'\n",
              "          + ' to learn more about interactive tables.';\n",
              "        element.innerHTML = '';\n",
              "        dataTable['output_type'] = 'display_data';\n",
              "        await google.colab.output.renderOutput(dataTable, element);\n",
              "        const docLink = document.createElement('div');\n",
              "        docLink.innerHTML = docLinkHtml;\n",
              "        element.appendChild(docLink);\n",
              "      }\n",
              "    </script>\n",
              "  </div>\n",
              "\n",
              "\n",
              "<div id=\"df-d058556d-992f-48d1-bac4-8dabb1498c0e\">\n",
              "  <button class=\"colab-df-quickchart\" onclick=\"quickchart('df-d058556d-992f-48d1-bac4-8dabb1498c0e')\"\n",
              "            title=\"Suggest charts.\"\n",
              "            style=\"display:none;\">\n",
              "\n",
              "<svg xmlns=\"http://www.w3.org/2000/svg\" height=\"24px\"viewBox=\"0 0 24 24\"\n",
              "     width=\"24px\">\n",
              "    <g>\n",
              "        <path d=\"M19 3H5c-1.1 0-2 .9-2 2v14c0 1.1.9 2 2 2h14c1.1 0 2-.9 2-2V5c0-1.1-.9-2-2-2zM9 17H7v-7h2v7zm4 0h-2V7h2v10zm4 0h-2v-4h2v4z\"/>\n",
              "    </g>\n",
              "</svg>\n",
              "  </button>\n",
              "\n",
              "<style>\n",
              "  .colab-df-quickchart {\n",
              "      --bg-color: #E8F0FE;\n",
              "      --fill-color: #1967D2;\n",
              "      --hover-bg-color: #E2EBFA;\n",
              "      --hover-fill-color: #174EA6;\n",
              "      --disabled-fill-color: #AAA;\n",
              "      --disabled-bg-color: #DDD;\n",
              "  }\n",
              "\n",
              "  [theme=dark] .colab-df-quickchart {\n",
              "      --bg-color: #3B4455;\n",
              "      --fill-color: #D2E3FC;\n",
              "      --hover-bg-color: #434B5C;\n",
              "      --hover-fill-color: #FFFFFF;\n",
              "      --disabled-bg-color: #3B4455;\n",
              "      --disabled-fill-color: #666;\n",
              "  }\n",
              "\n",
              "  .colab-df-quickchart {\n",
              "    background-color: var(--bg-color);\n",
              "    border: none;\n",
              "    border-radius: 50%;\n",
              "    cursor: pointer;\n",
              "    display: none;\n",
              "    fill: var(--fill-color);\n",
              "    height: 32px;\n",
              "    padding: 0;\n",
              "    width: 32px;\n",
              "  }\n",
              "\n",
              "  .colab-df-quickchart:hover {\n",
              "    background-color: var(--hover-bg-color);\n",
              "    box-shadow: 0 1px 2px rgba(60, 64, 67, 0.3), 0 1px 3px 1px rgba(60, 64, 67, 0.15);\n",
              "    fill: var(--button-hover-fill-color);\n",
              "  }\n",
              "\n",
              "  .colab-df-quickchart-complete:disabled,\n",
              "  .colab-df-quickchart-complete:disabled:hover {\n",
              "    background-color: var(--disabled-bg-color);\n",
              "    fill: var(--disabled-fill-color);\n",
              "    box-shadow: none;\n",
              "  }\n",
              "\n",
              "  .colab-df-spinner {\n",
              "    border: 2px solid var(--fill-color);\n",
              "    border-color: transparent;\n",
              "    border-bottom-color: var(--fill-color);\n",
              "    animation:\n",
              "      spin 1s steps(1) infinite;\n",
              "  }\n",
              "\n",
              "  @keyframes spin {\n",
              "    0% {\n",
              "      border-color: transparent;\n",
              "      border-bottom-color: var(--fill-color);\n",
              "      border-left-color: var(--fill-color);\n",
              "    }\n",
              "    20% {\n",
              "      border-color: transparent;\n",
              "      border-left-color: var(--fill-color);\n",
              "      border-top-color: var(--fill-color);\n",
              "    }\n",
              "    30% {\n",
              "      border-color: transparent;\n",
              "      border-left-color: var(--fill-color);\n",
              "      border-top-color: var(--fill-color);\n",
              "      border-right-color: var(--fill-color);\n",
              "    }\n",
              "    40% {\n",
              "      border-color: transparent;\n",
              "      border-right-color: var(--fill-color);\n",
              "      border-top-color: var(--fill-color);\n",
              "    }\n",
              "    60% {\n",
              "      border-color: transparent;\n",
              "      border-right-color: var(--fill-color);\n",
              "    }\n",
              "    80% {\n",
              "      border-color: transparent;\n",
              "      border-right-color: var(--fill-color);\n",
              "      border-bottom-color: var(--fill-color);\n",
              "    }\n",
              "    90% {\n",
              "      border-color: transparent;\n",
              "      border-bottom-color: var(--fill-color);\n",
              "    }\n",
              "  }\n",
              "</style>\n",
              "\n",
              "  <script>\n",
              "    async function quickchart(key) {\n",
              "      const quickchartButtonEl =\n",
              "        document.querySelector('#' + key + ' button');\n",
              "      quickchartButtonEl.disabled = true;  // To prevent multiple clicks.\n",
              "      quickchartButtonEl.classList.add('colab-df-spinner');\n",
              "      try {\n",
              "        const charts = await google.colab.kernel.invokeFunction(\n",
              "            'suggestCharts', [key], {});\n",
              "      } catch (error) {\n",
              "        console.error('Error during call to suggestCharts:', error);\n",
              "      }\n",
              "      quickchartButtonEl.classList.remove('colab-df-spinner');\n",
              "      quickchartButtonEl.classList.add('colab-df-quickchart-complete');\n",
              "    }\n",
              "    (() => {\n",
              "      let quickchartButtonEl =\n",
              "        document.querySelector('#df-d058556d-992f-48d1-bac4-8dabb1498c0e button');\n",
              "      quickchartButtonEl.style.display =\n",
              "        google.colab.kernel.accessAllowed ? 'block' : 'none';\n",
              "    })();\n",
              "  </script>\n",
              "</div>\n",
              "    </div>\n",
              "  </div>\n"
            ],
            "text/plain": [
              "     age  sex  chest_pain_type  resting_blood_pressure  cholesterol  \\\n",
              "142   52    1                3                   128.0        205.0   \n",
              "48    65    0                2                   140.0        417.0   \n",
              "86    47    1                2                   138.0        257.0   \n",
              "204   43    1                1                   110.0        211.0   \n",
              "227   67    0                2                   152.0        277.0   \n",
              "\n",
              "     fasting_blood_sugar  resting_electrocardiographic_results  \\\n",
              "142                    1                                     1   \n",
              "48                     1                                     0   \n",
              "86                     0                                     0   \n",
              "204                    0                                     1   \n",
              "227                    0                                     1   \n",
              "\n",
              "     max_heart_rate_achieved  exercise_induced_angina  st_depression  \\\n",
              "142                    184.0                        0            0.0   \n",
              "48                     157.0                        0            0.8   \n",
              "86                     156.0                        0            0.0   \n",
              "204                    161.0                        0            0.0   \n",
              "227                    172.0                        0            0.0   \n",
              "\n",
              "     st_slope_type  num_major_vessels  thalassemia_type  target  \n",
              "142              2                0.0                 1       0  \n",
              "48               2                1.0                 1       0  \n",
              "86               2                0.0                 1       0  \n",
              "204              2                0.0                 2       0  \n",
              "227              2                1.0                 1       0  "
            ]
          },
          "execution_count": 111,
          "metadata": {},
          "output_type": "execute_result"
        }
      ],
      "source": [
        "df3.head()"
      ]
    },
    {
      "cell_type": "code",
      "execution_count": 112,
      "metadata": {
        "id": "e1BKEn9G3l8Q"
      },
      "outputs": [],
      "source": [
        "from sklearn.model_selection import train_test_split\n",
        "\n",
        "X_train, X_test, Y_train, Y_test = train_test_split(X, Y, test_size=0.2, stratify=Y, random_state=2)"
      ]
    },
    {
      "cell_type": "code",
      "execution_count": 113,
      "metadata": {
        "colab": {
          "base_uri": "https://localhost:8080/"
        },
        "id": "ICvyoV1r3t6U",
        "outputId": "d803f494-d12c-4e18-9b5f-5fdf4a3bc9b2"
      },
      "outputs": [
        {
          "name": "stdout",
          "output_type": "stream",
          "text": [
            "(299, 13) (239, 13) (60, 13)\n"
          ]
        }
      ],
      "source": [
        "print(X.shape, X_train.shape, X_test.shape)"
      ]
    },
    {
      "cell_type": "code",
      "execution_count": 114,
      "metadata": {
        "id": "ZsNpW6nl3wTs"
      },
      "outputs": [],
      "source": [
        "from sklearn import svm\n",
        "from sklearn.metrics import accuracy_score"
      ]
    },
    {
      "cell_type": "code",
      "execution_count": 115,
      "metadata": {
        "id": "kkGM9mII3z_H"
      },
      "outputs": [],
      "source": [
        "model = svm.SVC(kernel= 'linear', C = 0.01)"
      ]
    },
    {
      "cell_type": "code",
      "execution_count": 116,
      "metadata": {
        "colab": {
          "base_uri": "https://localhost:8080/",
          "height": 74
        },
        "id": "YGFkQVkm4Dh_",
        "outputId": "f6bb6ba8-e516-4a2c-c627-c6a1f385e5aa"
      },
      "outputs": [
        {
          "data": {
            "text/html": [
              "<style>#sk-container-id-5 {color: black;background-color: white;}#sk-container-id-5 pre{padding: 0;}#sk-container-id-5 div.sk-toggleable {background-color: white;}#sk-container-id-5 label.sk-toggleable__label {cursor: pointer;display: block;width: 100%;margin-bottom: 0;padding: 0.3em;box-sizing: border-box;text-align: center;}#sk-container-id-5 label.sk-toggleable__label-arrow:before {content: \"▸\";float: left;margin-right: 0.25em;color: #696969;}#sk-container-id-5 label.sk-toggleable__label-arrow:hover:before {color: black;}#sk-container-id-5 div.sk-estimator:hover label.sk-toggleable__label-arrow:before {color: black;}#sk-container-id-5 div.sk-toggleable__content {max-height: 0;max-width: 0;overflow: hidden;text-align: left;background-color: #f0f8ff;}#sk-container-id-5 div.sk-toggleable__content pre {margin: 0.2em;color: black;border-radius: 0.25em;background-color: #f0f8ff;}#sk-container-id-5 input.sk-toggleable__control:checked~div.sk-toggleable__content {max-height: 200px;max-width: 100%;overflow: auto;}#sk-container-id-5 input.sk-toggleable__control:checked~label.sk-toggleable__label-arrow:before {content: \"▾\";}#sk-container-id-5 div.sk-estimator input.sk-toggleable__control:checked~label.sk-toggleable__label {background-color: #d4ebff;}#sk-container-id-5 div.sk-label input.sk-toggleable__control:checked~label.sk-toggleable__label {background-color: #d4ebff;}#sk-container-id-5 input.sk-hidden--visually {border: 0;clip: rect(1px 1px 1px 1px);clip: rect(1px, 1px, 1px, 1px);height: 1px;margin: -1px;overflow: hidden;padding: 0;position: absolute;width: 1px;}#sk-container-id-5 div.sk-estimator {font-family: monospace;background-color: #f0f8ff;border: 1px dotted black;border-radius: 0.25em;box-sizing: border-box;margin-bottom: 0.5em;}#sk-container-id-5 div.sk-estimator:hover {background-color: #d4ebff;}#sk-container-id-5 div.sk-parallel-item::after {content: \"\";width: 100%;border-bottom: 1px solid gray;flex-grow: 1;}#sk-container-id-5 div.sk-label:hover label.sk-toggleable__label {background-color: #d4ebff;}#sk-container-id-5 div.sk-serial::before {content: \"\";position: absolute;border-left: 1px solid gray;box-sizing: border-box;top: 0;bottom: 0;left: 50%;z-index: 0;}#sk-container-id-5 div.sk-serial {display: flex;flex-direction: column;align-items: center;background-color: white;padding-right: 0.2em;padding-left: 0.2em;position: relative;}#sk-container-id-5 div.sk-item {position: relative;z-index: 1;}#sk-container-id-5 div.sk-parallel {display: flex;align-items: stretch;justify-content: center;background-color: white;position: relative;}#sk-container-id-5 div.sk-item::before, #sk-container-id-5 div.sk-parallel-item::before {content: \"\";position: absolute;border-left: 1px solid gray;box-sizing: border-box;top: 0;bottom: 0;left: 50%;z-index: -1;}#sk-container-id-5 div.sk-parallel-item {display: flex;flex-direction: column;z-index: 1;position: relative;background-color: white;}#sk-container-id-5 div.sk-parallel-item:first-child::after {align-self: flex-end;width: 50%;}#sk-container-id-5 div.sk-parallel-item:last-child::after {align-self: flex-start;width: 50%;}#sk-container-id-5 div.sk-parallel-item:only-child::after {width: 0;}#sk-container-id-5 div.sk-dashed-wrapped {border: 1px dashed gray;margin: 0 0.4em 0.5em 0.4em;box-sizing: border-box;padding-bottom: 0.4em;background-color: white;}#sk-container-id-5 div.sk-label label {font-family: monospace;font-weight: bold;display: inline-block;line-height: 1.2em;}#sk-container-id-5 div.sk-label-container {text-align: center;}#sk-container-id-5 div.sk-container {/* jupyter's `normalize.less` sets `[hidden] { display: none; }` but bootstrap.min.css set `[hidden] { display: none !important; }` so we also need the `!important` here to be able to override the default hidden behavior on the sphinx rendered scikit-learn.org. See: https://github.com/scikit-learn/scikit-learn/issues/21755 */display: inline-block !important;position: relative;}#sk-container-id-5 div.sk-text-repr-fallback {display: none;}</style><div id=\"sk-container-id-5\" class=\"sk-top-container\"><div class=\"sk-text-repr-fallback\"><pre>SVC(C=0.01, kernel=&#x27;linear&#x27;)</pre><b>In a Jupyter environment, please rerun this cell to show the HTML representation or trust the notebook. <br />On GitHub, the HTML representation is unable to render, please try loading this page with nbviewer.org.</b></div><div class=\"sk-container\" hidden><div class=\"sk-item\"><div class=\"sk-estimator sk-toggleable\"><input class=\"sk-toggleable__control sk-hidden--visually\" id=\"sk-estimator-id-5\" type=\"checkbox\" checked><label for=\"sk-estimator-id-5\" class=\"sk-toggleable__label sk-toggleable__label-arrow\">SVC</label><div class=\"sk-toggleable__content\"><pre>SVC(C=0.01, kernel=&#x27;linear&#x27;)</pre></div></div></div></div></div>"
            ],
            "text/plain": [
              "SVC(C=0.01, kernel='linear')"
            ]
          },
          "execution_count": 116,
          "metadata": {},
          "output_type": "execute_result"
        }
      ],
      "source": [
        "#training the support vector machine classifier\n",
        "#uses both splitted data sets to train the model\n",
        "model.fit(X_train, Y_train)"
      ]
    },
    {
      "cell_type": "markdown",
      "metadata": {
        "id": "Z2Q7_FHU4Nbm"
      },
      "source": [
        "Evaluating the model"
      ]
    },
    {
      "cell_type": "code",
      "execution_count": 117,
      "metadata": {
        "id": "32fLAKEF4GOJ"
      },
      "outputs": [],
      "source": [
        "# calculating the accuracy score on the training data\n",
        "# Predicting all the labels in the training dataset and\n",
        "\n",
        "X_train_prediction = model.predict(X_train)\n",
        "\n",
        "# comparing the predicted data with the original y_train data set\n",
        "training_data_accuracy = accuracy_score(X_train_prediction, Y_train)"
      ]
    },
    {
      "cell_type": "code",
      "execution_count": 118,
      "metadata": {
        "colab": {
          "base_uri": "https://localhost:8080/"
        },
        "id": "XffbKxwQ4Tzi",
        "outputId": "92608a85-b864-44be-bc5a-c19fa481a3e2"
      },
      "outputs": [
        {
          "name": "stdout",
          "output_type": "stream",
          "text": [
            "[0 1 0 1 0 1 0 0 1 1 0 1 0 0 1 1 1 0 0 0 1 1 1 0 0 0 1 0 0 0 0 0 0 1 0 0 0\n",
            " 0 0 0 0 0 0 0 0 0 1 0 0 1 1 0 1 1 0 1 0 1 1 0 0 0 0 1 1 1 0 1 1 1 0 0 0 0\n",
            " 0 0 1 0 0 0 0 0 0 0 0 0 1 1 1 0 1 0 0 0 0 0 0 0 0 0 0 1 0 0 1 0 0 1 0 1 0\n",
            " 1 0 0 1 0 1 1 1 0 0 0 0 0 1 0 1 0 0 0 0 0 1 1 0 0 0 1 1 1 1 0 1 0 0 0 0 0\n",
            " 0 0 1 0 1 0 1 1 1 0 0 1 0 0 1 0 0 0 0 0 0 0 0 1 1 1 0 0 1 1 0 0 1 0 1 1 0\n",
            " 1 0 1 0 0 1 0 1 1 0 0 0 0 0 0 1 0 1 0 1 1 0 0 0 0 0 1 0 0 0 0 0 1 1 1 1 0\n",
            " 1 0 1 0 1 0 1 0 0 0 1 1 0 0 0 0 0]\n"
          ]
        }
      ],
      "source": [
        "print(X_train_prediction)"
      ]
    },
    {
      "cell_type": "code",
      "execution_count": 119,
      "metadata": {
        "colab": {
          "base_uri": "https://localhost:8080/"
        },
        "id": "uRxAIDJ04W0S",
        "outputId": "6b674210-f2a4-45b7-8e7a-978bc8c653f1"
      },
      "outputs": [
        {
          "name": "stdout",
          "output_type": "stream",
          "text": [
            "[0 1 0 1 0 1 1 0 1 1 0 1 0 0 1 1 1 0 0 0 1 1 1 1 0 1 1 0 1 0 1 1 1 1 0 0 0\n",
            " 0 0 0 0 0 0 0 1 0 1 0 0 1 1 1 1 1 0 1 0 1 1 0 0 0 0 1 1 1 1 1 1 1 0 0 0 0\n",
            " 0 0 1 0 1 0 0 0 1 0 0 1 1 1 1 0 1 0 0 1 0 0 0 0 0 1 0 1 0 0 1 0 1 1 0 1 0\n",
            " 1 0 0 1 0 1 1 1 0 0 0 0 1 1 0 1 0 0 1 0 0 1 1 0 0 0 0 0 1 1 0 0 0 0 0 0 0\n",
            " 0 1 1 0 1 0 1 1 1 0 1 1 0 0 1 0 0 0 0 1 1 0 1 1 1 0 0 0 1 1 1 0 0 0 1 1 1\n",
            " 0 1 1 0 0 1 0 0 1 0 0 0 1 0 0 1 0 1 0 1 1 0 0 1 1 0 0 1 1 0 0 0 0 1 1 1 0\n",
            " 0 0 1 0 1 1 1 0 0 0 1 1 1 1 0 0 1]\n"
          ]
        }
      ],
      "source": [
        "Y_train_data = np.array(Y_train)\n",
        "print(Y_train_data)"
      ]
    },
    {
      "cell_type": "code",
      "execution_count": 120,
      "metadata": {
        "colab": {
          "base_uri": "https://localhost:8080/"
        },
        "id": "VUsY1h3z4ery",
        "outputId": "4b078caf-65e9-4b60-b530-f5d4b85925ca"
      },
      "outputs": [
        {
          "name": "stdout",
          "output_type": "stream",
          "text": [
            "0.8117154811715481\n"
          ]
        }
      ],
      "source": [
        "print(training_data_accuracy)"
      ]
    },
    {
      "cell_type": "code",
      "execution_count": 121,
      "metadata": {
        "id": "PVGlnrWn4jpq"
      },
      "outputs": [],
      "source": [
        "#calculating the accuracy on the test data\n",
        "#predicting unknown data\n",
        "\n",
        "\n",
        "X_test_prediction = model.predict(X_test)\n",
        "test_data_accuracy = accuracy_score(X_test_prediction, Y_test)"
      ]
    },
    {
      "cell_type": "code",
      "execution_count": 122,
      "metadata": {
        "colab": {
          "base_uri": "https://localhost:8080/"
        },
        "id": "YRuf77ew4lO-",
        "outputId": "aa32f74f-c193-400b-b45c-3bc6854600bc"
      },
      "outputs": [
        {
          "name": "stdout",
          "output_type": "stream",
          "text": [
            "0.8\n"
          ]
        }
      ],
      "source": [
        "print(test_data_accuracy)"
      ]
    },
    {
      "cell_type": "code",
      "execution_count": 123,
      "metadata": {
        "id": "-Cud3rj14peT"
      },
      "outputs": [],
      "source": [
        "import matplotlib.pyplot as plt"
      ]
    },
    {
      "cell_type": "code",
      "execution_count": 124,
      "metadata": {
        "id": "EIPXUsVp4tuh"
      },
      "outputs": [],
      "source": [
        "# Display the comparison using a bar chart\n",
        "labels = ['Training Accuracy', 'Test Accuracy']\n",
        "accuracy_scores = [training_data_accuracy, test_data_accuracy]"
      ]
    },
    {
      "cell_type": "code",
      "execution_count": 125,
      "metadata": {
        "colab": {
          "base_uri": "https://localhost:8080/",
          "height": 452
        },
        "id": "q2-rZTz14xH6",
        "outputId": "fea27854-28c1-4a8d-953a-47b519d6d62b"
      },
      "outputs": [
        {
          "data": {
            "image/png": "[encoded data removed]",
            "text/plain": [
              "<Figure size 640x480 with 1 Axes>"
            ]
          },
          "metadata": {},
          "output_type": "display_data"
        }
      ],
      "source": [
        "plt.bar(labels, accuracy_scores, color=['blue', 'green'])\n",
        "plt.ylabel('Accuracy')\n",
        "plt.title('Training vs Test Data Accuracy')\n",
        "plt.ylim(0, 1)  # Set y-axis limit from 0 to 1 for accuracy values\n",
        "plt.show()"
      ]
    },
    {
      "cell_type": "code",
      "execution_count": 126,
      "metadata": {
        "id": "z_Hul3ER41wm"
      },
      "outputs": [],
      "source": [
        "from sklearn.metrics import confusion_matrix"
      ]
    },
    {
      "cell_type": "code",
      "execution_count": 127,
      "metadata": {
        "colab": {
          "base_uri": "https://localhost:8080/"
        },
        "id": "cfahSubX42N4",
        "outputId": "2fe14549-8bfb-44c9-caf5-9e2fc371b347"
      },
      "outputs": [
        {
          "name": "stdout",
          "output_type": "stream",
          "text": [
            "Confusion Matrix:\n",
            "[[27  5]\n",
            " [ 7 21]]\n"
          ]
        }
      ],
      "source": [
        "# Calculate the confusion matrix\n",
        "conf_matrix = confusion_matrix(Y_test, X_test_prediction)\n",
        "\n",
        "print(\"Confusion Matrix:\")\n",
        "print(conf_matrix)"
      ]
    },
    {
      "cell_type": "code",
      "execution_count": 128,
      "metadata": {
        "id": "AYL0-daJ47DX"
      },
      "outputs": [],
      "source": [
        "from sklearn.metrics import precision_score, recall_score"
      ]
    },
    {
      "cell_type": "markdown",
      "metadata": {
        "id": "QUpJi1DN5R7j"
      },
      "source": [
        "Calculate Recall and Precision"
      ]
    },
    {
      "cell_type": "code",
      "execution_count": 129,
      "metadata": {
        "colab": {
          "base_uri": "https://localhost:8080/"
        },
        "id": "ujtwrDK_49lu",
        "outputId": "d4242b98-4066-4e81-f279-60323bff8786"
      },
      "outputs": [
        {
          "name": "stdout",
          "output_type": "stream",
          "text": [
            "Precision: 0.8076923076923077\n",
            "Recall: 0.75\n"
          ]
        }
      ],
      "source": [
        "# Calculate precision and recall\n",
        "precision = precision_score(Y_test, X_test_prediction)\n",
        "recall = recall_score(Y_test, X_test_prediction)\n",
        "\n",
        "print(\"Precision:\", precision)\n",
        "print(\"Recall:\", recall)"
      ]
    }
  ],
  "metadata": {
    "colab": {
      "provenance": []
    },
    "kernelspec": {
      "display_name": "Python 3",
      "name": "python3"
    },
    "language_info": {
      "name": "python"
    }
  },
  "nbformat": 4,
  "nbformat_minor": 0
}
